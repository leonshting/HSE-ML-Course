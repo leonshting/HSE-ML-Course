{
 "cells": [
  {
   "cell_type": "markdown",
   "metadata": {
    "slideshow": {
     "slide_type": "slide"
    }
   },
   "source": [
    "# Going deeper with Tensorflow\n",
    "\n",
    "In this video, we're going to study the tools you'll use to build deep learning models. Namely, [Tensorflow](https://www.tensorflow.org/).\n",
    "\n",
    "If you're running this notebook outside the course environment, you'll need to install tensorflow:\n",
    "* `pip install tensorflow` should install cpu-only TF on Linux & Mac OS\n",
    "* If you want GPU support from offset, see [TF install page](https://www.tensorflow.org/install/)"
   ]
  },
  {
   "cell_type": "code",
   "execution_count": 1,
   "metadata": {
    "collapsed": true
   },
   "outputs": [],
   "source": [
    "import sys\n",
    "sys.path.append(\"..\")\n",
    "import grading"
   ]
  },
  {
   "cell_type": "markdown",
   "metadata": {},
   "source": [
    "# Visualization"
   ]
  },
  {
   "cell_type": "markdown",
   "metadata": {},
   "source": [
    "Plase note that if you are running on the Coursera platform, you won't be able to access the tensorboard instance due to the network setup there. If you run the notebook locally, you should be able to access TensorBoard on http://127.0.0.1:7007/"
   ]
  },
  {
   "cell_type": "code",
   "execution_count": 2,
   "metadata": {},
   "outputs": [
    {
     "name": "stdout",
     "output_type": "stream",
     "text": [
      "/bin/sh: 1: killall: not found\r\n"
     ]
    }
   ],
   "source": [
    "! killall tensorboard\n",
    "import os\n",
    "os.system(\"tensorboard --logdir=/tmp/tboard --port=7007 &\");"
   ]
  },
  {
   "cell_type": "code",
   "execution_count": 3,
   "metadata": {
    "collapsed": true
   },
   "outputs": [],
   "source": [
    "import tensorflow as tf\n",
    "s = tf.InteractiveSession()"
   ]
  },
  {
   "cell_type": "markdown",
   "metadata": {},
   "source": [
    "# Warming up\n",
    "For starters, let's implement a python function that computes the sum of squares of numbers from 0 to N-1."
   ]
  },
  {
   "cell_type": "code",
   "execution_count": 4,
   "metadata": {
    "collapsed": true
   },
   "outputs": [],
   "source": [
    "import numpy as np\n",
    "def sum_sin(N):\n",
    "    return np.sum(np.arange(N)**2)"
   ]
  },
  {
   "cell_type": "code",
   "execution_count": 5,
   "metadata": {},
   "outputs": [
    {
     "name": "stdout",
     "output_type": "stream",
     "text": [
      "CPU times: user 296 ms, sys: 312 ms, total: 608 ms\n",
      "Wall time: 704 ms\n"
     ]
    },
    {
     "data": {
      "text/plain": [
       "662921401752298880"
      ]
     },
     "execution_count": 5,
     "metadata": {},
     "output_type": "execute_result"
    }
   ],
   "source": [
    "%%time\n",
    "sum_sin(10**8)"
   ]
  },
  {
   "cell_type": "markdown",
   "metadata": {},
   "source": [
    "# Tensoflow teaser\n",
    "\n",
    "Doing the very same thing"
   ]
  },
  {
   "cell_type": "code",
   "execution_count": 6,
   "metadata": {
    "collapsed": true
   },
   "outputs": [],
   "source": [
    "# An integer parameter\n",
    "N = tf.placeholder('int64', name=\"input_to_your_function\")\n",
    "\n",
    "# A recipe on how to produce the same result\n",
    "result = tf.reduce_sum(tf.range(N)**2)"
   ]
  },
  {
   "cell_type": "code",
   "execution_count": 7,
   "metadata": {},
   "outputs": [
    {
     "data": {
      "text/plain": [
       "<tf.Tensor 'Sum:0' shape=() dtype=int64>"
      ]
     },
     "execution_count": 7,
     "metadata": {},
     "output_type": "execute_result"
    }
   ],
   "source": [
    "result"
   ]
  },
  {
   "cell_type": "code",
   "execution_count": 8,
   "metadata": {},
   "outputs": [
    {
     "name": "stdout",
     "output_type": "stream",
     "text": [
      "CPU times: user 440 ms, sys: 124 ms, total: 564 ms\n",
      "Wall time: 422 ms\n"
     ]
    },
    {
     "data": {
      "text/plain": [
       "662921401752298880"
      ]
     },
     "execution_count": 8,
     "metadata": {},
     "output_type": "execute_result"
    }
   ],
   "source": [
    "%%time\n",
    "result.eval({N: 10**8})"
   ]
  },
  {
   "cell_type": "code",
   "execution_count": 9,
   "metadata": {
    "collapsed": true
   },
   "outputs": [],
   "source": [
    "writer = tf.summary.FileWriter(\"/tmp/tboard\", graph=s.graph)"
   ]
  },
  {
   "cell_type": "markdown",
   "metadata": {},
   "source": [
    "# How does it work?\n",
    "1. Define placeholders where you'll send inputs\n",
    "2. Make symbolic graph: a recipe for mathematical transformation of those placeholders\n",
    "3. Compute outputs of your graph with particular values for each placeholder\n",
    "  * `output.eval({placeholder:value})`\n",
    "  * `s.run(output, {placeholder:value})`\n",
    "\n",
    "So far there are two main entities: \"placeholder\" and \"transformation\"\n",
    "* Both can be numbers, vectors, matrices, tensors, etc.\n",
    "* Both can be int32/64, floats, booleans (uint8) of various size.\n",
    "\n",
    "* You can define new transformations as an arbitrary operation on placeholders and other transformations\n",
    " * `tf.reduce_sum(tf.arange(N)**2)` are 3 sequential transformations of placeholder `N`\n",
    " * There's a tensorflow symbolic version for every numpy function\n",
    "   * `a+b, a/b, a**b, ...` behave just like in numpy\n",
    "   * `np.mean` -> `tf.reduce_mean`\n",
    "   * `np.arange` -> `tf.range`\n",
    "   * `np.cumsum` -> `tf.cumsum`\n",
    "   * If if you can't find the op you need, see the [docs](https://www.tensorflow.org/api_docs/python).\n",
    "   \n",
    "`tf.contrib` has many high-level features, may be worth a look."
   ]
  },
  {
   "cell_type": "code",
   "execution_count": 10,
   "metadata": {
    "collapsed": true
   },
   "outputs": [],
   "source": [
    "with tf.name_scope(\"Placeholders_examples\"):\n",
    "    # Default placeholder that can be arbitrary float32\n",
    "    # scalar, vertor, matrix, etc.\n",
    "    arbitrary_input = tf.placeholder('float32')\n",
    "\n",
    "    # Input vector of arbitrary length\n",
    "    input_vector = tf.placeholder('float32', shape=(None,))\n",
    "\n",
    "    # Input vector that _must_ have 10 elements and integer type\n",
    "    fixed_vector = tf.placeholder('int32', shape=(10,))\n",
    "\n",
    "    # Matrix of arbitrary n_rows and 15 columns\n",
    "    # (e.g. a minibatch your data table)\n",
    "    input_matrix = tf.placeholder('float32', shape=(None, 15))\n",
    "    \n",
    "    # You can generally use None whenever you don't need a specific shape\n",
    "    input1 = tf.placeholder('float64', shape=(None, 100, None))\n",
    "    input2 = tf.placeholder('int32', shape=(None, None, 3, 224, 224))\n",
    "\n",
    "    # elementwise multiplication\n",
    "    double_the_vector = input_vector*2\n",
    "\n",
    "    # elementwise cosine\n",
    "    elementwise_cosine = tf.cos(input_vector)\n",
    "\n",
    "    # difference between squared vector and vector itself plus one\n",
    "    vector_squares = input_vector**2 - input_vector + 1"
   ]
  },
  {
   "cell_type": "code",
   "execution_count": 11,
   "metadata": {
    "collapsed": true
   },
   "outputs": [],
   "source": [
    "my_vector =  tf.placeholder('float32', shape=(None,), name=\"VECTOR_1\")\n",
    "my_vector2 = tf.placeholder('float32', shape=(None,))\n",
    "my_transformation = my_vector * my_vector2 / (tf.sin(my_vector) + 1)"
   ]
  },
  {
   "cell_type": "code",
   "execution_count": 12,
   "metadata": {},
   "outputs": [
    {
     "name": "stdout",
     "output_type": "stream",
     "text": [
      "Tensor(\"truediv:0\", shape=(?,), dtype=float32)\n"
     ]
    }
   ],
   "source": [
    "print(my_transformation)"
   ]
  },
  {
   "cell_type": "code",
   "execution_count": 13,
   "metadata": {},
   "outputs": [
    {
     "name": "stdout",
     "output_type": "stream",
     "text": [
      "[ 0.  1.  2.  3.  4.]\n"
     ]
    },
    {
     "data": {
      "text/plain": [
       "array([ 0.        ,  1.62913239,  2.09501147,  2.62899613,  0.        ], dtype=float32)"
      ]
     },
     "execution_count": 13,
     "metadata": {},
     "output_type": "execute_result"
    }
   ],
   "source": [
    "dummy = np.arange(5).astype('float32')\n",
    "print(dummy)\n",
    "my_transformation.eval({my_vector:dummy, my_vector2:dummy[::-1]})"
   ]
  },
  {
   "cell_type": "code",
   "execution_count": 14,
   "metadata": {
    "collapsed": true
   },
   "outputs": [],
   "source": [
    "writer.add_graph(my_transformation.graph)\n",
    "writer.flush()"
   ]
  },
  {
   "cell_type": "markdown",
   "metadata": {},
   "source": [
    "TensorBoard allows writing scalars, images, audio, histogram. You can read more on tensorboard usage [here](https://www.tensorflow.org/get_started/graph_viz)."
   ]
  },
  {
   "cell_type": "markdown",
   "metadata": {},
   "source": [
    "# Summary\n",
    "* Tensorflow is based on computation graphs\n",
    "* The graphs consist of placehlders and transformations"
   ]
  },
  {
   "cell_type": "markdown",
   "metadata": {},
   "source": [
    "# Mean squared error\n",
    "\n",
    "Your assignment is to implement mean squared error in tensorflow."
   ]
  },
  {
   "cell_type": "code",
   "execution_count": 20,
   "metadata": {},
   "outputs": [],
   "source": [
    "with tf.name_scope(\"MSE\"):\n",
    "    y_true = tf.placeholder(\"float32\", shape=(None,), name=\"y_true\")\n",
    "    y_predicted = tf.placeholder(\"float32\", shape=(None,), name=\"y_predicted\")\n",
    "    # Your code goes here\n",
    "    # You want to use tf.reduce_mean\n",
    "    mse = tf.reduce_mean((y_true - y_predicted) ** 2)\n",
    "    \n",
    "def compute_mse(vector1, vector2):\n",
    "    return mse.eval({y_true: vector1, y_predicted: vector2})"
   ]
  },
  {
   "cell_type": "code",
   "execution_count": 21,
   "metadata": {
    "collapsed": true
   },
   "outputs": [],
   "source": [
    "writer.add_graph(mse.graph)\n",
    "writer.flush()"
   ]
  },
  {
   "cell_type": "markdown",
   "metadata": {},
   "source": [
    "Tests and result submission. Please use the credentials obtained from the Coursera assignment page."
   ]
  },
  {
   "cell_type": "code",
   "execution_count": 22,
   "metadata": {
    "collapsed": true
   },
   "outputs": [],
   "source": [
    "import submit"
   ]
  },
  {
   "cell_type": "code",
   "execution_count": 23,
   "metadata": {},
   "outputs": [
    {
     "name": "stdout",
     "output_type": "stream",
     "text": [
      "Submitted to Coursera platform. See results on assignment page!\n"
     ]
    }
   ],
   "source": [
    "submit.submit_mse(compute_mse, \"leonshting@gmail.com\", \"ksriboDuaqE7tLm4\")"
   ]
  },
  {
   "cell_type": "markdown",
   "metadata": {},
   "source": [
    "# Variables\n",
    "\n",
    "The inputs and transformations have no value outside function call. This isn't too comfortable if you want your model to have parameters (e.g. network weights) that are always present, but can change their value over time.\n",
    "\n",
    "Tensorflow solves this with `tf.Variable` objects.\n",
    "* You can assign variable a value at any time in your graph\n",
    "* Unlike placeholders, there's no need to explicitly pass values to variables when `s.run(...)`-ing\n",
    "* You can use variables the same way you use transformations \n",
    " "
   ]
  },
  {
   "cell_type": "code",
   "execution_count": 24,
   "metadata": {
    "collapsed": true
   },
   "outputs": [],
   "source": [
    "# Creating a shared variable\n",
    "shared_vector_1 = tf.Variable(initial_value=np.ones(5),\n",
    "                              name=\"example_variable\")"
   ]
  },
  {
   "cell_type": "code",
   "execution_count": 25,
   "metadata": {},
   "outputs": [
    {
     "name": "stdout",
     "output_type": "stream",
     "text": [
      "Initial value [ 1.  1.  1.  1.  1.]\n"
     ]
    }
   ],
   "source": [
    "# Initialize variable(s) with initial values\n",
    "s.run(tf.global_variables_initializer())\n",
    "\n",
    "# Evaluating shared variable (outside symbolicd graph)\n",
    "print(\"Initial value\", s.run(shared_vector_1))\n",
    "\n",
    "# Within symbolic graph you use them just\n",
    "# as any other inout or transformation, not \"get value\" needed"
   ]
  },
  {
   "cell_type": "code",
   "execution_count": 26,
   "metadata": {},
   "outputs": [
    {
     "name": "stdout",
     "output_type": "stream",
     "text": [
      "New value [ 0.  1.  2.  3.  4.]\n"
     ]
    }
   ],
   "source": [
    "# Setting a new value\n",
    "s.run(shared_vector_1.assign(np.arange(5)))\n",
    "\n",
    "# Getting that new value\n",
    "print(\"New value\", s.run(shared_vector_1))"
   ]
  },
  {
   "cell_type": "markdown",
   "metadata": {},
   "source": [
    "# tf.gradients - why graphs matter\n",
    "* Tensorflow can compute derivatives and gradients automatically using the computation graph\n",
    "* True to its name it can manage matrix derivatives\n",
    "* Gradients are computed as a product of elementary derivatives via the chain rule:\n",
    "\n",
    "$$ {\\partial f(g(x)) \\over \\partial x} = {\\partial f(g(x)) \\over \\partial g(x)}\\cdot {\\partial g(x) \\over \\partial x} $$\n",
    "\n",
    "It can get you the derivative of any graph as long as it knows how to differentiate elementary operations"
   ]
  },
  {
   "cell_type": "code",
   "execution_count": 27,
   "metadata": {
    "collapsed": true
   },
   "outputs": [],
   "source": [
    "my_scalar = tf.placeholder('float32')\n",
    "\n",
    "scalar_squared = my_scalar**2\n",
    "\n",
    "# A derivative of scalar_squared by my_scalar\n",
    "derivative = tf.gradients(scalar_squared, [my_scalar, ])"
   ]
  },
  {
   "cell_type": "code",
   "execution_count": 28,
   "metadata": {},
   "outputs": [
    {
     "data": {
      "text/plain": [
       "[<tf.Tensor 'gradients/pow_1_grad/Reshape:0' shape=<unknown> dtype=float32>]"
      ]
     },
     "execution_count": 28,
     "metadata": {},
     "output_type": "execute_result"
    }
   ],
   "source": [
    "derivative"
   ]
  },
  {
   "cell_type": "code",
   "execution_count": 29,
   "metadata": {},
   "outputs": [
    {
     "data": {
      "image/png": "[encoded data removed]",
      "text/plain": [
       "<matplotlib.figure.Figure at 0x7f79be760278>"
      ]
     },
     "metadata": {},
     "output_type": "display_data"
    }
   ],
   "source": [
    "import matplotlib.pyplot as plt\n",
    "%matplotlib inline\n",
    "\n",
    "x = np.linspace(-3, 3)\n",
    "x_squared, x_squared_der = s.run([scalar_squared, derivative[0]],\n",
    "                                 {my_scalar:x})\n",
    "\n",
    "plt.plot(x, x_squared,label=\"$x^2$\")\n",
    "plt.plot(x, x_squared_der, label=r\"$\\frac{dx^2}{dx}$\")\n",
    "plt.legend();"
   ]
  },
  {
   "cell_type": "markdown",
   "metadata": {},
   "source": [
    "# Why that rocks"
   ]
  },
  {
   "cell_type": "code",
   "execution_count": 30,
   "metadata": {
    "collapsed": true
   },
   "outputs": [],
   "source": [
    "my_vector = tf.placeholder('float32', [None])\n",
    "# Compute the gradient of the next weird function over my_scalar and my_vector\n",
    "# Warning! Trying to understand the meaning of that function may result in permanent brain damage\n",
    "weird_psychotic_function = tf.reduce_mean(\n",
    "    (my_vector+my_scalar)**(1+tf.nn.moments(my_vector,[0])[1]) + \n",
    "    1./ tf.atan(my_scalar))/(my_scalar**2 + 1) + 0.01*tf.sin(\n",
    "    2*my_scalar**1.5)*(tf.reduce_sum(my_vector)* my_scalar**2\n",
    "                      )*tf.exp((my_scalar-4)**2)/(\n",
    "    1+tf.exp((my_scalar-4)**2))*(1.-(tf.exp(-(my_scalar-4)**2)\n",
    "                                    )/(1+tf.exp(-(my_scalar-4)**2)))**2\n",
    "\n",
    "der_by_scalar = tf.gradients(weird_psychotic_function, my_scalar)\n",
    "der_by_vector = tf.gradients(weird_psychotic_function, my_vector)"
   ]
  },
  {
   "cell_type": "code",
   "execution_count": 31,
   "metadata": {},
   "outputs": [
    {
     "data": {
      "image/png": "[encoded data removed]",
      "text/plain": [
       "<matplotlib.figure.Figure at 0x7f79be1542e8>"
      ]
     },
     "metadata": {},
     "output_type": "display_data"
    }
   ],
   "source": [
    "# Plotting the derivative\n",
    "scalar_space = np.linspace(1, 7, 100)\n",
    "\n",
    "y = [s.run(weird_psychotic_function, {my_scalar:x, my_vector:[1, 2, 3]})\n",
    "     for x in scalar_space]\n",
    "\n",
    "plt.plot(scalar_space, y, label='function')\n",
    "\n",
    "y_der_by_scalar = [s.run(der_by_scalar,\n",
    "                         {my_scalar:x, my_vector:[1, 2, 3]})\n",
    "                   for x in scalar_space]\n",
    "\n",
    "plt.plot(scalar_space, y_der_by_scalar, label='derivative')\n",
    "plt.grid()\n",
    "plt.legend();"
   ]
  },
  {
   "cell_type": "markdown",
   "metadata": {},
   "source": [
    "# Almost done - optimizers\n",
    "\n",
    "While you can perform gradient descent by hand with automatic grads from above, tensorflow also has some optimization methods implemented for you. Recall momentum & rmsprop?"
   ]
  },
  {
   "cell_type": "code",
   "execution_count": 32,
   "metadata": {
    "collapsed": true
   },
   "outputs": [],
   "source": [
    "y_guess = tf.Variable(np.zeros(2, dtype='float32'))\n",
    "y_true = tf.range(1, 3, dtype='float32')\n",
    "loss = tf.reduce_mean((y_guess - y_true + tf.random_normal([2]))**2) \n",
    "#loss = tf.reduce_mean((y_guess - y_true)**2) \n",
    "optimizer = tf.train.MomentumOptimizer(0.01, 0.5).minimize(\n",
    "    loss, var_list=y_guess)"
   ]
  },
  {
   "cell_type": "code",
   "execution_count": 33,
   "metadata": {},
   "outputs": [
    {
     "data": {
      "image/png": "[encoded data removed]",
      "text/plain": [
       "<matplotlib.figure.Figure at 0x7f79bd39bba8>"
      ]
     },
     "metadata": {},
     "output_type": "display_data"
    }
   ],
   "source": [
    "from matplotlib import animation, rc\n",
    "import matplotlib_utils\n",
    "from IPython.display import HTML, display_html\n",
    "\n",
    "fig, ax = plt.subplots()\n",
    "y_true_value = s.run(y_true)\n",
    "level_x = np.arange(0, 2, 0.02)\n",
    "level_y = np.arange(0, 3, 0.02)\n",
    "X, Y = np.meshgrid(level_x, level_y)\n",
    "Z = (X - y_true_value[0])**2 + (Y - y_true_value[1])**2\n",
    "ax.set_xlim(-0.02, 2)\n",
    "ax.set_ylim(-0.02, 3)\n",
    "s.run(tf.global_variables_initializer())\n",
    "ax.scatter(*s.run(y_true), c='red')\n",
    "contour = ax.contour(X, Y, Z, 10)\n",
    "ax.clabel(contour, inline=1, fontsize=10)\n",
    "line, = ax.plot([], [], lw=2)\n",
    "\n",
    "def init():\n",
    "    line.set_data([], [])\n",
    "    return (line,)\n",
    "\n",
    "guesses = [s.run(y_guess)]\n",
    "\n",
    "def animate(i):\n",
    "    s.run(optimizer)\n",
    "    guesses.append(s.run(y_guess))\n",
    "    line.set_data(*zip(*guesses))\n",
    "    return (line,)\n",
    "\n",
    "anim = animation.FuncAnimation(fig, animate, init_func=init,\n",
    "                               frames=400, interval=20, blit=True)"
   ]
  },
  {
   "cell_type": "code",
   "execution_count": 34,
   "metadata": {},
   "outputs": [
    {
     "data": {
      "text/html": [
       "<img src=\"data:image/jpeg;base64,/9j/4AAQSkZJRgABAQAAAQABAAD/2wBDAAIBAQEBAQIBAQECAgICAgQDAgICAgUEBAMEBgUGBgYFBgYGBwkIBgcJBwYGCAsICQoKCgoKBggLDAsKDAkKCgr/2wBDAQICAgICAgUDAwUKBwYHCgoKCgoKCgoKCgoKCgoKCgoKCgoKCgoKCgoKCgoKCgoKCgoKCgoKCgoKCgoKCgoKCgr/wAARCAEgAbADASIAAhEBAxEB/8QAHwAAAQUBAQEBAQEAAAAAAAAAAAECAwQFBgcICQoL/8QAtRAAAgEDAwIEAwUFBAQAAAF9AQIDAAQRBRIhMUEGE1FhByJxFDKBkaEII0KxwRVS0fAkM2JyggkKFhcYGRolJicoKSo0NTY3ODk6Q0RFRkdISUpTVFVWV1hZWmNkZWZnaGlqc3R1dnd4eXqDhIWGh4iJipKTlJWWl5iZmqKjpKWmp6ipqrKztLW2t7i5usLDxMXGx8jJytLT1NXW19jZ2uHi4%2BTl5ufo6erx8vP09fb3%2BPn6/8QAHwEAAwEBAQEBAQEBAQAAAAAAAAECAwQFBgcICQoL/8QAtREAAgECBAQDBAcFBAQAAQJ3AAECAxEEBSExBhJBUQdhcRMiMoEIFEKRobHBCSMzUvAVYnLRChYkNOEl8RcYGRomJygpKjU2Nzg5OkNERUZHSElKU1RVVldYWVpjZGVmZ2hpanN0dXZ3eHl6goOEhYaHiImKkpOUlZaXmJmaoqOkpaanqKmqsrO0tba3uLm6wsPExcbHyMnK0tPU1dbX2Nna4uPk5ebn6Onq8vP09fb3%2BPn6/9oADAMBAAIRAxEAPwD9/KKKKACiiigAooooAKKKKACiiigAooooAKKKKACiiigAooooAKKKKACiiigAooooAKKKKACiiigAooooAKKKKACiiigAooooAKKKKACiiigAooooAKKKKACiiigAooooAKKKKACiiigAooooAKKKKACiiigAorj/AAR%2B0J8A/iZ431n4Z/Dj44eD/EHiTw5JJH4h8P6J4ltbu%2B0t0kMTrcQRSNJAVkBQh1GGG088VZtfjb8Gb74p3PwLsvi54Ym8b2dgL288HRa/btqsFqQpE72gfzljIdPnK7fmXnkUAdPRRRQAUUUUAFFFFABRRRQAUUUUAFFFFABRRRQAUUUUAFFFFABRRRQAUUUUAFFFFABRRRQAUUUUAFFFFABRRRQAUUUUAFFFFABRRRQAUUUUAFFFFABRRRQAUUUUAFFFFABRRRQAUUUUAfIz%2BIrvxH/wUT0j40aVp3xZ1nw/4Z8I6/pWr2XiP4WX%2Bn6b4Ukmn0yMNpUo06CbVWu5bUtJiS%2BRUQyxvbxjbLy/g74f/EGL9qTw98N5fhR4oh17Qf2nfEnj3WvGcvhq6TSpvDt5oWp29tImpmP7NPIVvbDT/sqyGZPszMYxHCr19w0UAeIftr%2BO/wBp34WeFtF8bfAPx94D022ufF/hzw/qFj4v8B3uqyO%2Bq67Y6X9ojlttVsxGIkvDJ5ZR95jA3oDkWf8AhB/%2BChf/AEdB8Gf/AAw%2Brf8AzUUft4f8kQ0P/ss3w4/9TXRK9moA8Z/4Qf8A4KF/9HQfBn/ww%2Brf/NRVbWdA/bz8OaRdeIPEP7W3wQsLCyt3nvb29%2BB2qRQ28SAs0ju3ikKigAkkkAAZrtvhz8ddL%2BIPxC8S/DO58F65oGp%2BHTHIkWuxQx/2nZvJNEt5biOVy0JlglTLBW4UlQHUnwnxj4Y%2BMnh7SfE/w8%2BNujX%2BsaZ8RPFEvhqz8ZS%2BM3nuFS8eQ2EkOlRwrDawQsyQuY2EpCNOwKqSOulhHOfLN2emnVp9tbOyu/6dsZ1Uo3Svv/X3lHxB8b/27NYt/Cy/AD9pj4A%2BOLnxXqV3bWWPhRqtnboLWBp58y/8JHKfNCqAsRUFtwJKoC47H4Paz%2B3j8Zfh1p3xD0P9pT4RWkd4JYrqwvPgJqyz2V1DK8FxbSj/AISjiSKaOSNscbkOOKzfC3wc%2BK/xk%2BI914s8Z%2BCNU8Aatplhpl2de32sscviW1M0TXVtHHI3m272k8sT7wm%2BO5ZPvLlPb/gn8K5vhL4RuNG1LxGNX1PUtYvNV1nU0sVtUuLu5lMkjJCpYRoMgBdzHC5LMSSdcTTwtKlyxfvffvfqtNrbWflrpNKVWUrvb%2BvmeEeBx/wWR8RfFHWNF8XeKPgJ4e8H2FxPDpniCf4dapc32qbWxHMlnF4gKRRuAW/eThxkZTOcegf8IP8A8FC/%2BjoPgz/4YfVv/mor2aiuKclN3UUvS/6tm0U0tXc8Z/4Qf/goX/0dB8Gf/DD6t/8ANRR/wg//AAUL/wCjoPgz/wCGH1b/AOaivZqw/iF8T/ht8JPDsni/4qfEDRPDWlQ/63Ute1SGzgXjODJKyrn8amMZSdoq7K3PNf8AhB/%2BChf/AEdB8Gf/AAw%2Brf8AzUUf8IP/AMFC/wDo6D4M/wDhh9W/%2BaiuQn/4Kh/BjxncPpn7Lfwu%2BInxlulcx/afAPhOX%2BzEkzgB9SvDBaBf9pZH78HFNHiv/gqv8XOfD3wo%2BFXwe0%2BX5Wl8V65ceJtVjH98QWQgtVb2M7jPr1rs/s/ER/i2h/iaT%2B7WX/kpfJLrodj/AMIP/wAFC/8Ao6D4M/8Ahh9W/wDmorK8XH9tXwBpZ1vx5%2B2j8BNEsl%2B9eav8F9Stoh/wOTxUB%2BtYn/DB3xr%2BIH779or/AIKJfFfXc8PpvgZ7TwnYsvdStjGbgj63BODyTWt4R/4JZ/sB%2BE9UGv3H7NOh%2BItT6vqnjiWfX7h267i%2BoyTHOeeMY7Yo9lgYfHVcv8Mf1k1%2BQWgup4x4q/4KMP4T1I6Kf%2BCo37O2tXwyBZeD/gRrmuzE%2BgTTvEs5J7YxWb/w3d%2B3rr//ACSnwjrXi1H/AOPe8tP2O9a022l9CJdT8W2w2%2B/P0r7m8K%2BCvBvgTTRovgjwlpmjWa/dtNKsI7eIf8BjUD9K06Pa4CPw0pP1lb8Ix/ULw7HwPH8av%2BDgjxA4bwj%2BzN8I7OBz8k3jHRfsJx6lLTxNeMv0IzXffCy1/wCC7ev%2BI7T/AIW94p/ZT8N6I%2B77ZLo/hPxHqd9F8jbdsTalBE3z7QcyjAJPJAB%2BuqKieIpSjaNKK/8AAm/xl%2BgnJdjxn/hB/wDgoX/0dB8Gf/DD6t/81FH/AAg//BQv/o6D4M/%2BGH1b/wCaivZqK5STxn/hB/8AgoX/ANHQfBn/AMMPq3/zUUf8IP8A8FC/%2BjoPgz/4YfVv/mor2aigDxn/AIQf/goX/wBHQfBn/wAMPq3/AM1FH/CD/wDBQv8A6Og%2BDP8A4YfVv/mor2aigDxn/hB/%2BChf/R0HwZ/8MPq3/wA1FH/CD/8ABQvt%2B1B8Gf8Aww%2Brf/NRXs1FAHxJ4k1P/g4i8P7pdK0j9kfX0H3E0%2Bw8RW8jD3E96qg/8CNYI/aJ/wCC63hg%2Bd8Sv2XvBot1/wBZP4J8CQ6wf%2BAxyeMLaRv%2B%2BRX3zRXZHE0bWlRi/wDwJflJ/kVzLsfK/wCz98Sv%2BChPx%2B0zUr9/GnhvwRNpk8cU1j8Qf2YtX06WYspO6EjxY6TKMYLIxAJA71pfEvxF/wAFBvh74t8EeC7f9oL4M6he%2BNvEj6Xbr/wpTVYRaxRWNzeTXJ/4qZt4VLbbs%2BXLSKNwr6Wrzbx/%2BzPoHjv4y6D8dU%2BI/jDSdb8O288NhbafrKyaeVmiaKQtZ3EcsIYqeXRVf5R83XMU5Yd13Jq0bOy1lrZ27PfW/QFy3PBf2g/jh/wUO%2BCWpXmmaH8V/hH4kfQPDMniXxhJD8GdStk0nR42kDT5fxOTNKfJmKQqAWELfMOM60Hxz/aoufinb/CGL9rP4VnUrm7SyS7/AOGbde%2BwrfvaC8Wxa6/4SXyluTbETeUWB2%2B4xXb/ABj/AGSvHXxJ8U31xpHxXtLTR/Fvh6w0bx8l1ope9u7e1mkk3WsiSpHCZlkeGRWjZQrFkw2c8PqP7PH7SK6v4g8LaD4b06z0/TfFeu%2BL9B8S/wBqKf7Sv5bcppVsIBmSLySyrK78MLddmRIQnXTo4GpSScrO3e333XR9F038qSg0dT4Q179rv4gavqvh/wACftzfs%2Ba1qGhXAg1ux0r4O6hcTafISQEnRPFZaIkq2AwGcH0rf/4Qf/goX/0dB8Gf/DD6t/8ANRXF/sZeCtWfxvoXiLRPBHiDw54Z8GfCDTvCaQeJdBm0271HUzMJrl3imVXkEIiTE2NjyXc5RnBLH0f4l/ttfsqfBj4q2/wW%2BMHxs0fwr4gu7OO5s4vEbPZW1wjlgoS7mVbdnypygk3jIyBuGeethJKu6dFOVlfRXfntfyfW1yXHWyMz/hB/%2BChf/R0HwZ/8MPq3/wA1FH/CD/8ABQv/AKOg%2BDP/AIYfVv8A5qK9f0vVdM1zTodX0XUoLy0uYxJb3VrMskcqHoyspIYH1FT1x7EnjP8Awg//AAUL/wCjoPgz/wCGH1b/AOaivP8AwGP%2BCyGo/FLVfB/xL8UfATSfDkFvLNo3i/R/h1ql9HeYlVUhltpPEEMsEpRi5wHjGxhvPy5%2BpqKuM1FNOKd/XTzWv53Jaba1Pmf48eIv%2BCh/wV%2BHFx41sPjv8F9d1F7q3sdG0I/BrV7RtRvriVYbeBZB4jl2lpHUE7DhdzHhTV/4ieI/2wPhBo9pr3xY/ba%2BAnh2zvb2Ozgu9W%2BCmqQwtcPnam9/FIAzg8nA47V6B8VvgFqvxB%2BJ3hf4raX8TdStJfCt2bq28M30Edzo93N9nuIVmki2rKkyi5YrIkgA2qSjEDHC/tNQ/EnxB4m8NL4X%2BFfixvF2g3kEnhzWNKeCbQLk3Pl29/HeCQsUiSCSfJliRyozCxc7R10aVCqoQv3bezXZa6WVt9d3poZTnUhzO3a39I2bTwl/wUAv7WK/sP2qvgrPBPGskM0PwK1VkkQjIZSPFOCCDkEVJ/wg/wDwUL/6Og%2BDP/hh9W/%2BaivNdS%2BMuueHtf0z4uRfEy50Hw1a%2BK9StLHwjZ20MenQeGNKW4TULuaLZv377d3VwRtCRqnDkN7F8G/j74n%2BIXjWbwN47%2BFzeFr2Xw3a6/pVrLq4uZ3sppHj23MYjX7NOrpgx5cfNw5KsqzVwVWnHmWq/L/O11e2g4V4SdjjNS8Y/tm/CX40/Crw18Ufi38MPEvh/wAeeNbvQdTtNA%2BF2o6ReW4j8P6vqcc0VxNrl2gPm6dGjK0JysjYKkA19A14z%2B1B/wAlv/Zx/wCyzX3/AKhXiivZq4zYKKKKACiiigAooooAKKKKACiiigDxn9vD/kiGh/8AZZvhx/6muiV0/gH9pT4cfFD4t%2BIvhB4Dg1jUbnwoGj17Wo9HlXS7a8V1VrEXTAJJcru3MibtoByQRiuY/bw/5Ihof/ZZvhx/6muiV7KiJGCI0CgkkgDHJ5Jq4umovmV301tb/P00Jak2rM8u%2BLvwe%2BKHi/41eDviZ8MfGOkeHP7Ds72013Ubqwe8ub%2BynMTGzSHckajfEsgmdm2OgxGwZs9XafB34fJ4nsPHus%2BHrbV/EemWrW9l4i1W2jlvIUZmLBH2gR53EHYFyMA8AV09FW69VxUb2sraaaeb3e//AABKnFNvuFVtY1nSPD2lXOva/qttY2NnA015e3k6xRQRqMs7uxAVQASSTgAVT8bjxq3hHUV%2BHEulprptWGlPrUUj2izY%2BUyrGyuyDuFZSemR1rxI634q/ae/ZI8b/C/4i32k6V430d7vw94oxGYLAalAUeGULIzMltcxtbTKCzER3O3cWXNOlR9ouZvS6T7q/W3b9TRK50PxC/a50a2t/C6/s/aJp3xJufFUeoXGm/2P4khjtpYLKBZpglwFkR52EkYjh%2BXduLFkVGYeLeI/2k/G2seIvHnx48DfE3XI38H2eka/o3gW/mt4dP1fwsSseoRLGU3C/W5ttShLl2MU0duufLlUHV8I/Br4i/Gf40%2BIfGll4M1/4Z3UA0vV5dQ1PTY2iTxVbyPb3Eluqybby2ubGOGOZl2hl2bX3l9nr/gL9kj4Z6b4G0zw78X/AA5oHjjU7DXb3WhqeqeG4hFDfXVzJcubaGQym3iV5SI497lAifMSoNelfA4RWau9L7N66vvHbTRp63NPcid/418PXXjjwNqfhfTfFeqaDNqumy28GtaQUjvLBpEKrPF5qMqyoSGG9CARyp6V4z8Pf%2BCZ37IngzxFH498YeA7r4ieK05bxb8UtVl8QX5bsym7LRwkdvJjjA7CvfaK82nicRRg405OKe9tPxWvyvbyM1KSWgy3t4LSBLW1gSOKNAsccahVVQMAADoBT6KKwEFFFc/8SPiv8Lfg34bk8ZfF34k6B4V0iLPm6p4j1iCxt04zzJMyqPzpqMpOyV2NJydktToKK%2BVbz/gsN%2Byj4lvJdI/Zo8N/Eb4330LlJYvhD4AvNTtUYcfNfyrDYgZ4z5%2BB37UwftEf8FW/iv8Au/hN/wAE/PB3w9tZPmg1f4x/FJJZdnYtY6NDclWxztadT2OOtdX1HEr40o/4mo/g3f8AA6fqWIXxpR/xNL8G7/gfVtFfKY/Z0/4KwfEX/S/iR/wUZ8HeBkk4l0v4VfByGTYO4W61i5ujn38ketL/AMOsh4k/efF//goR%2B0x4saTm5th8UTo1rJ6jydIgtcL/ALJJ%2BtH1fDx%2BKsvkpP8ASKD2FCPxVV8lJ/okfVTukal3YKoGSScACuR8S/tBfAXwYzJ4w%2BN3hDSSn3xqXiW1gK/XfIMV4Kn/AARR/wCCal2wm8Xfs%2BXXimbOZJ/GfjjWtZaRvUi8vJF/IAV13hr/AIJX/wDBNPwkqjRP2BvhAGT7st18PdPuJB/wOWJm/WjlwC%2B1J/8AbsV%2BcmHLgl9qT%2BSX5yZtar/wUO/YB0Jimt/ty/B6zK/eF18TNKjI/wC%2BrgVjzf8ABUv/AIJoQNtf/goJ8Fyf9j4m6W38p67DSv2Nf2QdCULon7Knw2swv3Ra%2BBtPjx/3zCK2If2d/wBn%2B3XZB8DPByD0TwzaD%2BUdF8v7T/8AJP8AIP8AYe0//Jf8jzq2/wCCon/BNS7YJD/wUE%2BCuT0D/FDSl/8AQrgVvaN%2B3p%2Bwz4iYJ4f/AGz/AIT3xb7os/iLpkuf%2B%2BZzXSXX7N/7O96uy9%2BAnguYHqJfC1ow/WOsHWP2HP2KfEKlNf8A2PvhbfBvvC8%2BH%2Bmy5/76hNH/AAn/AN//AMkD/Yf7/wD5Kdn4X%2BK3wu8blV8F/EnQNXLfdGl6xBcZ%2Bnlsa36%2BdPFH/BIn/gl74vDDVv2B/hVFu6nS/BtrYn8DbIhFYB/4Iv8A7BGknz/hr4P8beBrkf6u68DfFnxDphj/AN1Ir7yx/wB8UcmAe05L1in%2BUg5cE9pyXrFP8pH1VRXyp/w7X%2BLPg7/Svgj/AMFR/wBojQrhf9VD4n1/TvE9qvplNTspZG/GWk/4Vb/wWO%2BGf/Im/tY/Bf4oQdfI%2BIPw3vNBuSPT7Rpd1LGD/tfZ8f7NP6tRl8FaPzUo/mmvxD6vRl8NVfNSj%2Baa/E%2BrKK%2BUT%2B2h%2B338Kv8Ak4f/AIJda/qljD8s%2Bu/BXx3p/iFXP95bK7%2BxXQHsFc8dzgVreB/%2BCvP7BfiXxDD4G8efF24%2BGfiWY7T4Z%2BL2gXnhe7V%2BmwHUY4opGyQP3bvycUngcVa8Y8y/utS/Jt/gDweJteMeZf3Wpfk2/wAD6YoqtpGsaR4g0yDW9B1W2vrK5jEltd2c6yxSoejK6khh7g1Zrk2OXYKzfFng3wh4%2B0Kfwt468K6brWmXK4udO1axjuYJR6NHICrfiK0qKabi7oD5r1P/AIJe/A3wrqVx4o/ZU8aeMPglrM8hmkk%2BHGuNDps8nUedpdwJbKRAf4REv1FV28af8FL/ANnH/kffh14Z%2BPfhuD7%2BseCGXQPEiRjlnfT7l2tLlsdFhmiJ7L2P05RXasfWnpWSqL%2B9q/8AwJWl%2BLL5299Txv4E/t6/s0fH/wARv8PNA8ZT6B40gH%2Bm/D/xrp8mka5btjJH2S5CtKB3eLzE/wBqvZK4T48fsxfAD9p3w4nhb48/CjSPEltCd1nLfW%2BLmyf/AJ6W9whWW3f/AG43VvevFn%2BCH7cf7JP%2Bn/syfFR/i/4Og5b4a/FHVNmr28Y/g0/W9uWPQLHeK6gDHmjrR7LCYj%2BFLkl2lt8p/wDySXqFoy20PqSivHP2eP24fgz%2B0D4hufhkU1Twd8QdNi36x8N/Gtl9g1i1UdZEjYlbqHjImgaSMgg5GcV7HXLVo1aE%2BSorP%2BvvXmm15ktNOzPOPHX7K3wb8WeG/GGmaH4K0nQNT8a2jRazrul6TCtxNIWDrLJ8uJT5gV2DcOR82au/CL4O6j4C1zXPH3jbxmfEfirxILWPVdXWw%2ByQrb2yOsFtBAHfyokaWeTBdiXnkJY547qiqeIrOm4OV0/%2BB13totPJGfs4KV7HjH7TrF/jb%2BzkShX/AIvPfjB9vBXijmvZ68Z/ag/5Lf8As4/9lmvv/UK8UV7NWJYUUUUAFFFFABRRRQAUUUUAeD%2BFPjN%2B0Fof7Z9v%2Bzp8QvEHgjxJpes%2BEdV8RLF4V8OXlje%2BFbaC9toLFb6Wa9uI7oXQmuFR1jtSXsZiiSKshiwvhX%2B1P8Xdd/bS8V/A34seJtE8M6Lb%2BJ7nTfAGgX/wn1u0ufE9tFpdvdm4tdenuxp93IrtdlreCBpBHauSAEZx0Xwm/YlvPg58QvG/xG8OftZfE27uvH2uT6rrcGrW3h2cLO7IIljm/sgXHlW8KLbwxPK6RxcBS3z1v337LUHiL45aL8a/Hvxv8a%2BIofC2tXOr%2BEfB2pHTI9J0W%2Bms7iyaeL7NZRXUxW2u7qNBc3EyqJ2IG5UZQDjP%2BChfxc%2BFHhrwf4M%2BFHiP4neHtP8AFPiD4w/D2XQfDV7rUEWoakkfjPRmka3t2cSTBVVixRSAFJOMGvoevGf28P8AkiGh/wDZZvhx/wCprolezUAFcT8ff2h/hD%2BzH8PZviZ8Z/F8OlaakqwWsexpbm/uX4jtraFAXuJnPCxoCx5PQEjH/an/AGpPBn7LXge11zV9Ivde8Ra7fLpvgvwXowD6h4h1Fx8ltAvYD7zyt8kaAs3YHhP2dv2RfGep/EGD9rX9tPVbLxL8UXiYaDpFsS%2Bj%2BBbZ%2BtppyNw05GBLeN%2B8kIwpVOG7KOHgqftq7tDolvJ9l2S6yei2V3oqUVa72PRP2afih8YvjD4JuvHvxb%2BBs3w%2BjvdRZvDWhanqaz6kdO2J5ct9Gi7LWdm3kwB3KKVViGBFJo37LXwo0z40678ftSt9Q1bxJrwgSWTVdQaS1tYoVVYo4bVdsClduRKyNNyQZCOK9GorF1pKcnT91S0sr7dtdenz/AV9dAooorEQUUV4H%2B1B/wAFAfh78BfGlt8Bfhr4M1b4o/F/VbYTaR8L/BpRrtIjgC6v53Pk6ZaZK5nnIyD8iuQRWlKlUrT5YK7/AK1fRLzdkaU6VStLlgrv%2Bt%2By82e9SyxQRNNNIqIilndjgKB1JPYV8w%2BP/wDgqp8FLjxfe/CX9kbwN4l%2BP3jayk8m70n4YWyT6bpsx6LfavKyWNoM5BBlZ1I5SsC0/YK%2BP/7YEi%2BKf%2BCnXxm%2B3aJMwktvgR8Nr%2Bew8M2y9Vj1G6UpdazIMKWDtHb7gcRFTX1L8Pfhx8PvhL4Qsvh/8LfA%2BkeHNC06Ly7DR9D06O0tbdfRIolVV/AV08uEofE%2BeXZaR%2B/d/JJeZvy4Wh8T532Wkfv3fySXmfMq/CH/AIKp/tN/6R8Z/wBofwz8AvDVx97wp8IrJdZ19om6xzazqEfkQyD%2B9bWp9nrovht/wSX/AGGvAviSP4g%2BMfhTN8S/Fy8yeMvi7q8/ifUXfOd6tftJHCfTyUjA7CvpKipljcRblg%2BRdo6fe1q/nITxle1oPlXaOn4rV/NkVlZWWm2cWn6daRW9vCgSGCCMIkagYCqo4AA7CpaKK5DlCiiigAooooAKKKKACiiigAooooAKKKKACsjxx8PvAXxO8OzeEPiV4I0jxDpNwMXGl65psV3by/70cqsrfiK16Kabi7oabTuj5W1n/gkN%2BzT4Z1OfxV%2ByV4t8cfAPXJpDK9x8JPE0llp88nUedpUwlsJUz1XyFyO44Ipv4k/4K0/stjd4r8JeDf2lvC0H%2Bs1DwwE8K%2BLI4%2BpdrSZ30%2B8YD%2BGOW3Zj0XkCvrWiutY2tLSraa/vav8A8C0l%2BLOlYyrLSraa/vav79Jfizwn9nX/AIKOfst/tH%2BLX%2BFWk%2BKdQ8I/EG3TN98MviJpUmieILfgk4tLjBuFwM%2BZA0seP4q92rzr9o79kr9nD9rfwmngv9or4QaP4otIH8ywnvYCl3p8uQRLa3MZWa1kBA%2BeJ0b3rwGb4c/8FBP2BR/afwV8Wap%2B0Z8LLUZuPAfjDUI08aaNAOT/AGfqb7Y9VVRki3u9sxCqqzMTT9lhq/8ACfLLtJ6fKWn3SS9R%2Bzw9f%2BG%2BV9pPT5S/%2BSS9T7DorzL9lz9r/wCA/wC2F4MuPF/wU8WvcTaZc/ZPEfh7VLR7PVtBvBndaX1nKBLbSqQwwww20lSy816bXLOnOlNxmrNdGc04TpycZKzQUUUVBJ5z%2B0Z%2Byj8Dv2p/D1tonxd8ICe702Xz9B8Q6dcNaarotwMFZ7O7iIlgcEA/Kdp2gMGHFeKj42/tJfsAzppH7W9/efEf4So4js/jJp2n/wDE18Px5wq65aQjEsQHH26BccZljUtur6wplxb293bva3UCSxSoUkjkUMrqRggg8EEdq66OLcIeyqrmh2fTzi94v8H1T3KUrKz2KvhvxL4d8Y6BZeK/CWu2eqaXqNslxp%2Bo6fcrNBcwuMrJG6Eq6kEEEEg1dr5I8Y/CT4if8E5NevfjV%2Byv4bvtf%2BEF3cveePvg5YL5kuhhjum1TQkP3ccvLYjCONxj2tgD6a%2BGPxN8A/GbwBpPxT%2BF3im01vw/rlkl1pWqWUm6OeJu47gg5BUgMrAqQCCKWIw6pxVSm%2BaD2fVPtJdH%2BDWqdtiUbarY82/ag/5Lf%2Bzj/wBlmvv/AFCvFFezV4z%2B1B/yW/8AZx/7LNff%2BoV4or2auUkKKKKACiiigAooooAKKKKACiiigDxn9vD/AJIhof8A2Wb4cf8Aqa6JXoXxh%2BLfgP4D/C7XvjH8T9cTTtA8OabLfapduMlY0GdqjqzscKqjlmZVHJFee/t4f8kQ0P8A7LN8OP8A1NdErg/2h7YftXfts%2BDv2S5P3/gz4c2Nv4%2B%2BJUA5ivrzzmj0XTpexXzYp7x42BDC2iz1rpwtGNar7%2BkUm5ei3t5vRLzfkVFXepe/Y4%2BC3jz4i%2BNLj9vT9qPQXtvHXiayMPgrwrd/Mvgbw%2B53RWaKeBeTLtkuZcBizCIbVQg/SlFFTiK8sRU5notklsktkvJfjq3q2KTcmFFFFYCCiivnH/goV%2B0B8UPCGmeE/wBlX9mPUYrb4t/GPUZtL8MalJF5ieG9OhQPqWuyp0ZbWFhsUn555YVw2SK1o0pV6ihHr9yW7b8ktTSlSlWqKC/4ZdW/JLU539oD9qD42/tFfGTVf2I/%2BCf2r21hq2iMsPxY%2BMdzai5sPA6uM/YrWM/JeauyHIiJ8uAENLydo9e/ZT/Y7%2BCH7HXgq48KfCXRLmW/1a5%2B2eKfFuuXRvNZ8R3xyXu7%2B7f57iViWPOFXcQiqvFaX7L/AOzR8Lf2Rvgro/wM%2BEemSxaZpaM9ze3kvm3eqXkh33F9dSnma4mkLO7nqTgYAAHoFbVq8eX2VHSH4yfd/otl5u7Nq1ePL7KlpD8Zeb/RbLzd2FFFFchyhRRRQAUUUUAFFFFABRRRQAUUUjMqKXdgABkknpQAtFcB8Lf2qv2b/jb4luvB/wAI/jb4b8RapZQma4stJ1RJnEYOC6gH51BIBZcgZGeorv61rUa2HnyVYuL7NNP7mkZUa9DEQ56U1Jd00196bQUUUVkahRRRQAUUUUAFFFFABRRRQB88ftYfsF6d8X/GUH7Sv7O/jZ/hl8cNFtvL0fx9pduGi1WFcEadq9sMLqFk20Da/wC8iwGjZSMG3%2Bxp%2B2hf/HfVdc%2BAnx58DJ4D%2BNXgeKM%2BM/BLXJkgubdjti1bTJWwbrT5iPlcfNEx8uQBgC3vlfPP7fX7KPi34y6Bo/x9/ZzvbfRvjd8MJJNS%2BHWtyfLHfgj/AEjRbw5HmWV4gMTgkbHKSKQUOe2lVjXiqNZ/4Zfy%2BT/u919nddU%2BylVjWiqVV%2Bkv5fJ/3fLpuuqf0NRXm37In7THhH9r79njw38fvB%2Bn3GnprVqy6not6MXOkahC7Q3djOCARLBPHJE2QM7MjgivSa5JwnTm4SVmtGcs4SpzcZKzWgUUUVJIV8j%2BK7D/AIdrfH1fib4eX7P8CPidr8cHjLS14t/BPiG5cJFqkQ6RWV1IVjnXhY5WSQEBmWvrisH4ofDTwZ8ZPhzrnwo%2BIuix6joXiLS5tP1WylHEsEqFGAP8LYOQw5BAI5ArqwtdUZuM1eEtJLy7rzW6ffTZsqLs9djzf9qD/kt37OP/AGWa%2B/8AUK8UV7NXy/P8NPH3wbtf2S/hT8TPiMPFur%2BHvipe2EniI2hhe9hi8GeKlgaRSzEyiERq75%2Bd1ZsDdgfUFYVIxhNxi7pPfv5/MT0YUUUVAgooooAKKKKACiiigDkPAv7QfwD%2BKHjLWfh18NPjf4Q8ReIfDrsniDQtC8S2t3eaYyuY2W4gikZ4SHBUhwMMCOtWLX42/Bm%2B%2BKdz8C7L4ueGJvG9nYC9vPB0Wv27arBakKRO9oH85YyHT5yu35l55FfNfw1%2BK%2BmfFj9t/Vvin4s%2BEnxF8JaT8LNJ1rwv4F024%2BDXiGH%2B2vtV5ZnUdWa6Fh9neCSW0gS1gikZnjWa5cHfGIeZ8HfD/wCIMX7Unh74by/CjxRDr2g/tO%2BJPHuteM5fDV0mlTeHbzQtTt7aRNTMf2aeQre2Gn/ZVkMyfZmYxiOFXoA97/bw/wCSIaH/ANlm%2BHH/AKmuiVyH/BO6L/hNvEPxz/aKvx5t34y%2BNOq2Fpdf3tM0cJpVqg/2Qbadx7ymr3/BQvTfivP4P8Gaj4c8aeHrXwtD8Yfh6Ne0a98MT3GoXjnxno3ltb3i3scdsFbaWD20xYAgFMgiv/wSxmji/Zf1Hw69skN5ovxS8ZWGpRIWO24TxBfM2dxJ3EOrHnvwAMCu2jpgazXVwXyvJ/mkWvgfyPo%2BiiiuIgKKKKACvkv9kWzb46/8FEv2h/2ptZYXFt4IvtP%2BFPgjeObOG0todR1Yr/11vb2JS3Ui0UZ4wPrSvlT/AIJbsthqH7SXhS7%2BW/079qXxVLdxtw2y6SzvIHI9DDPHg/7PtXZh/dw1aS3tFfJy1/JI6qHu4erJb2S%2BTlr%2BSR9V0UUVxnKFFFFABRRRQAUUUUAFFFFABRXyH8aP%2BCyv7PfwB/aB1n4CfE34a%2BNbKbQpmhvdVFhA0bPsWSN44/O3tFIjAq%2BASGU7cEkb2h/8Fc/2QNZ8Kaz4hutU1zRr3StDm1az0DxHpQsLvWLZI2kBszK4inZtpCqJAzEcDvXsvh3PFSjU%2Bry5ZJNNK907W2b7r0vrY8RcSZA6s6X1mClFtNN2aavdapdn620uz6erjvi9qvwV1vSJfgj8XPGmjWY8a6bdWMOi32uJaXOpQGMrOsA3rI5CNyY%2BVyDxX5h/HD/gvD8cvE/xd0DXf2cfCUWj%2BHdOhZL3w5r1sl22tXEm5cytFteNVBXYsTqd4JYuCFHn/wC2b/wTs/bO1j4ZWf7Y1h8N/EOta54p1C6uPFPgBbWa71Dw4TO%2B0p%2B8kluLd8O4GA8KyIrb8M9etX4bjkWF%2Bu5zX9hBLmSinUqcy6csdbqyel1srpnJk%2Bc4njPOKeTcO0I16tSaherUjQo2l1lVqOMFF6r3nHvZo4v9ozxZpX7LX7UcPgT9jP4mXWp6b4A1gXHhzXha2U9yt3Ioa4hW6t4w11ACxjKSZUlZBtwSW%2Brv2Ff%2BC2%2BseK/itrGhftp%2BLNJ0jRtVWNvD15p%2Bhslvp9wWVDC7ozOsJBLb5N%2B0g7pAoFeT/wDBM79ov/goH8OvCetfs7/sufs4eEvEer2N0dT1dfEKR295p4lKr5Ez/arYSBSrYDMzoZCpIxsHoH7PXw4/Yk/aW/bb8Q/Cb9pn9jDxb4P%2BJF/cXN5faFJ4pubrSWvFLXFxNmERSQiTLOmWkt2VgFb5k3fb4ypl2YZdNY3D86jTUlUjKEq3K7PnlBqDhzaS1TtdqSWt/wA%2Bhg80yTO/ZYLFKMvauEqcozVDnjeLpxqJ1I1ORqULxlaXKpQlKLifpf4A%2BJ/w1%2BK%2Bjv4i%2BFvxD0PxLp8c5hkvtA1aG8hWQAEoXhZlDAEHGc8ityvPfgB%2Byr8AP2W7DVdM%2BAvw5t/D0Ot3a3OqLDdzzmeRQVX5ppHKqoLYRSFG44Aya9Cr8gxKwyryWHbcOnMkn80m19zP2DCvFPDxeJUVPqotuPybSfbdBRRRWBuFFFFABRRRQAUUUUAFFFFAHyb%2BzBar8AP%2BCmXx1/Zr08eVoHxA0LSvit4eso/9XbXlxJLpusY95Li1tZyP71wx/ir6yr5UnZdU/wCC3tp9hO7%2BxP2V7ldTK/wm98SW5tw3uRY3JA%2BtfVddmM1nCT3cIt%2BtmvySOrF6yhJ7uMW/ua/JIKKKK4zlCiiigDxn9qD/AJLf%2Bzj/ANlmvv8A1CvFFezV4z%2B1B/yW/wDZx/7LNff%2BoV4or2agAooooAKKKKACiiigAooooAKKKKAPGf28P%2BSIaH/2Wb4cf%2BprolcZ%2BydMPg3%2B2f8AHb9mTUf3UOv6xbfEvwmH63NrqMSW2obfaO/tWJH/AE9Kf4q7P9vD/kiGh/8AZZvhx/6muiVy/wC374E8aeEj4U/be%2BDegz6l4r%2BENzPcarotmv73X/DVwqrqdgo/jlCIlzCDnEtuAAS9duCanKVCTtzqy/xJ3j%2BOn/bxcNdO59HUVifDb4jeC/i94A0f4o/DnxBBquha/p0V9pWoWzZSeCRQyt6g4OCDyCCCAQRW3XHKMoycWrNEbBRRRSAK%2BRb6/H7H/wDwVTl1fWm%2Bz%2BCP2n9FtLSG%2Bk4is/GukQNHHAx4VDe6aFCZ5eTT9oyWFfXVebftZ/sw%2BAv2v/gZq/wQ8fXN1ZJeGK60bXdNk8u90PUoHEtpqFrIOY54ZVV1IPOCpyrMD04arCnNxn8MlZ/5/JpP711OjD1IQm4z%2BGSs/wDP5NJ/f3PSaK%2Baf2Jv2ufHev8Aim%2B/Yv8A2xYLXRvjl4NshJdNEnlWXjbS1OyPXtMzgPHJgedCvzW8u5GVRtr6WrOtRnQqcsv%2BA10a7p/1rdLOrSnRnyy/4DXRryf9dUFFFFZGYUUUUAFFFFABVGPxP4al16TwtF4hsW1OKISS6ct2hnRD0Yx53AH1xir1fmd%2B0t%2ByN4U/bL/b68U/Cn9nLwFF4G8Q%2BEr%2B01nx98VLzXbyeWWeeNJIktLRJvLV8sGBBjO6JuY9vz%2Bvk%2BXYfMatSNeo6cYxcnKyaWqXvap2u0vdTbbSS6njZ1mWJy2jTlQpKpOclFRu03o37ujV7Jv3mopJtvofSX/BQb9gj9lP4/eG9a/aA%2BNFvqumal4Z8K3Es%2BtaDepBI1vbo8w8xXR0kIAYAkZwcZ4XHJ/sG/sL/BT4hf8ABNfwf8O/jd8P49WTxJay69JJeTM09pJdNuiltZM7rbMCwHEZUE7iwbe2ej0T/gmIvjS3tI/2vf2q/iD8V47MRKui3uotp2kyrHjYZbWF2aR/lGXaUljktknNfUGj6RpXh/SbXQdD06GzsrG2S3s7S2jCRwRIoVEVRwqhQAAOABXoYnOKuFy2GCw%2BKlU5ZqSa5oxioppKN/e3bb2XRLc87C5LRxeaTx2IwkafNBxabjKUnJptzt7uySW76t7Hjmlf8E9v2UrT9nvT/wBmPXfhuut%2BF9MeVrQatdObtC9w9wcXMRSRP3kjcKVGDg55zw%2Bof8Egf2Pbmwm0XTV8a6bplxE0culWXji9%2BzspGOUkd84z0OR6g19R0V5lPO84pNuGImrtt%2B893u7aq/nZHq1MiyatGKnh4OyUV7q0S2V9HZdrs8s/ZY/Y2%2BA37HngweEvg54UEc8qbdR1%2B/WOTUdRwxYefMqLuALHCgKq9lHNepBVDFgoyepx1paK4cRiK%2BLrSq1pOUnu27t/1/SR3YfDYfB0I0aEFGEdklZL%2Bvv7thRRRWJuFFFFABRRRQAUUUUAFFFFABUGq6ppmh6Zc63rWoQWlnZwPPd3dzKEjhiRSzO7HhVABJJ4AFT18V/H7xvrH/BT74ran%2Bw98B9YuY/g94b1IW/7QHxE06YpFqjIQzeFNPmX/WSScC8lQ4hiJi3b5Ctb4eg60tXaK1b7L/N7JdX87b0KLrS1dorVvsv8%2BiXV/O3Q/wDBMqHUvjt4n%2BKn/BRrXbGaC3%2BMmv29r8PYLqIo8fhDSkkttOm2sN0ZupHu7wr3W4jPTFfWdVdC0LRfC%2BiWfhrw5pVvYadp1pHa2FjaQiOK3hjUIkaKvCqqgAAcAACrVLEVfb1nNKy2S7JaJfcvvuKvV9tVckrLouyWiX3L8wooorExCiivIv20/wBpO5/Zr%2BDrap4P0ddZ8c%2BJb6PQvhz4aU5fVdauMrAhHaKPmaViQFiickjitKNKdeqqcFq/6%2B7q30SbGk27IrftQf8AJb/2cf8Ass19/wCoV4or2avl6f4UeJPgfa/sl/C/xn8QdS8V63pfxUvRrfiLVrySea/vZPBniqWeQNISyx%2Ba7hE6JGEQYCivqGlUjGM2ou6T37%2BfzB6MKKKKgQUUUUAFFFFABRRRQAUV4v8Asc/F344fEq6%2BKXg74/XvhS71n4f/ABMbw9bX3g/Rbmwtbi1bRtK1JC0VzdXLmRW1B4y4cK4jVgiZIrkv2J/2p/i78aPiF4j8EfHvxNomj67a3OsS6T8Pz8J9b8P6gmm2urSWkN/HfajdyQ6vA0P2VnltIVjV7qPLLvVSAdf%2B3h/yRDQ/%2ByzfDj/1NdEr2avnj/goX8XPhR4a8H%2BDPhR4j%2BJ3h7T/ABT4g%2BMPw9l0Hw1e61BFqGpJH4z0ZpGt7dnEkwVVYsUUgBSTjBr6HoA%2BQr%2BS8/4Jc/FO814W0r/s5eN9Za41AQxll%2BG2s3EnzzbR9zSrmRstj5beZycKj8/XFle2epWcOo6ddxXFvcRLJBPBIHSRGGVZWHBBBBBHBBqPWtF0fxJo914e8Q6VbX9hfWz297ZXkCyw3ETqVeN0YEMrKSCCMEHFfJzeF/jH/wAEx7uS/wDhloGs%2BP8A9nxpWku/CdmHu9b%2BHykktJYqSXvtNXJLW%2BTLAPmTeoZa9H3cwWrtV/Cfz6T9dJd1L4r%2BP1/P/gn11RXO/Cn4t/DT45eAtP8Aih8IfG2neIfD%2Bqw%2BZY6pplwJI5B3B7qwPDIwDKQQwBBFdFXBKMoScZKzRGwUUUVIHkn7XP7G3wu/bA8I6fpvi671HQfE3hu8OoeBvH3hu4%2Bz6x4Zv8YFxazAcAgASRNmOVfldTgEeOeB/wBun4sfskeJbH4E/wDBUiwsdIFzcLZ%2BFfj5o1qYvC3iUk4jS%2B6jRb5h96KU%2BQ7BzFJjC19fVneLfCPhTx94ZvvBfjrwzp%2Bs6Pqds1vqWlarZpcW11Eww0ckcgKup7ggg11UsQlD2VVc0endf4X%2Baej8nqdNOulD2dVc0fxXo/zT0fk9S7a3VrfWsd7ZXMc0M0YeGaJwyupGQwI4II5BFSV8hSfsFftC/shXMniD/gmR8bbfTfD4kMs/wL%2BJs1xfeGWycsunXSlrvRycsQiGWDcw/dACtPwl/wAFV/hr4N8Q2nw1/bv%2BFviD9nvxXdSiC3fxzsm8O6jL/wBOWuwZs5R04laGTnlBVPBua5qD512XxL1jv81zIp4VzV6D512%2B0vWO/wA1dH1VRVfSdX0nX9Mt9b0LU7e9srqJZbW7tJ1kimQjIZHUkMpHIIODVPxn418IfDrwzd%2BM/Hview0bSbCLzL3UtSulhhhX1Z2IA54HqSAK5YxlKSildvp1%2B445SjCLlJ2S3vpb1ualFeAn/gqV/wAE/wAPLH/w03oWYRl/3Fzg/wC6fKw3/Ac0mi/8FSv%2BCf8Ar2uP4esf2m9DjuIwpaS9gubaA7gCMTTRLEeDzhjg8HBGK9D%2Bxs4s39Wqf%2BAS/wDkTzP7cyVtL6zT1/vx/wDkjnf%2BCqPxn/aK%2BH3wSg%2BG37M/wc8T%2BJNd8bx3djcav4d0u5uTotsqIJJM2/zxzP5oEbHCjZIxOVAPlf7M/wAdrf8AYi%2BHdp8ErL/gnF8UbDxzqBg%2B3Gws479PElyifvrptQVipYASSeWBtTfhcAkj6fvf26/2K7Bd8/7WPw6YYziHxjZyH8kkNfOsfx7/AG5v2/vH2qaD%2ByjfaP4D%2BEek%2BLn06T4oQXMdxqGopakib7PGzHckokjdMRqBtAM3LKPostjVeWvC4jDKFKL5pznKpT5ntFO0fetsoRTb1as9T5vM5UlmixeGxTqVpLkhCEaVTlW8mry92%2B7nJpLRO60M69/4Lcf8Jn8R7T4IfAD9j3xjrnjW71g6cNB1%2B9h0%2BSKZCwmVwnm7DHsbeXKLGqu7soQ194Rl2jVpE2sVG5Qc4PpnvXz7%2By7/AME5/g9%2Bzd8QtT%2BN%2Bo6/q/jT4gatc3Etz4x8Rz5nQTACRY40xGu7nLYLYYqGC/LX0HXjZ3VyWdWEMtpuMYrWTcm5Sdr25torpom930PbyKjnsKM6maVFKcnpFKKUYq9r8u8n9rVpbLqFFFFeIe6FFFFABRRRQAUUUUAFFFFABRRXN/Fb4x/CX4E%2BDrj4hfGn4l6F4T0K1H7/AFbxDqsVnbqcZ275WUFjjhRyewNOMZSdoq7Goyk7JXZ0lc78Vvi58MPgX4C1H4pfGTx9pPhnw7pUJl1DWdavkt7eFewLOQCxPAUZLEgAEkCvmeb/AIKJfGr9p8nQ/wDgmh%2BzJf8Ai2xmOxfi98SobjQfCMA/56wCRBe6qAQRi3iVDwfNxzWx8MP%2BCaek69490749/t3/ABYvfjj4/wBNm%2B0aNHrlilr4a8Ny9jpmjoTDG68D7RMZZztDb1Ndn1WNHXES5f7q1l920f8At5/9unV9WjS1rvl8lrL7tl/28/kcbfeNP2nv%2BCqCnw/8Ik8SfBz9nq641Lx5eW72Pirx5bHrFpcDgPpdjIvW8lAnkVl8tEBZq%2Brvg58Gvhd%2Bz58M9H%2BDnwX8EWHhzwzoNoLbStI02LZFCgJJPcu7MSzOxLOzMzEsST01FZVsQ6kVCK5YLZfq31fm/RJIzq13UioRXLFdP1b6vz%2B5JBRRRXOYBRRXmX7TH7Wnwk/ZY8P2d547vLvUNc1qY23hXwZoFsbvWNfuu0FpbL8znONznCJkFmUVdOlUrTUIK7fQaTbsjofjh8cPhh%2Bzl8MNV%2BMHxg8Uw6RoWkQ77m5lyzyMThIYkHzSyuxCpGoLMxAA5rxX9ln4QfE740/Fk/t5ftT%2BGJtH1yawksvhZ4AvSGbwbo8uN8sw6DUroBTMw5jQLCDwwpvwd/Zk%2BLXx1%2BJml/tWft3W1ouraRMbn4efCixuhcaX4OJHy3M7j5b7U9pwZ8eXESREOjD6YrtnOnhKbpU3eb0lJbJfyxfX%2B9LrstLuVNqKstzxn9qD/kt/7OP/AGWa%2B/8AUK8UV7NXjP7UH/Jb/wBnH/ss19/6hXiivZq88gKKKKACiiigAooooAKKKKAPF/gT%2Bx5rHwJ8aeL/ABraftZfErxHJ448Vw%2BINesfENp4dED3aWtvZkJ9k0iB0je3tLaJgHziEMpV2dm1Ph/%2By1B4T%2BNC/Hnxt8b/ABr4616y0O%2B0bw7/AMJUdMjg0SxvLi2uLqG3j0%2Bytd5keyswZLgzSBbdQHG59/qlFAHjP7eH/JEND/7LN8OP/U10SvZq8Z/bw/5Ihof/AGWb4cf%2Bprolanhn9sD4Na18adR/Z58RXt/4W8YWl3JHpukeK7I2R1yFTgXOnyMfLu4m5wEYuMHci4rSFKpVTcFe2rt0Xf8Ar52JlOMbXdrnqVFFFZlHzj8UP2HPEPg7x7qH7QP7Cfj%2B1%2BHHjbUZvtHiHw9dWrTeGPFknc39mhBhmbp9rt9soyxYSZqX4X/8FBPDlv4ztPgh%2B1/4Duvg78Qbp/KsLLxBdLJo2vOON2mamAIbjOV/cuY5gWCmMkZr6JrA%2BJnwr%2BG3xn8G3fw8%2BLXgTSvEeh36bbvStZsUuIJPQ7XBAYdQwwQeQQa7o4uFWKhiVzW2kviXz2kvKXyki%2BZPSRv0V8ur%2ByB%2B01%2By7/pn7CPx6F54ch5X4R/Fi5n1DTIkH/LOw1EFrywAAwqOZ48nlQBV7Qv%2BClPgfwPq1v4K/bW%2BFniD4Ha7PKIYbzxYq3Hh68kPa21m3zbMMc4mMLjPKih4GVRXw8vaLstJL1i9f/AeZByX%2BHU%2BlKKq6JrmieJtJt9f8N6xa6hYXcQktb2xuFlhmQ9GR1JVgfUHFWq4WmnZkBWf4p8KeFvHPh%2B78JeNvDWn6xpV/CYr7TNVs0uLe4jPVJI5AVdfYgitCmyyxW8TTzyqiIpZ3dsBQOpJ7Cmm09AvbU/M39mz/gmt8IPjF%2B018Z9K%2BH/i7xD4J%2BGXg74gw22i%2BHvh9qSadYzXirvvrYxJEUVFJCAxFHXd1rvP2wv%2BCb/wU8GeC/DcGq/Fn4l6vp%2Bs%2BPNG0O3sPE/jGS907Rlu7tI5ruONkGyTyg8YZ2KgyA4yFr1j/gk9cQaj8B/GOuWbie31H4ueIrm21FB%2B7v42uFxPG38aHGM%2Bqkdq%2BjvF3g7wh8QPDd34N8e%2BFdN1vSL%2BPy77StXsY7m2uUyDtkikBVxkA4IPSvrc1zvMsJmkqMKjUKdo2VltCKb%2BG927tu6d9G9z5rJMty7GYWnjcVTVSc3KbcrybvOTS1k1JR92ykpLRaWsfJnwR0BfDP7IPxU8RfAj4dt4yj8P69ri/BuO/iGr3N1BFCggjgnvHZ7iNbnzUQvKchCu7AAEXgnx/oV98L9A0Cb4Z/Dr4teOfGfiG60ZNP1HwCvhAWkthayz3g1mOX7c1u0Ozb8kRJNzFtiKsXP0l4s/Z%2B8CeIfC1x4W8P3ms%2BE0mS0SG78GaxLpstotsCsKwiIhERVJUpt2MvDKwAx5X4s/YHvNH0vQrj9nr4yT%2BG9f0w6//afiHxPpba1PqkmsrF9tvXAngCXoeGN4pPmhjG5PIZCFXyIY2E23KTTbvvLt1ae19dLa39T6/ky6tf2kI6u%2BsV2tq7bd7b69DhfDPxU/4Jv2vhXwn4ivv2O/DenXHiDRLPVNdg0z4aWdzH4Vhubh7WOTUZ44QsEZuYp4g%2BD/AKiRiFVSR9b%2BGvCvhfwXpEfh7wd4bsNJsISxisdMs0ghQk5JCIAoySScCvknxb%2BwZ8R7DWvE3wO%2BHmi6a3w5%2BINt4XtNd8U3mvMuoabpek7FudN%2BzCHE32lUmIlDgB7%2B4LKAFz9KfHbRfjprvw3u9O/Zx8d%2BHvDniszxPY6n4p0GXUrJUDgyI8EU8LncuVDBxtJzg4xWeMqqs4pVW0/5pSaXa927W1XV2V%2BpjLBZdQlF4aMY37JLTztFNdra7XOxor5V%2B2/8FtvDnzTaB%2By94tjT732fUfEOhyyD2Vo71Qfq2Kktf2jv%2BCrWkyG28Sf8EzPBephI3Y3fhv4/w4kYKSFEd1psRGSABlsc84Arn%2Bpzfwzg/wDt5frY2%2BqSe04v/t5frY%2BpqK%2BVf%2BG0f%2BChdif%2BJz/wR48Zso6vpXxe8LXA/APeRt%2BlL/w3v%2B2BCMXf/BIP4xK3cQ%2BLPC8g/ManR9RxHTl/8Ch/8kH1Ov5f%2BBR/%2BSPqmivlb/hvH9sy4%2BXTv%2BCQHxcZuwufGnhaEfmdSNJ/w2L/AMFHr7/kFf8ABH3xBCD91tZ%2BNfhqAfj5M0xH5UfUa/Xl/wDA4f8AyQfU6/W3/gUf/kj6qor5VPx3/wCCvPif9z4f/wCCevws8Mk8LP4p%2BPEt0B7lLLSW/IMaP7J/4LZ%2BKP3F740/Zj8GxP8Afl07RPEGuzRj/ZMs1mhP1Wj6nJfFOC/7eT/JMPqjXxTiv%2B3k/wAkz6qor5T/AOGMf%2BChfjP9z8V/%2BCtPiG1tZP8AX2fw1%2BFGi6KQPRJ7tb2Vceu73xQf%2BCPv7N3i3n9ob4ufGn4tj/n3%2BIfxe1SW1z/16Wcltb4P93y9vtT9hhY/FVv/AIYyf58qD2OGj8VX7ot/nyo9Q%2BOf7fP7E/7NEc3/AAvf9qnwJ4ZuIPv6dqPiS3%2B2k9wtsrGZz7Khryv/AIeo2/xRH2X9jH9i/wCMnxbabiy11PCh8N6DKfU6hrRtgV9445PYHIz678Ef2Hf2OP2bPKk%2BA37LvgPwpcRD5b/RvC9tDdN7tcBPNc%2B7MTXqdHPgafwwcv8AE7L7o6/%2BTD58HD4YOXq7L7o6/ifJp8E/8FeP2hznxr8W/hv%2Bz5oM/wAx07wLpz%2BKvEIQ8GN76%2BSGyhbH8UdtLjqD6dD8K/8AglR%2ByR4F8Y2/xW%2BJmi638XPHNtzF43%2BMetyeIL2E5yDBHP8A6NaYPT7PDHjoOgr6RopSxte3LC0F2irfe9385CeLrW5YWiv7qt973fzYiqqqFUAADAA7UtFFchyhRXnHi79rP4AeFNB8Y6vB8SdL1m58CafNd%2BJNG0LUIbm9thEBuQxhxtcFlU7ioVnXeVzmvOvGH7U/xF8Z6z4Z%2BEXhSwk%2BGXizWPFx0fXT4p0yDU20zOm3d9bCMQXAhl%2B0i0kRJA7KDHIm3eUrpp4PEVOll56dL%2Bu3ZPp3KUWz6Mql4j8SeHfB%2BhXfijxbr1lpemWEDTX2o6jdJBBbxjq7yOQqKO5JArkP2b/i1rHxj%2BGQ8QeK9Gt9N1/TNY1DRfEenWrlooL%2Byu5bWUxlufLcxCWPJJMcqHJzmvPvEv8AwT%2B8AfGD4r3nxP8A2o/iD4g%2BJtnHqrXXhfwP4hlji8PaHHuzGosIFWO7kUHb51z5pIxwDzRCjSjVlGvLlt2V2/JbL5t2t32BJX1OY1H9tP4wftT3k3gz/gnR4Bh1LS/MaDUPjX4xtJYfDllg7XNhF8s2rzLhgPL2wBgu6Ug4rvv2bv2Kfh/8BfEF58V/E3iLU/HvxN1mAR6/8SfFZWS/nTqbe3VR5djagk7beEKoGNxcgGvYbKys9Ns4tO060it7eCNY4IIIwiRoowFVRwAAMADpUtXUxdoOnRjyRe/Vv/FL9FaPkwctLLQKKKZc3NtZW8l5eXCRQxIXlllcKqKBkkk8AAd64yTxz9qD/kt/7OP/AGWa%2B/8AUK8UV7NXhXx48VeGPG/xQ/Zo8V%2BDPEVjq2l3vxjv3s9R0y7SeCdf%2BEL8UjckiEqwyCMg9q91ptNOzBNMKKKKQBRRRQAUUUUAFFFFABRXM/Cz40/Bz456Jd%2BJvgn8WfDPjHTbDUpNOvtQ8La9b6hBb3kYVpLeSSB3VJVDoWjJDAOpI5FJ4O%2BNvwZ%2BIni/Xfh78P8A4ueGNd1/wtOIfE2h6Pr9vdXmkSEsAl1DG7PbsSrACQKcqfQ0AcB%2B3h/yRDQ/%2ByzfDj/1NdErufjN8CPhB%2B0L4Pk8B/Gf4f6d4g0x23xw3sXz28naWGRSHhkHaSNlYdjXDft4f8kQ0P8A7LN8OP8A1NdEr2aqhOdOSlF2a6oTSkrNaHzYvwv/AG1P2VP3vwM8af8AC4vBcP3fBHjzUxb69ZR/3LPVSNlyB2ju1zhQPOrsPg3%2B3N8CPi34nHwz1O/1DwV45UDz/AfjyxOmaoCf%2BeSSHZdKcZDwPIpHOa9jrkvjF8Bvgz%2B0F4YPg741fDTSPEungloodUs1doGP8cUn34X/ANtCrD1rs%2Bs0a/8AHjr/ADRsn818L/8AJX5mPs5w/hvTs9vk91%2BKOtor5xX9lb9pz4C/v/2RP2m577SYv9V8P/i75urWKr0EdvqCEXtsoHChjOo/u44p4/b11r4TH7D%2B2b%2Bzd4r%2BHKx8SeKtMhOveHmHQObyzUyW4PXE8MeB1PBNL6lKprQkp%2BS0l/4C9fuch%2B2Uf4i5fy%2B9frY%2Bi6q63oeieJdJuNA8R6Pa6hYXcRjurK9t1lhmQ9VdGBVgfQjFY/wz%2BL3wq%2BM/h9fFfwk%2BI%2BieJdNbH%2Bm6HqcV1GpP8LGNjtb/AGTgjuK5P9pn9q74c/suaPpFx4u0nW9b1fxFfmz8OeF/C%2BnfbNS1OYLuYRQ7lyFGNzEgDco6kA5UcNia2IVGnFufbZ9%2BtrWtfW1t7oVfE4fDUHWqySiuvT8L9bJWu29EmfL37eP7PnwU/YJ%2BGM37SP7L0fj34Z6lca3Db3Vp8LNdit9JeWUPsludKu1ls5E3KF2xwqxLjkDJFL4e/tFf8Fzbf4a3M%2BpfsjeFvEt7bwg2WpagLfS7u4%2BUHL2v9pKjt/u%2BUD025yK9BbwZ%2B05%2B3R8Z/AnjT4xfASH4b/DfwBry67a6T4jv0vNU129VGWHfBGdluiZyRINwJ43Z%2BX67r6OvjqOAwtOjXpU69bVycm58qv7sbxkk3ZNv3pWulujxaTzDN8TUqKtOnQXKopRUZS096V5Rc0r2S0T0bWlj8z9C/aG8ZeKNRSz/AG4v%2BChHxP8AgZ4h1CchvDmr/DoeG9Oh7BLfUmElvKo/56GbJ98E1754S/4J1fs8/GvQY9f8Qftg/FP4saHdEGVL/wCKf23TrteCU/0UKCh9A3frX1ZqukaVr2nTaPrmmW97aXCFLi1u4VkjlU9QysCGHsa8G8Y/8Euv2I/EutyeL/DHweHgXX35XX/hnq114cukf%2B/nT5Ikdup%2BdW5OetY/29OfwSdH/BGnZenuRmv/AAJvzudX9gZPNfvIOf8AjnOd/VOaX/ktvI9q8BeAfBfwu8H2Hw/%2BHnhq00fRdLg8mw02xiCRQpkkgD1JJJJ5JJJJJJrXr5p/4Y9/bC%2BHHHwE/wCCj/iua1j%2BZNI%2BK/haw8Rxuf7puYxa3QHbJkY%2BuTS/8J//AMFWvhzz4p/Z4%2BEXxKtxx5vgrxteaDdEepg1CCaLPt5%2BPcV5MsKq0nKNaMm9dW4t%2BvMt/wDt49iFKEIqMLJLRLay9Nj6Vor5r/4eD%2BN/CP8Ao/xr/wCCfPx08OTJ/wAfFzonhq28RWaDuRLpdzM5A9fLHFTWH/BWn/gn/Jdppnif49r4VvHO1rPxv4d1HRHRv7p%2B3W8S8exI96n%2Bzsd9mm3/AIbS/wDSXIrkn2Po6ivPfBn7W/7KnxGCH4f/ALTHw/1wv91dJ8Y2VwT7YjlJz7V39vc295AtzaXCSxuMpJG4ZWHqCOtcs6dSm7Ti16pr80iWmtx9FFFQIKKKKACiiigAooooAKKqaxr2h%2BHbQ6h4g1q0sYF6z3lysSD8WIFeZeNv28f2JfhyHHjf9rj4b6dIn3refxpZed%2BEYlLn8BWlOjWqu1OLfom/yTGk3sesUV82N/wVl/Yv1gm3%2BF3ibxZ4/uj/AKu18AfDrWdVMn%2B7JDamI/8AfdIf24f2jPGvy/BH/gml8VL8f8/XjvUNL8MwfXE9zJPj/tju/wBmun%2Bzsavihy/4mo/%2BlNfkVyS7H0pRXzVv/wCCs/xJ%2B7b/AAR%2BFllP3d9S8Uajbj6AWVuW/wC%2BgfakP7A3xZ%2BIX7z9pH/goN8WfEytxLpXhC5tfCmnyL3Rk06MXDL25uCcdSaPqlKH8StFel5P8El%2BIcqW7PpQSxtI0SyKWUAsoPIz0z%2BVeLfCvxX8QPhd8e/F/wAH/jR8WLzxDY32jQeKfCmtazaWlqILYSG1vbIGCKKMRwP9kcFgXIvPmZjXUfs%2BfsqfAP8AZY0nUdH%2BBXw/TRU1i4SfV7iTULi7ub6VFKrJNPcySSysASMsx61oeJP2ePgl4z%2BKenfGvxn8NtN1jxPo1obbRdV1aI3J01CSWNskpZLd2z80kaq7AAMxAAERnh4SnHVxa0dle%2Blurtre%2Buwk4q580W3wS8TeJ/FPhL4OXHw71S/06z8R%2BIZJfHFnsbS9R8Jaut1PKpuUJAuWuPsT%2BXtO6SLfjaSw9I8B/sc%2BLtbn1Of9pPxrpuuSnw/pGkaPe%2BG4Lixukk055JItWaUyFor0ySA/uzsTyxjO9hX0F06UVrUzGvJWjp%2Be9736X7LQbmznfhd8L/C3wg8IReDPCRvpLdbia5uLvVNRlu7q7uJpGklnmmlZnkd3ZmJJwM4AAAA6KivPPjX%2B1j%2Bzh%2BzrGo%2BMvxi0TRLqXH2fSpLnzb%2B4z0EVpEGnlJ9EQ9RXLGNbEVLRTlJ9tX%2BBnKcYq8nY9DqO6uraxtpL29uI4YYkLyyyuFVFAyWJPAAHevndv2ov2q/jgPsv7K37KN3pGnS8R%2BN/jHI%2BkWgHZ4tOj3XtwpHI3iAH1HWnW37A9z8VrmPW/wBtn46698UZFcSL4VjH9keGoGByoGn2zZuNp43XMkuR1Aro%2BqRpa15qPkvel9ydl85fIx9s5fw4389l%2BOr%2BSLPin/goD4P8R69c/Dz9kTwBqnxj8TW0hium8MSrFomnSf8AT3q0n%2Bjx9/ljMsnGNmaz4P2OPix%2B0TcR69%2B3p8V49a07eJIfhV4Jeay8OwkHIF1ISLjUyCAf3pSLIP7rBr6C8MeFfDHgnQbbwr4M8OWGkaZZRiOz07TLNIIIE/upGgCqPYCr9P63Gjpho8v956y%2B/aP/AG6r/wB4PZOf8R38tl/wfn9x4Z8fvDnh7wh8Uv2Z/DHhPQrPTNNsfjBew2Wn6fbJDBbxjwT4owiIgCqo9AAK9zrxn9qD/kt/7OP/AGWa%2B/8AUK8UV7NXE227s32CiiikAUUUUAFFFFABRRRQB8q/sLfFLw1D8Wfjtp0Pwv8AiLoVp4g%2BMtvfeG31v4PeIdJtbqybw7olis0cl1YRRiMXFjcoTkBBGGbCOjNxH7Cnw/8AiDpfxh%2BFPhjVvhR4o0PUPhP8M/GOg/ErXtZ8NXVlZ6nqd/rOlzQta3Usaxamty9nd33nW7yrGHHmFJJitfcNFAHzx/wUL034rz%2BD/Bmo%2BHPGnh618LQ/GH4ejXtGvfDE9xqF458Z6N5bW94t7HHbBW2lg9tMWAIBTII2vHKftz/DLxjqXiz4fy%2BF/id4Xu7t54fCOoAaLq2nRk8Q212u6C4VR/z3VGPTf3qf9vD/AJIhof8A2Wb4cf8Aqa6JXs1aUqns3smn0a/4Zr5Mxr0fbRSUnFrZp2/zT9GmjxLwb%2B3z8CtT1%2BHwL8WDq3wx8TzHamgfEawOmmZun7i5Ym2uATwDHKxPoM4r2uGaG4hW4t5VeN1DI6NkMD0II6is3xj4I8GfEPQZvCvj7wlpmt6ZcDE%2BnavYx3MEn%2B8kgKn8q8Wl/YJ0PwBM%2Bpfso/Gnxd8K59xddJ0q9/tHRGc9S2nXm%2BNQf%2BmRi9iK2thKuzcH5%2B8vvXvL7mc18wobpVF5e7L7neL%2BTie%2B0EAjBGQeorwEfEP9vr4Qfu/iF8EvDPxR0uLrrHw91T%2BzNSCDqz2F8xjdyOcR3H0Har/hv/goX%2BzJfavF4W%2BIniXUfh1rkpwNF%2BJWjzaLLn0WS4Agkz22SNnt1FDwddq8FzL%2B67/gtfwGsxwqdqjcH2muX8X7r%2BUix8Sv%2BCf37K3xJ8QN45h%2BHJ8LeKDkp4t8B382iakrn%2BMzWbR%2Baf8AroHHtxXyv8D/AIPftZ%2BLf2ufH3xa%2BFXxn0jxpc/CLUX8GeGk%2BMsMk80kTIJbllubBYhDKGYoJjDKzJIVb7vP0H%2B2x%2B1pc%2BFfCFj8Ev2Z9Yh134q/EOH7L4MtNInjm%2BxRPkSanKwyscMaB2V2yCy5wVRyvo37Lf7NPgj9lf4VW/w58IvPd3U87X3iHW72UyXOr6jIB511M7clmIGB2AA9z7dDE4nL8rlUrO8qq5YRkr%2B7f35a6qLtyKzV3zW0TPLrwo5lmsKVJe5RfPNp6c1nyR00clfnfZct9Wjz0ftjfH/4bfuf2jf2FfGtlEvDa78N7qHxPZMB1kMcPl3ca98GAke/WvfdA1uy8S6DZeI9NSdbfULSO5t1urZ4ZQjqGUPG4DI2CMqwBB4IBFW6ju4Zbi1lt4Lp4HeNlSeNVLRkjAYBgQSOvII9Qa8GrUpVLcsFF9bN2%2B53t97PfhGcd5X%2B44D4KfEz4geOfGvxC8L%2BMtL0ZLfwl4qTTNMvtHklxcRvZwXe2VZOkqLcRqxU7Sc4AxiovAf7S3hzxu2t6nP4H8QaJoGhyagJfF2tR2qaZcJZTPFcSpLHO7IitHJzKkfCMcYFVPgn8Dvid8FLbXoJPi1aeKm13xBd6xc3WseHktbp55olUK8ls6xEBo4xkQghBtxwDXlXjH9mH4uS%2BHPH2uaV8LPCXh9PEGj2Nve%2BCvAupGWHXZk1AXF7eu0ttap9okt2lhRGX5mZt8uGBHXGlg6lWS5kl7tne3ZPR99d9F1MXKtGK073/Gx794J%2BNvwq%2BIfha68a%2BFPGtpLpljcm3vrq5DW32aUbTtkWYI0ZIdCNwG4OpGQQT1EUsU8SzQyK6OoZHU5DA9CD3FfIvjexkg8eaV8Zf2iPBF3o/gjxL40vNQ1jQNU037Wc2umG00xL2GASKWlzLLg7lVobZCd20D3L9knw14q8D/s1%2BFtF8c6W%2Bn38OnPPJpRj502KSWSWKzCjp5ETxwhe3lYrPE4WnSpqcXu9tH6q63ae/TVFU6spy5Wv6/4J6VUN/p9hqlo9hqdjDcwSDEkM8QdGHoQeDXgcX/BUb9ii0kW18ZfFDUPCdznD23jLwhqmlFD6Frm2RPyY12/hP9s79kPx2FHg79qL4fai79IbXxhZNIPYp5m4H2IrOWCxtNXlTkvk/wA0n%2BZSr0ZPSS%2B9EPjP9iH9jP4iF38dfsn/AA31aR/vT33gqxklz6hzFuB9wa4G4/4JG/8ABO15nudK/ZsstGkc5L%2BGtd1HSjn2%2Bx3EWPwr6F0nW9F161F7oer2t7Cek1pcLIp/FSRVqnDG46krRqyX/b0vyv8AobqcraM%2Bbf8Ah1z8DNN48DfGX43eGFH3U0L4266ir9BLcv8ArR/w7lv7bjR/%2BCgX7SVmB0H/AAsaC5x/4FWcufxr6Soqv7Rx3Wd/VRf5xY%2Befc%2Bbf%2BGDPjNacaR/wU1%2BOyAdPts%2BhXB/NtMGaP8Ahib9ptOIP%2BConxaA/wCmmg%2BHmP5/2dX0lRR/aGK7r/wGH/yAc8v6t/kfNv8AwxH%2B0pLxd/8ABUL4usO/k6L4ejP5jTqP%2BGAvilejGt/8FL/2gZPUWOq6JbZ/750s4r6Soo/tDF9Gv/AYf/IBzy/q3%2BR82n/gm9Bdf8hv9uz9pK9B%2B8P%2BFrPa5/8AASGLH4Yo/wCHVP7Luqf8j54l%2BKvirP3v%2BEi%2BM/iGUN9Ql4gNfSVFH9o47pUa9LL8ooOefc%2Bd9H/4JN/8E5dHuxft%2ByV4X1Kcf8tvECTamx%2Bpu5JM/jXpvgn9lz9mb4aMjfDn9nbwLoBj/wBW2i%2BErO1K/QxRLXd1l%2BI/HPgnwfEZ/FvjDStLQDJfUdQjgGPq7Coni8bX0lUlLyvJ/hf9CXOVtWagAUBVAAA4AoryLxd%2B39%2BxB4GDDxL%2B1p8PYZE%2B/bweK7WeUf8AbOJ2f9K5g/8ABTn9lvWP3fwyHjnxzN/DD4L%2BGusX276SC2EZ/B6I4HGzV1Tlb0aX3uy/ExdegnZyX3/8OfQlFfPf/DZH7QHi3j4R/wDBO34mXg/5%2BPGeo6X4fi%2BuJrmSXH/bPPtSHV/%2BConjr57Dwb8Gfh7bS8Eanq2o%2BIbyEeu2GO0hJH%2B%2BR7VX1GrH45Rj6yj%2BS5mL28H8Kb9E/wBbH0LVLxB4k8O%2BE9Lk1zxVr1lpllCMzXmoXSQxIPd3IA/E14P/AMMi/tNeOOPjV/wUK8bSwHk2Hw80DT/DsYPceaEnuMf9tQfQirmgf8E0P2NtP1SPxF4x%2BFkvjjVkOW1b4ja1d6/M7f3iL6WSMH/dQCj2ODh8dW/%2BGL/OXKvwDnrS2jb1f%2BVxfEv/AAUq/Y/0vVZPDPgj4kT%2BPtaThdE%2BGujXOvzu393dZI8an/edRWef2hf24visfK%2BB/wCxhD4Uspf9T4g%2BMPiaO0Kj1OnWHnzk%2BzvH%2BHb3nw34W8M%2BDtJj0Hwh4csNKsYRiKy02zSCJPoiAAfgKv0/b4Sn/DpX85O/4R5V%2BLDkqy%2BKVvRfq7s%2Bdj%2ByJ%2B0b8V/337Tf7bHiSW0k%2BaTwv8LbFPDdiM/eja4Vpb2ZMcf65M%2BnXPoXwV/ZD/Zo/Z4ka8%2BD/wAGtF0i/lz9o1o25uNQnJ6mS7mLzyZ5%2B856n1r0evPL/wCN%2Bv6J8UtO8EeJPhPqGn6PrWsSaVo/iGfUbZvtV2tvLcf8e6MXWJkgl2uTuJQ5RRg0nicXXi4J2j2Vor7la/zuRJYeg1KW7dru7/HW34HodZXjDxv4X8BeGr/xd4r1UW1hpsYe9lSJ5WQEgABIwzsxLABVBJJAAOa8N%2BIfxa%2BJXhT4keLPGo%2BIE8Ol%2BDvEukWd34SltoPss2kXkVukl2HEfneaJZ/MD%2BZtVYWTZ1J8u8MfDc6lHa/A74b7dI8djSb6PxhGbYxK%2BpaZeLdabq92FAEhnuAp8/B85JZVyduBdPBJrmnLTT/N3%2BTWuu5xVszcZOFOF3qter1St31T0bTsvu%2BvfAPxF8I/E3RG1/wdqTzwxztBcxT2slvPbTKAWhmhlVZIZAGUlHUMMjI5rzf4nftWeItG8cX/AMJfgf8As8eLvHnibTmRL6RLX%2BzNHsndFkUTajdBYydjq2IVlODjGeK1PgR4c8dx%2BP8Ax18SPF3ge68MReJ7zT5I9EutSt7ktcW9oLeW7DQOyqJFSCMAkMVt1ZlUsVHp9YP2NGq7rmXr187b220aOpfWMRh1aXI7u7tra7WiltfR6p27bHgPxhuPHl148/Zhufifpml2evv8Xr06pa6JdyT2sUv/AAhXin5Y5JERmGMclRzmvfq8Z/ag/wCS3/s4/wDZZr7/ANQrxRXs1YN3dzriuWKV7hRRRSGFFFFABRRRQAUUUUAFFFFAHjP7eH/JEND/AOyzfDj/ANTXRKm8ZWv7bHgjxXqHiP4f6n4N8d%2BH7i6ea38MaxDJo%2BoWcRPEEN3H5sUuB/FLGpPdvWH9vD/kiGh/9lm%2BHH/qa6JXskcsUoJikVtrFTtOcEdR9auE%2BR7J%2BpzYrDLExS55Qa1Ti7P8mmvJpo8Rh/bp8D%2BEZV079o34a%2BLvhjdbgjXXiTSDPpjv6JqFp5sBHu7J9OleteDfHngf4iaOniHwB4x0vXLCT7l7pGoR3MR/4HGxFak0MVxE0E8SujqVdHXIYHqCD1FeS%2BMf2Gv2Z/FesP4q0v4f/wDCLa62Suv%2BB76bRrxW/vF7RkDn/fDVd6Et04/ivxs/xZxcmc4f4ZQqr%2B8vZy%2B%2BPNB/OMT1ys/xT4d8KeKdDn0fxtoWn6jproTc2uq2sc0DKByWWQFSMZ6149/wpD9rv4cfN8Iv2rovEVnH/qdF%2BKPh5LskehvrMwTfiyv%2BPf59/aY%2BJn7XnxC%2BNmhfsrftF%2BJh8G/BXjPTzow8R%2BDdN/tm08UahcMYxZC7mjR7HejFQpXdkMSSrAr3ZflssdiOSFRJJOTet0lq7R%2BJu17JXenZNrlxmdvCUP32GmpNqKT5XFt6K803BK9tZJb7NtJ5H7Dv7HfwT%2BM3xR%2BMXxg%2BE8vijwl4dPjiSD4d%2BOPAuuS6Q09sQTd20EKEwSWkcyqELRFWBx/CVH0ePg/%2B3l8OPm%2BGv7Vnh7xpap8sWmfE3wgI5Qvob3TWiJP%2B00Le%2BaqfD34eD4B674D%2BAPwG%2BJXiLVoPDkMFn4i0y7W3lsbXTEjlZprhlhXybl5CgQIwdi2ShUM1dn4l%2BNHjix/aKtvhFo1noMWntplvOX1v7Xby30jtMZEtZljeF2jji3NGfm%2BdeQOa6szzCrjMbKcHzQslHmV3yxSim7q6bSu7NK7dvPgyzD4TA4FQqJwnzWbg7Jzm3Jpcr5WotuOqbVkndtJcuP2kP2t/APy/GD9h3UtSt4uJdW%2BGXiq01VX/ANpbW5%2BzTgewDH%2BVS2n/AAUf/ZYs7lNM%2BJfiPXfAF%2B7BTY/EHwnfaQVPvLPEIT%2BDmuw8OftLeENe8STaXd6FqWmaWYNRm03xLqDQLZXyWEvlXbKRIZIwjZYNIih0BZSQDjofA/xI%2BHvxi0i8k8MXT3tvbyiC9ttQ0ua3ZSyK67oriNGKsjKytgqwOQSK86To29%2Blbzi2vwfMvxPXpVpVJKNDEqTd7KUU27b7ckn62emqbH%2BBfi/8Jvihbi7%2BGnxP8PeIYiu4SaHrUF2MeuYnauiryfx1%2Bwp%2Bxz8SLg33iv8AZt8Ivdltxv7HR47O5J9fOtwkmffdXO/8O/vA2gfL8J/j58XvBUS/6q00T4iXVzbIf%2BuN/wDaEx%2BFRyYOW02vWN/xi/0Or2mYw%2BKnGX%2BGTX4Sj%2Bp71RXgw%2BAP7bHhnnwX%2B3gupxR/6q08a/Dexutw9Gms3tn/ABwTR9v/AOCmPhz57nw58FPFcSdVs9S1XR5pB7CSO5QH/gWKPq0X8NSL%2BbX5r9Q%2Buzj8dGa9Epf%2Bky/Q93lijmjaGaNXRhhlYZBHoRXEeLP2Yv2a/HpY%2BOf2e/A%2Bsl/vnVfCdncE/jJGa8//AOGiv2zNF58Vf8E%2B765jX/WTeFviTpd5%2BIS4%2BzOfpij/AIbm1DTvk8WfsW/HPTWX/WND4Ij1BB9DZXExI/Crhh8XB3pv/wABkv0khPMME1791/ihJfnBhq3/AATA/YB1a5N7/wAMteGbGY9JdEil09h9DavHj8Kq/wDDsr9mXTufBmp/Ebw2R0Og/FrXodv0DXbAfgKt/wDDx/8AZnsPk8Xr458Ov3j174Ya3Bt%2BpFoyj8TUlr/wUv8A2EbqYW8v7S3h%2B0kP/LPU/OtGH1E0akV0c%2Bdpbzf3v/5Iy%2Bt5Nf44L5pfnylAf8E%2BrS140X9s79oKyA%2B6B8UJbnH/AIFRS/rR/wAMP/E6x/5Af/BRD44Regvr/R7rH/fenCuv039uf9i3VwPsP7Wfw4JPRZPGllGx/B5Qa27L9p/9mrUgDp37Q3gafPTyfFtm2fylqHiMzXxJ/OC/WmbRqZdL4Zx%2BU1/8mebf8Mj/ALT9vxp3/BSf4iqB0%2B0%2BFvD8387EUn/DLP7Yy8Rf8FMvGAH%2B38O/Djf%2B2deuQfG34MXQza/F3wxIP%2Bmev2x/k9WF%2BK3wucZX4k6AfprEH/xVR9bxi3iv/AI//IGijhXtL/yb/wC2PG/%2BGVv2wZOLj/gpj4zI/wCmfw/8Op/Kzpf%2BGP8A9pC641T/AIKR/E5wev2TQdBg/lYHFexP8WvhXEMyfEzw%2Bo9W1mAf%2Bz1Uufjv8D7ME3nxl8KRAdTJ4itl/m9CxWNe0V/4BH/5AGsKt5f%2BTf8A2x5P/wAMK%2BOLz5tb/wCCg3x5nPdbXX9LtVP/AH604EfnR/w7x8NXnHiD9rD4%2B6mp%2B9HP8W72FG%2Bq23lCvRL79q79lvSwTqX7SfgC3A6%2Bf4xsUx%2BctYWqft9fsRaQCbv9rP4etjqLbxZazH/yG7Var5pL4U/lBfpTMpVcth8VSPzmv/kzmP8Ah19%2Bx/ffP4r8N%2BLfEEh%2B8/iD4l67dbvqrXmw/wDfNanhz/gmv%2BwN4XlE2nfsj%2BBZ3Bzv1TQY75ifUm4D5NV3/wCCmn7DBcx2H7QFhqLA426Ppd7en8BBC%2Bab/wAPE/gdqXHgjwL8UfExP3f7C%2BFGsvu%2BhktkFW5Z01ZuaXq1%2BsTJYvJ09JwfpZ/kpHqfhH4K/BvwAVPgP4S%2BGdEKfcOkaDb2236eWgxXTV4Mf21PHWsfuvBH7Cfxnv5D9xtU0aw0uI/Vrq8Vh%2BK0f8Lw/bu13914e/YX0vSN/wB248VfFS0XZ7tHZQXGfoGrmlhsTJ3m185L/wCSbNVmGEStBSfpCb/9tSPeaK8G/s3/AIKYeJf3V34o%2BC3hOJ%2Br2OmaprE8Y9jJJbIT9VpP%2BGXv2pPFH7r4k/8ABQPxV5Dfft/BPhHS9Hx/uyPHcSj/AL7NT9Xpr4qsV6Xf5L9R/XKsvgoTfryx/OV/wPeq4T4iftQ/s3fCQSD4mfHjwjocked1tqPiC3jmJ9BGX3sfYAmuA/4dz/ALXPn%2BLHiT4gePn/6nP4h6lcx/9%2BY5Y4ce2zHtXd/Dv9lP9mb4SmOT4a/AHwfos0eNt1YeHrdJ8juZdm9j7kmjlwcd5Sl6JL82/wAg58yntCMfWTk/uikvxODP/BRP4MeI/k%2BCvgH4i/Edugk8GeBLx7fPbNzcrDBj/a8zHvR/wtv9vr4hfu/h/wDsp%2BGPBVu3MepfEfxoLiTb6m001JMH2My%2BhxXvdFHtqEfgpr/t5t/h7qD6ti6n8Ss/SKUfxfMzhvgj4W%2BPvh6z1C6%2BPvxZ0XxLe3ssb2dtoHhk6dbaaoDb40LTSyTBiQdzkEbenNZXxO%2BFfxf8Y/G7w3468K%2BMvDmm6L4f0u4SOPUtGnvLoXc8iLLLGFnijU/Z0Mau2/b5sh2HIrsPHPxU%2BGPwxs/7Q%2BJHxF0PQINu4S6zq0NqpHsZGGa8vn/b9%2BBWsStZ/CLTfFvxFuUYq0XgTwndXkQPvcsqW4HuZMUoOvKbqRjv5advJfiYYnE5XhYKhXrJNNOznebs77Lmm/8AwE7vWPgL8N/FmsaX4n8d6MNb1fSJfMtNUvMRyHEglRXWAIkqI6qyq6sFKg9ea7OvDz8Tf25PiH8ngH9nPw34ItW5TUfiH4m%2B1TlT3%2Bx6eGw3s06%2B%2BKQ/ss/Gfx/%2B8%2BPX7X/iu%2BhbltF8C20Xh6zweqM8W%2B5kXtzMM/pSlBtL2k1p8/wWn4mcMe5N/VMNOV%2BrSpp%2BrnaT/wDAGeh/FL4%2B/BP4J2f234s/FPQ9ABXdHDqOook0v/XOLO%2BQ%2ByqTXnX/AA1942%2BI37j9mj9mXxZ4oif/AFXiHxJF/YGklT0kWS7Xz5l9o4Tn19Ow%2BF37J37OXwZvP7W%2BHnwh0e01ItufWbmA3V%2B7dy11OXmJ%2Br16HU81COyb9dPwX%2BZfsc4xH8SrGku0FzS/8DnovlA8E%2BNEnjeX4g/sxyfEi10uDXW%2BL96dTi0SaSS0SX/hCvFORE0qq7LjHLAGve68Z/ag/wCS3/s4/wDZZr7/ANQrxRXs1ZN3dz1IR5IKN27dXu/XbX5BRRRSKCiiigAooooAKKKKAPl34DftjfG34gfGLwtJ420zwsvgP4ma14u0zwVZ6XptzFqulyaLdyxQyXlw9y8V0t3b21zMVjhgNu3lx5nyZBd%2BFf7U/wAXdd/bS8V/A34seJtE8M6Lb%2BJ7nTfAGgX/AMJ9btLnxPbRaXb3ZuLXXp7safdyK7XZa3ggaQR2rkgBGcdF4O/YM8DeAviTN8RvC/xd8bwC2utZuvCmhPPp0th4Wn1a9W81KWxR7IuzTyhx/pLziFJpY4BCr4rfvv2WoPEXxy0X41%2BPfjf418RQ%2BFtaudX8I%2BDtSOmR6Tot9NZ3Fk08X2ayiupittd3UaC5uJlUTsQNyoygHGf8FC/i58KPDXg/wZ8KPEfxO8Paf4p8QfGH4ey6D4avdagi1DUkj8Z6M0jW9uziSYKqsWKKQApJxg12vi/9kP4U%2BIfEt7468L3/AIh8H%2BINQnaa%2B1rwfr81lJcSHktJHloZST13xnPesv8Abw/5Ihof/ZZvhx/6muiV03iL4rfE/wAH67dxaz8A9V1HRo52FpqvhrUIbuV48/Kz2zGORTjqF3/jWVavToJOd7eSb%2B%2BydvuPNzKll1WlFYynzRT0fLJ8rtvePvR06prtc5z/AIQv9tD4fc%2BEvi94Y8d2a9LPxlo7afdhR/CLqyyjN7tD9fWj/hqHx94O/d/Gr9lrxnoyr9/UvDaR67ZKvdi1qfOUf70I966LRP2o/gdq96ukX/jaPRNQPDad4ltpNOmU%2BmLhUBP0JrvbS8tNQtkvLC6jnhkGY5YXDKw9QRwaVLEUK6vTmpejT/4K%2BaRwUMLCor5fjZadHKNWK9VP31/4GjgPA37WH7N/xGuv7O8K/GPRHvd206bfXX2O7B9DBcBJM/8AAa8V/wCCsfiXSrT4U%2BBNA0O4N542k%2BJ2jal4G8PWiGS51K5tpwX2KOirHIxLnCglQTlhXUftV/tU/wDBPvwLqs3gH9ovV/DWu65CiqvhsaF/at8Hb7kYSONzE5yCAxQ8g8ZBrwH9nv8AZaj%2BPX7Xt18efAHwg%2BJPwf8AAOleCvsnhu61K4/s/UBqj3HzSWtvKZhHbvAWDKV2k4x94ivp8pweIwdRZhXg404JyV/dU3ayir2bUubXlT0T1V0zx81x%2BZYinLLYOlWnNqL9m5KUVdNylFqcItcul6iSdtHqj7P0/wCAHwx0HxDqnizwlpd5oeo6zPJPqk2jatcW8d1O5BaaSFX8l5SQP3jIW6jOCareIvgpqXi7x5p3iTxN8TtVvdG0nWE1XT/DklnarHDdorLGRMkaytGu9mCMSd235sDB5v8A4Vh%2B2D4Q%2BfwZ%2B0vo3iOJOI7Lxx4QQNj0NxYyREn3MZ/Gj/haP7YHhT914v8A2YdI8QInMl74K8aRgkeogvo4T%2BG8mvB9pO97nrPE4SEeSvhKlNXvpByje99fZSknrrrG19WjkNa/ZV%2BK1z8LbzwlrGo6ZqS6J4efS/DljpszJLqkb3IlunneUIkM08C%2BRtBKKZHYvggL6f8ABvw34sl8Y%2BLviz4y0G50efxLdWkOn6LeTxSTWlnawlE80wu8fmPLJO%2BEdgFZBuOK5/8A4bP8GaL/AMlL%2BEvxH8JKv%2BsuNY8FXE0Cn/rrZiZD9c1s%2BFv2wP2XPGUgg0L49eFzMTgW15q0drNn08uYo%2BfbFXKvOcWmY4Stw5SxMXTxKUl9mUlFtpNLSahLRNpK1vVq7q/Eb4%2BfFX4c%2BMrzSx%2Byb4x8ReH4fL%2ByeIfC1/p9y1xmNWf/AEWS4jlTaxZehztyOtYf/DfvwR0f5fiT4Y8f%2BDG/6mj4ealCg/7aRwyR4992PevZtN1XS9ZtVv8AR9St7uB/uzW0yyIfoVJFWKSnStZw%2B5v/AIJ60sPmLk50cTo9UpQjJeicZRdu2/qzy7wt%2B23%2ByD4yYR6D%2B0p4MaRjhYLrX4LeUn02TMrZ/CvQtC8U%2BGPFEH2rw14jsNRixnzLG8SZcfVCRVLxT8MPhr44DL41%2BHmh6wGGGGqaTDcZ%2BvmKa89139gT9jDxBP8Aarr9m3wray5yJdJ04WLA%2BoNsUI/Cn/s77r7n/kTfPIdKU/nUg/ymj16ivEh%2BwF8DdM58D%2BJfiF4YPb/hH/iXq8QH0D3DgfTGKP8AhjrxTp3z%2BF/20fjHZsPurea/Z3yD6i5tHY/99UclF7T%2B9P8ARsPrWbR%2BLCp/4asf/boxZ7bUV3ZWd/Ebe%2BtIpoz1SWMMPyNeL/8ADP37Wdh8ujft66s6D7q6x8PtJuMfUxpET%2BdH/Csf28tM5sP2rfBWp46DU/hg8WfqYb/%2BlHsodJr8f8g/tHFL4sJU%2BXs3%2BVRHpOpfBz4RaySdX%2BFfhu6J6/adDt3z/wB9IaxL39lH9lvUiTqP7NngC4J6%2Bd4OsXz%2BcVcj/Zf/AAUZtPli8afBe%2BA6NN4d1aBj/wB83bj9KPP/AOCjkP8AzC/glcf9v%2BsQ5/8AIT1ovax2qr/wJmMsbQl8eEqf%2BCov/wBuZuT/ALEH7GFyd037JHwzJPUjwLp4P6Q1Xb9gz9iVzk/sk/Dn8PB1mP5R1l/23/wUXh/1nw4%2BDU3/AFy8Xaqv/oVjR/wlP/BQxeD8G/hO3uvjjUB/Owq%2BfFL/AJff%2BTv/ADM3iMue%2BDn/AOCDVj/YP/YmjOV/ZJ%2BHB/3vBlkf5x1btv2Kf2N7M7rX9kz4aRkfxL4E08H8/Jrn/wDhJ/8Agoc/C/B/4Sp7v431E/ysKP7W/wCCjM33PAfwWg/66eKdWc/pZD%2BdDninvW/8nf8AmCxGXrbBz/8ABCO0sf2Yf2atLIOm/s8%2BBrfHTyPCVmmPyird0z4Y/DbRCDo3w90O0I6G10mGPH/fKivLt3/BR2b/AJY/BK2/7a6xPj/x1KP7B/4KJ3/y3PxM%2BD2ng/xWfhHU52H/AH8vVB/KoaqS%2BKov/AmzWONox%2BDCVP8AwXFf%2B3o9sSNIkEcaBVAwFUYApa8S/wCFR/tzah81/wDtj%2BGrDPVNL%2BFaNj6NNet/Kj/hnD9pnU/k8S/t7eKjGeqaN4P0az/JjbyMPzNZ%2Byh1mvx/yNf7Qxb%2BHCVPm6a/ObPbaK8SP7Ftxe8%2BJP2u/jVqBb7yr42SyU/QWcERA/GqcP7Cn7JGsavNofid9c8T6nbxrJdW2v8AxG1S8mRG6M8TXWAD6leaOSgt5/cv82S8Xmrslh4xv/NVj/7bBnrvib4m/DfwUrN4y%2BIOh6SF%2B8dT1aGDH13sK88179vv9jTw9c/Yrj9ovw1ez5wINEvDqLk%2BgW1EhJ9hVb4Xfsu/sEXsM178Lfgt8N9WFlcGGe6tdMtL9oZQASpkYOVbB9c16zoPhXwv4Vtvsfhfw3YabDjHlWFmkK/kgAo/2dd39y/zFTnnOIgpQlRSfVc9T8bxizyD/hurwTrPPw3%2BB/xX8Wo3%2BruNH%2BHt1BC3/bW9ECD8TR/wvL9sPxR8vgj9isaXFJ/qr3xt49s7baPVobRbl/wyDXt1ZviLxj4Q8IW/2vxZ4q03S4sZ83Ub6OBcfVyBR7Sktofe2/8AIc8LjuXmr4txX92NOC%2B%2BXO/xPIv%2BEQ/4KB%2BMRs174zfDjwVEeceGPCtzqs49vMvJo0/HyvwNH/DGWqeKP3nxi/ar%2BKPicv8A8fFlba%2BmjWco9PJ06OE49i5rb1v9t39lLRLv%2Bzx8bdI1K57W3h8yanIx9AtoshNUv%2BGtb/X/AN38M/2Z/iZrzP8A6i5n8Prpds/v5t9JEce4U0e3qL4bL0S/4LPKlV4acuWpiHWfb2k6v/ktO6/A0PA/7FH7KHw7vP7U8NfAbw819u3f2lqln9vut3r590ZJM%2B%2B6vT4YYbeJYLeJURFCoiLgKB0AA6V5B/wl37cHi3/kA/BzwN4Qi/56eJvE82pTY9fKs4kTPt5v40n/AAoj9ozxb/yUn9rvVLWB%2BZLDwN4dtdMC%2BwnmE8uPcEVnKc5u8m36nZh8XRoQ5MBgp28oRpR%2B%2Bbi//JWz1zUNS07SLOTUdVv4bW3iXMs9xKERB6liQBXmPiH9tT9mzRNRbQtL%2BI8XiLUxwuleELSbVp2b%2B7i0WQKf94iqNj%2Bxf%2BzPHrML%2BOdHufGGsFTIk3jjxBcapLIB1YRXEjR4%2BiAV3fw%2B1n4UQzXPgr4bQ6bZ/wBnsRLp%2BnWAto12sUYoAqq4DDaSmQDwSDWTqQUkm1dmjrZ1Vkot0qN9FdupL0svZwvb1OD/AOF6ftF%2BOhs%2BE37K1/YQScR6t8RNYi0xEPqbaHzpyPYqh/lQfgt%2B018QPn%2BLH7TTaLayf6zR/hvo6WWPb7ZcmWY/VQn%2BHquv%2BJvDfhWyOpeKPEFjptsOtxf3aQoP%2BBOQK4S5/as%2BFF3O9j4D/tjxfdI2Gg8J6NNeKPrKAIQPcvWVXFYag7VJpPtfX7tX%2BBhXwuEpu2YYuU2/s8ygn6QpWk/vkch8cPC1n4K%2BI/7MvhTT9Qv7uGx%2BMF7Glzql89zcSf8AFFeKDuklkJZ2OepNe8V4X8e9Wvdd%2BKH7NGsajoF1pc9x8Yb55NPvWQywH/hCvFHytsZlz9Ca90reMlKKa6nv0lTjSiqatGytvtbTfXbvr3CiiimaBRRRQAUUUUAFFFFABRRRQB4z%2B3h/yRDQ/wDss3w4/wDU10SvUrLxv4O1HVZtCsfFOny31vKYp7NLtPNRwcEFM5/SvLf28P8AkiGh/wDZZvhx/wCprolem%2BJfh34E8YA/8JR4Q06%2BYj/W3FopcfR8bh%2BBrixv9oqCeD5G76qfMk15OF2nfq015Ey5uhyf7UHxr%2BBXwG%2BF1x43%2BPz2kuleYILTTJrJbqbUblgdlvBCQfNkbHToBksQoJHy74R/ZX/ag/ah1uH4hQWq/s3eDbpjJb6L4Ru508R38DdPtG11gsyy4ICpvTlWU1oeI/g54I8W/wDBVOHwy%2Bv3llpvgH4QR63oyS332mLS9Ul1LyzOqXPmKjGErxgH5UYYwK%2BoU0v48aOobTPGXh/XoiMganpz2shH%2B/CzL%2BOyujE5nHJPYKrgPaYiVONRzj7Ot7NScuVQg3Cf2b%2B0cGm3aMfdd/l54JZ7iZ1MTG1KnNwSjo5Sja7lNWna7soxlHRNybvY8u%2BDH7CU37LVrcJ%2Bzp8RLNHurhri8l8X%2BG4L67vJWOWaW9i8qdsknuQMnAGTXef8Jl%2B1F4b%2BXX/g1oHiFB1uPDPiQ274/wCuV2ijPt5la3/CxviLpH/I0/BXUWQcGfQtQhvAfcIxjf8ASlj%2BP3w1hcQa/f3uizE4MWt6XPbY/wCBOm39a8CvxDlNeu6uIxc6U5PX2vPDX/uNDl9Ep27Kx6NLLMJhKahhZypJbJP3f/AZqS/EyP8Ahp3QtJ48ffC/xv4cC8SXF94akuIFP/XW181ce/Favhz9pH4CeK3EOi/FzQWmJwLe41BIJc%2BnlylW/Suk0Xxl4R8SAHw94p06%2Bz0%2Bx3qSf%2Bgk0zxH4E8EeMIzF4t8HaVqikYK6jp8c4x/wNTXpUZ4itTU6FaFSPeyt/4FCTRuqeaQXuVYTX96LX4wl%2Bho2t3a3sC3VlcxzROMrJE4ZT9COtZXin4dfD7xxGYfGvgTRtYQjBXVNLiuAR6YkU1yN1%2ByV8AXna80nwKdHnY5E%2BgalcWDKfUCCRR%2BYqP/AIZ513Sv3ng/9ojx7YMv3I73U4dQiH/AbmJ2P/fVa%2B1x0fipJ/4ZL8pJfmTUnjpQ5a2HjNeU4tfdOKKOpfsMfsoX921/afBqw0q4b/lv4euZ9NYfQ2skeKg/4Y%2BsdM/5Ev8AaI%2BK2hqv%2Bqgg8ZvdxJ7BLxJhj2rV/wCEI/ah0b59I%2BOug6vjpFrvg/y8/V7adP0UUf21%2B1tpHz3vgPwLrSjtp2vXVm7fhLA4H/fRo%2BuNfHSmvlf/ANJk/wAjy3gMmTvLASg%2B8YW/GjUj%2BRlf8KS/aj0n5fDf7Zt1PGv3IvEXgWwuuPQvB5DH65o/sz9vPSP3dt4s%2BFOtovR7zR9RsJG%2BpjmmUfgtav8AwuD416d83iD9lvWNg%2B8%2Bj%2BIrC7/JWkjY/lS/8NK29t/yGvgd8R7ED7zP4UadV/G3eQUf2hhV8Ta9YyX/ALaL2WUw%2BGvWp/8Ab9Zf%2BlwmjJ/4T79tjRfl1T9nTwZrOOr6L8QJIM/QXFmP1Io/4X5%2B0Vp/za/%2BxP4iCDq%2Bk%2BLNKuvyBmjY/kK1v%2BGt/gbB8ur65qumv3TU/DF/Bj6loMfrVmx/au/Zu1A7YfjT4fQ%2BlzfrDj6%2BZjFNZhgG7e1j/wCBJfm0NTw17U8za8pSov8A9KhFmB/w1lq9r8usfsm/Fy2I%2B8YvDdtcr%2BBguXJ/Kl/4bO8E2/8AyGvhB8U9OHc3nw21HA/FI2B/Cu3sfjd8GNTwdO%2BLvhi4z08nX7dv5PWtaeM/B9/g2PivTZs9PKvo2z%2BRreNehP4Zp%2BjT/JnVCGPn/Dx8Zf8AcOk//SaiPMv%2BG6f2dYeNT1bxLYt3W88A6wmPx%2BykUf8ADen7KC/6/wCKbQ/9fOgX8X/ocAr12KeGdd8EyuPVGBp1am3sM96Yim/%2B4T/SqeP/APDfX7Hw%2B/8AHXSk/wCusM6/zjFKP2%2Bf2OD/AM3BaB%2BMrj/2WvX6Qqp6gH60B7HP/wDn9S/8Fz/%2BWnkJ/b6/Y4HT9oHQT7LJIf5LR/w3x%2ByEf9X8btOk/wCuVpcP/wCgxmvXwAOgooD2Of8A/P6l/wCC5/8Ay08g/wCG8/2Vm/1HxIup/wDr28MalL/6Bbmj/huT4DT/APIIXxfqB7Cy%2BHurtn/vq2Fev1FcX1laDN1eRRD1kkC/zobS3B0M9triaa9KT/Wqc38LPi1o3xb0661TRPDHiPTYrWYRkeI/D1xp7S5Gd0azqpdfccZ4riPjlZXvhf4leGviHpGpSQxDW7SDWPL8TXRnkWRvJWCKwJNuytvBdhtf5SQCea9JvPiB4D0/P2/xtpEGOvnalEuPzauT1f4h/sqQeJY/Gmt%2BNfAH9tQIEh1SfULI3aKM4VZCd4AyeAe59axliMPD4pperS/UzxsY1cFGlVrw500%2BZtQ2d7pKT9LXs9btXPNP2hL7w8fHGsa7qdzbS6zJpOnP8NbqJ1aWWeO6/fwWb9TM7EK6odzI5ByoOIJvCd5qXjy98Dafot1beLJ/EOutd6mLKRQ%2Bm3do5SUz42mPeY0Rd2VaMAABcj0x/wBq/wDZl0tVs7X4saKwQYSHTy02B7CJT%2BlJ/wANYfCO6%2BXQIvEurt2XTPB2oSZ%2BhMIB/OsXmOA/5%2Bx%2BTT/K541XC5TVxEqk8XDV3aVm9d9U2%2BbpGVrqOmpjfAbT/Ed34%2Bg1u48KanpEOm%2BArHRdZj1DTZLZJdQglb/U7lAmRV3jzEypDJg%2BnVfFP4UeNviLq1tNonx88TeFNPitvLuLDw7b2Yad9xPmedNBI6nBAwOOM4zms7/hovULz5dC/Z5%2BI12x%2B6ZtCjtVP1NxMhH5Un/C0f2hNQ/5A/7MMkCt92TWfGFpDj3KwiU/hS%2Bv4Z/C2/SMn/7aj0aP9mRwX1aUp1E3d8saivt/Io2WiulKz1b3ssr/AIYt8A6p8vjz4pfEnxOh%2B9DrPj69WI/8AtmiUfgBWj4e/Yt/ZS8MT/a9P%2BAnhuefOftGqWAvZM%2Bu%2B43tn3zmpPtH7XuqfNFpvw80ZG6Ca5vb6RfwVYVJ/Gj/AIVr%2B0Zqvza5%2B0lDZK334dA8IW8eB6B7h5T%2BOBR9bnL4KM38lH/0qX6EQwOUqXNTy9yfeUI3%2B%2BrObO/0Tw74f8NWgsPDmhWenwDpDZWqRIPwUAVb3Lu2bhuIyBnnFea/8M02Wo/8jf8AGX4gayrf6yGbxM9tE/tstViGK3/h/wDA34V/C7Upta8D%2BEktL25g8m4vZLmWeaSPcG2tJK7MRkA9e1XCpi5zXNTUV5yu/uSt%2BJ7FCpjXJR9jGEP8abS8lGNvxRS%2BNfiD4geEdKj8TeELxpIbcjztPh0Q3JkIyzNLIHzFEEByVQtnGCchag%2BKPh/X/Fdxonivw3f2t1pdtbzSXlpc%2BI7mwtplYI0cpMAIlwV4D4XDHmrnxWl03U9Q0jwdqN9q8UOpTtHdjS7wQgxNiMCU4LFWZguFIOT1xWZ4607R7NrnSIPBuj3umaJp0Oo3Nhq1kbgOq7owIt7bYtqRsc7TkjGBnNeNjsxwtJ1%2BaTai4ppXbUrOe3blTct9E1ZvQwxGHq1alVN%2B6%2BW2r0ktdLJ2Xddexxt9rFrr%2Bsx%2BOU8OXcWs%2BIDomp%2BFZHs3eVNy%2BVNbeYB8qxruaRSQCJC2DurpfA3gnxfpHi3w9odzoF1Db%2BFZdTQ6y0sZgvLKdj5ESgNvL/6ktlcAwnk7hWlH4h8UpfzXtjrRET6vJpVvpvkRrFADEGgdQF3bhkM2SQQTgACnfCvUF/tSxt9M1CaaHUPDqXmpQT3bzPb3gZFbcXJKltzgjgZiPFebhs0w1THwpcsrylv7qv7zs7K97yi29VKEbXTV7Y0ctjGqpym27p6JK%2Bt9d95K990rLY6jxN8PfAnjW8s9Q8YeDtM1WbTt5sX1GySbyC%2B3cV3g4J2rz7CtSGG00%2B1EMEUcEMS4VEUKqKPYcAVi%2BMNC8Q%2BIp7ey0D4gz6KqKxu47O1hklmBxtIaQHy8c8gHOR0xzkJ8BfA924m8W3WreIZAchtc1WWZR/2zBWP/AMdr26%2BKzFYmcMHhVLo5yqQjFuy6RU6jttqo/dZnrezUKjlGCTe70V/XS7%2BZxf7TFxb3fxo/ZvubWdJY3%2BMt8UkjYMrD/hCvFHQjrXtNeJftHaZpujfGD9m3S9IsIbW2g%2BMl8sNvbxBEQf8ACFeKOAo4Fe2169P2ns17S3NZXte1%2Btr62vtfXubK4UUUVYBRRRQAUUUUAFFFFAHMeHPjb8GPGPxB1n4SeEfi74Y1XxX4cRX8Q%2BGdN1%2B2n1DS1bG1ri2RzJADuXBdRnI9aLX42/Bm%2B%2BKdz8C7L4ueGJvG9nYC9vPB0Wv27arBakKRO9oH85YyHT5yu35l55FfHH7PHh7xn4L%2BNXgPQ/EHwg8a6dqXwx8T/Em/8f8AiY%2BB9Ra11K21jWJJLQWtykBXUjevPa3rJbmUwi0bzxE8YWrvg74f/EGL9qTw98N5fhR4oh17Qf2nfEnj3WvGcvhq6TSpvDt5oWp29tImpmP7NPIVvbDT/sqyGZPszMYxHCr0Ae9/t4f8kQ0P/ss3w4/9TXRKyP2nf2n2%2BBXjXT/hR8E/B2oeOPin4vgkk0TwfHqBFraRA/NfXbMcW8CkHnI3bWUFQCy3f22fg/8AtP8Axh8KaLpfwA8VeAlttJ8YeG9d1Dw54w029hfVW0vXrHUzHHqltLILEMloVy1hdbmIHyBty%2BEfsK%2BFf2vdFt/GPx20n9nf4beJPFniLxvr%2BkeIPFniz466j9um/svWLvTTBGsXhgpFbB7MlFTbuXYSqYWOPahhcoq1Y4jGw55UnzU4%2B8rzaau2pK0UviWvNpG27XFjXmMoqjhXyKekp6XjFa%2B6mneT2T2jrJ30T9a/Z2/ZJ%2BIHwh03xH8S/in4k0/xT8RvH1%2Bt54u1O3hkSKJuEhtbckE/Z4ELKu5R1J4AUD2jxnLps%2Bn2zT31mn2fdMLK6JHn7VK7V5U5B6HB5A45rz7/AITj/goX/wBGv/Bn/wAPxq3/AMy9I/jT/goPIAJP2W/guwByN3x31Y4P/hLV8pnfD7zfE43Eup7%2BKjBSUruMeR3jypWairRtC7haKjbllO/oYB0svw9KhTj7sL27tvVtt7tttuW7bv2t39xqN8Zmlsrqa3W0e1hgs9wIdnAZlfOSTtYDrxjNWdO16/1C%2BtjdCF7PUWnEEHlHcqJnDlicEMB0x/EK8vk8Qft7y6iurSfso/BY3KDCyn476tkcEf8AQr9cE8%2B9Qabqv7fml3Ru4f2Y/g%2B5CssKSfHvVisKsclUH/CLcAkD16AV5NHI%2BIsPj4yjXvTc7u0mlypqzcWmtYXp%2BzhaCfLJ3srdsq%2BGlTacdbdv19dbvXdHqetfCD4W%2BIWMmr/D/SZXPWZbJEk/76UBv1rN/wCFE%2BFrL/kWfEXiPRh2TTfEE%2Bz/AL4kZ1/DFeMTfHL9uzxl8Zdb%2BB1t%2BzR8M7HVfDHhjSddury1%2BP2qRwSwalcalbwop/4RglnVtKnLBlAAkjwWJYL1%2BmeLP%2BCiFhYx2c/7N3wfumQHM8/x41Xe/JPOPCwHt07V6s8ly7E5lONXLoKNrqqnBOT0umoKnUi99XJp280cEqNBwUrq/azX47Hcf8K%2B%2BKGncaH8b7t0H3Y9X0a3uPzZBG360bf2hdP4EnhDU1Xuy3No7fl5gzXHf8Jx/wAFC/8Ao1/4M/8Ah%2BNW/wDmXo/4Tj/goX/0a/8ABn/w/Grf/MvXR/q9hofwK1an/hrTa%2B6ftEZezXRv7/8Ahzsf%2BE4%2BL1l/yEvgkZgPvPpniGCTPuFlEZo/4XLJbcav8J/GNqR95l0cTqPxhd647/hOP%2BChf/Rr/wAGf/D8at/8y9cvq37R37duj/GfQPgdcfsofCRtU8ReF9X12zuU%2BOuqeRHBp1zptvMjk%2BGNwdm1SAqApBCSZKkKGP7Lzan/AAsfP/t%2BnRn%2BSpsOWfSX5HrX/DQXwui%2BXU9WvbBu66ho11Dj6lo8frW14U%2BIngbxy0qeEPFNnqDQqGmS2mDMgPQkdRXmf/Ccf8FC/wDo1/4M/wDh%2BNW/%2BZemJ4v/AOCgUUrTx/sr/BZXcfM6/HXVQT9T/wAItW%2BGo57Trr29enOHW1OUZfJqpKP3oaVRPVr7v%2BCeh%2BPfG2peHZILHw/p8d1cGaA3fmhtkMMkojBOP4mJIUe3PFQfEHXIbW4awt/ClhqckFhJe3ov8BUgTIwvyNlzg4BwOOSK8n8XaX%2B2x41mivNb/ZD%2BCD3Mc0T/AGv/AIXhqnmssbhghY%2BFs7TjBHoTioPEsH/BRfxARJF8A/g3byTWMljfyL8bdUYz2znO1f8AimAEYAkBucbjwa87G0uIubEum7qTjycrV0kpXVpqybfI225JrmtayTicZyTT1X9dzv7zS/hPrWrRxXHwP8PXVg1xb29ze3Wm25dJZkDIAhjIZRuUMdwIJ4B5NUtH%2BFP7OHi3VIrOb9nvw3bwX0Usul3a6PbKLtI2AchUUFPvA89Qa8k%2BL3xJ/by%2BC9haeONb/Zr%2BEUui33jfw7p/9mWXxr1Rpvtt/qFnpNs3mN4bVRCs1zDLINpbCOVzwh6nwva/8FDvD13pss/7O/wXuIdHsJrTTol%2BN2roypIyEl2/4Rk7mAjUZAXue/HLSwueSxUfbU4uHNreNK1r2dtLqHLrH7XPo9DllgcLUfv0oP1jD/5E9El/ZC/Zplbf/wAKd0hD6wxtH/6Cwpv/AAyD%2BzsP9V8PPL/646tdp/6DKK4vxdd/8FEPFkUEcPwM%2BGOkmBmO/SP2gdUjMmccNu8KNkDHH1NYf/COf8FJo/8AUeC/BA/66ftAXrfz8H16GKpTo13Gll0akf5lKjG//bskmrbbkSynLL6YaH/gMV%2BiPUP%2BGRfgEPueFNQT/rn4o1Ff5XFH/DI3wJ7eH9YH08Yap/8AJNeX/wBjf8FOl/1fhD4ej/e%2BOd23/uoVy/xt%2BIX/AAUm%2BA/wY8XfHHxT4E8B3Wl%2BDPDF/rupWth8abhria3tLaS4kSMP4TVS5WMhQzKMkZIHNc/NX/6FT/8AA6H/AMkif7Ky3/oGj90T3j/hkb4Ed/Durn6%2BL9UP/tzR/wAMifADo/g%2B9f8A66eJdQb%2Bc9eX/wBlf8FQz97wn8Ofw%2BNt0P8A3UaP7E/4KbN/rfB/w/P%2B58dbtf8A3UKOau9sqf8A4HQ/%2BSYf2Vlv/QNH7onqH/DIH7OTf634aQy/9d9QuZP/AEKU1Lb/ALJH7NNqcx/BjQ2P/TW13/8AoRNeVf8ACM/8FIX5n8EeCm9k/aFvk/l4Qo/4RH/goW/%2Bv%2BGvg1/%2B7ldWT/0DwoKF9c6ZVH51KH/yDGsqy1bYWH/gMP8A5Fns1n%2Bzl%2Bz9YYNt8EfCgI6M3h%2B3Y/mUJrXsfhh8NNLx/Znw80K3x08jSIUx%2BS14F/wg37dcn/H78EPAtz6if9qDxB/TwyK5f4I3v7Tfx7%2BDHhD45aD%2Bx38NBpvjPwvp%2Bu6db6z%2B0nr7TxW93bR3EaSqvh5kDhZAGClhkHBI5raMs5X8PAUo%2BtWP/tlBm8MJh6fwUYL0UV%2BUD66RNK0eHai29rGOwCov9KoXvxA8B6bn%2B0fG2kW%2BOvn6lEmPzavn%2BD4bftRwP5g/Ya%2BBEjetx8dNXlP/AI/4YNadlo37X%2BnYNh%2Bw5%2Bz7CR3j%2BMeoA/n/AMIrWynxPLanQh6zqy/KEDpXtErJJfeerXnx6%2BDVk2yT4kaVIewt7kSk/TZnNQH4%2BeALjjRota1Juy6f4eu5M/Q%2BWAfzrh7PxN%2B3zp67bD9k/wCCUA9Ifjnqq/y8LVP/AMJx/wAFC/8Ao1/4M/8Ah%2BNW/wDmXo%2Br8S1PixFKP%2BGlKX4zqr8UFqvdfd/wTsf%2BFua1efJonwZ8WTsehurWG1U/jLKCPyo/4Sz426h8mn/COwss9JNU8RqcfVYY3/nXk3gH9o79u34ieK/G/hDR/wBlD4SQ3HgPxRFoWqyXPx11QJPPJpWn6mHi2%2BGCSnk6jCpLBTvRxjADN1H/AAnH/BQv/o1/4M/%2BH41b/wCZej%2ByszqfxcfU/wC3IUof%2B2Tf4hySe8vyOx/s/wDaB1L5LrxL4W0pT3s9NnunH4ySID%2BVa/hHw14w0a7lu/FPxEuNZ8yPakDadDbxxHOdwCDcT25Y15v/AMJx/wAFC/8Ao1/4M/8Ah%2BNW/wDmXo/4Tj/goX/0a/8ABn/w/Grf/MvW%2BHyXD0K0a0qtWcltz1Ztf%2BArlg/nFjUEne7%2B873xv8MY/F92%2BpQ%2BJdRs52FvhILjbF%2B5kLoSFAbILNjDDBOai%2BIHhL%2B0dPe6N/P9smje0VLXaguYGJJgkDB8qF3EsMN94gjJrz698U/8FEbu5t54/wBnL4QQLA5Z4ofjxqm2b2bPhUnH0x1rlh8dP22/GXxj1z4E3P7JPwlbUvDXhrSNfubl/jzqy27wajcanbQohXwzuLq2mTlwVC4kjwWJYL5uZ5IsXhcZDD0VCpUslJz0k7fEkublceaSV46vWzi2ntThQjUjKeq6rX/NfhY9r1XwpYXrad4w0LSplu2aF5Dauu4oY9obbIfLLhSFDkbgvANQXP8AZJupNStXayc2UshkGI3e5hkw5k2YEjducjHTrXnmn6l%2B37p2lJo1v%2BzN8IFgRNqrF8fdXjI5JyCnhYEHnHWp49d/b0itEsf%2BGTvgo8Ub70WX47as%2BGzndlvC5JOe/WvEr8L5njlzvkpynGDmrtx9rGKTceTllFNuUpSTTk4w00Z2U6%2BGov3VezdtEnZ9731tp6XPQYhINVRpLYpqMuqRTxuIjl7dkXeC2PuqN4wT1UV02qWd1f2D2lpqctpI2MXEKqWUZ5xuBHI4/GvIv%2BE4/wCChQ6fsvfBn/w/Grf/ADL0f8Jx/wAFC/8Ao1/4M/8Ah%2BNW/wDmXr6LKuHqeXYevRnUc41d7Xg9pXbcZJ875neacW7R6xu8auJdSUZJWt8/z6aba9SH9pG0ax%2BMX7Nto93NcGP4yXwM07Au/wDxRXijkkADP4V7ZXyv8T/Ev7Vur/tJ/s6Wvxr%2BC/w98P6OPi5qLR33hb4nX2sXJn/4QvxNtQwT6LZKEILEv5pIIA2HJK/VFe9SpQo0o04Kyiklu9ErLVtt%2Brbfdt6nO25O7CiiitBBRRRQAUUUUAFFFFABVHxR4hsPCXhrUfFeqhza6ZYzXdyIly3lxoXbA7nCmr1R3dpa39rLY3tuk0M0bRzRSqGV1IwVIPBBHGKAPm/9jX9qX4%2BfFTxho3hX4/6b4SR/G/wn074geF18J6fc2/8AZdvcShJ9MumnuJhdSQia023cYgWUvL%2B4i2Dd5XYf8FHvjL8OvhgfjT4l%2BH/gy68N%2BO/hf4r8dfDPQNC064sbmylsb20FvaalcPPKly94upwzyTxQweS6TKUm3K9e8/AD9hfwh%2Bzpqtvq/hP4y%2BOtTl07RdO0DQxr9zp1wNK8P2TyvBo0JWyQm3zL880he8kEUW%2B5by1xjaT/AMEzvgNbWniDw94k8VeLdf8AD2reEtc8MaH4Y1bUbZbTwtpOr3CXF/a6c1vbxToHkhtyjzyzyQrbRJE8artIB037Mnxc%2BMfiPx94/wDgX8f7vwzqHibwLdaZMuueENHuNOsdQsb%2B082Jvs1xc3LwypLFcxMPOcMsccg2bzGnsVed/AD9nPSvgMfEOsXHxI8TeNPEXivUYbvxB4s8YSWZvrvyLaO2gi22VtbW8cUcUYCrHEuWeR23PI7N6JQAV8u/Ab9sb42/ED4xeFpPG2meFl8B/EzWvF2meCrPS9NuYtV0uTRbuWKGS8uHuXiulu7e2uZiscMBt28uPM%2BTIPqKvDPB37BngbwF8SZviN4X%2BLvjeAW11rN14U0J59OlsPC0%2BrXq3mpS2KPZF2aeUOP9JecQpNLHAIVfFAFPXPip8cfh5%2B2p4R%2BGetaj4B13SviI2poukaH4XurbXdB0ewtZp4tRu717yWO6txdPFalBbwBZtUj2M2H3ZH/BOH9qf4u/tH%2BBfO/aL8T6JZeO/wDhGdI1XWfh5b/CfW/Cl94ca6jlMiyLq93M%2BowGVHijuoEjiLW0vLk4TrfA37Gn/CA/tKeLP2l9O/aU%2BIV3e%2BNJ1Os%2BHtSi0OaxW3it3htbKGX%2BzBewWtuZHmjhS5C%2Bc8kj7zLL5mx8G/2X7b4W/EXVPi/4t%2BNPjL4g%2BKdS0S30ZNb8ZHTY3s9PhlkmFvDFptlaQKGllZ3do2kYhAX2oqgA9RooooA%2BXf2mv2xvjb8K/in4xf4eaZ4Wbwb8JtF8N6n47ttZ025m1HWI9UvriKaOxmjuY47Rra1t/PDSRXAnklEWIQpkM37ZH7SvxM%2BBX7Qvg6zttX8PeEvA0nhHUrzxL8RfEfwi1nxFbabIt7YItpLe2F3bwaRDJG0srz3beV/oyk8JXbfGf9iH4cfG74pH4ma5458VaXFqNrpFr4v8NaNdWqad4pg0u9kvbGK%2BWW3kmCxzTS5%2BzywGWOQxTGWMKgn%2BOn7JN1%2B0J4Jl%2BGPjz9pb4hxeGNU0e40nxdoOmLosMXiSynLiaG5l/s0zwhonaAtaSW7eWeu/56APPNS/bG%2BNtr%2B0BdywaZ4W/wCFY6f8ZrP4aXNg%2Bm3J1uW8uNNgnGprdfafIWJby5itvsptyxjV5/PBxDX1FXi9x%2Bw78NZ/j3/wvAeNvFMdo/imHxRP4DjubQaHNr0WnLp0Wpsn2b7T5q2yRgRC4Fv5kSTGEyjzK9ooAK%2Bev2vP2if2gPAfxAg%2BF37OFr4RXU9P%2BGuu%2BN9ZuPGWm3N1DdQWElrFDpsIt7iAwSXD3EmbpjKsAhH7iYyYX6FryP8AaX/Y88H/ALTOoWWtaj8SfF/hHULfw/qfh%2B%2B1HwbeWsM2paLqHkG80%2BY3NtOFjka2hYSxCO4iKExTR733AHNftOfHfxlB%2BxX/AMNdfC/xZ4T0PRtN8FjxleWfjXwHca811Clql7bQQRW%2BpWRjufMCBDmQmTYFUNg1w17%2B1j%2B1b8Pvjr4D%2BGn7Q2ueD/BGkXfw%2B8IXni3Xf%2BFQ69qOl6j4l1C9vbbUdKt9Wiv1s9ICtBaJB9sMzF72P/W8IfcfHn7MPgv4j/DSy%2BD/AIn8Say3hzTvFGk6vaaVai0hjWHTby3u7XTCEtxushJaxBkbMjoCjSFWIqp8dP2WoP2gtctk8bfG/wAa2/hJZrGbU/h7ph0yPStVktblbmMzytZNfANIke9IrqNHWMKVwzhwD1SiiigDxf8A4KC/F344fs/fsj%2BNPj18Ar3wpHrHgnQrvXLqDxhotzfW13aWttLM9uiW11bMkrsiKJC5VAWJR%2BBV39sH4n%2BLvAng7w14F%2BHumaDca98R/GVr4U02XxVpsl7plqs8M9xczXNtHLC1yi2lrc4hEsfmOUUuoJI1P2sf2cbL9rT4Ea9%2Bz7rXxV8U%2BEdJ8T2Utjrl/wCEF077Xc2UsTxTW26/tLqNEdX5ZEWQFRtdec53jf8AZWk%2BJXw6s/BHjz9oLx1qOp6TqenapoHjExaPBqek6lZklbyEQaclszyBnWRJYJIWSR08sKxUgHgkn7d37VvjLQ/%2BEM%2BGejeALbxt4T0Lx1qXji51nSL2bTdSfw5rA0qO2so47tJLQXzbpxNJJcfZFAQx3JO4fW3wv8e6Z8VPhp4d%2BJ%2BiW0sNl4k0K01S0hnxvSK4hSVFbHcBwD714h4h/wCCaXwn1jwLpPg/Rvi58QNBvLPTfEOna74n0XUrFdS8SWmu3a3usRXry2bxg3N0om8y2jglgbIt3gUlT9BaHomkeGdEs/Dfh/T4rSw0%2B1jtrK0gXakMMahURR2AUAAegoAtVzXxik%2BJsPwy1if4Oa1oOneJYrXfpl74m0qa%2BsYirAuZYIJ7eSUeWHwqyx/MVy2M10tYXxM8Hap8QfAep%2BC9G%2BIOs%2BFbjUbfyU8QeH4bOS8swSCzRLe29xbkkAqfMhcYY4AOCADgvgJ8UfjB%2B0N%2BxH8P/jX4fufDWj%2BNfHHw40TXGlvNKuLjS7O8vLKC4lP2ZbhJpIlMj7Y/PViAoMnVq8Avf2zP2otB%2BDmnr4D0jwrdQaP8c7vwJqHjzwd8Gtd1/R5NCs9Eurl9RtNE029a6jWLUYU0lyLmWJJYJWztKhfYvCX7DU/gz9ktP2PNJ/a3%2BK66Da%2BCE8K6Vr8M%2BiW2sabYxokUTwXFtpcarMkCCFZShO0lzmXEo0fB/wCyN4m%2BHvwQ0n4G%2BAf2vPiNolroVwi6Tq%2Bl6J4VhuLWwS3WCPTUhXRPsa2ybQ6kW/nBjjzdmEAB6F8HfG%2Bm/Er4T%2BGviBpHjjSPE1vrOh2t2niHw/aNb2OpF4lY3EETyytDG5JZY2kkZAQrOxBJ6SuX%2BCvwh8G/AP4U6D8HPh/FcrpHh7T0tLNr65aaeUDJaWWRuXkdizs3dmJwOldRQAV4v%2Bxz8Xfjh8Srr4peDvj9e%2BFLvWfh/wDExvD1tfeD9FubC1uLVtG0rUkLRXN1cuZFbUHjLhwriNWCJkivaK8X%2BBP7HmsfAnxp4v8AGtp%2B1l8SvEcnjjxXD4g16x8Q2nh0QPdpa29mQn2TSIHSN7e0tomAfOIQylXZ2YA8M8Eft/8AxV8G/Df4xfET4vQeGrbxd4a0vxBrGifDBvhRrXhm%2Bv47K/fT7K8bUr%2B6ki1a3kjXT1kubWHZF9pi5A2Ifef2ZPi58Y/Efj7x/wDAv4/3fhnUPE3gW60yZdc8IaPcadY6hY39p5sTfZri5uXhlSWK5iYec4ZY45Bs3mNMzXP2CPA3xE1XxBqvx6%2BMHjn4hnXPBOr%2BErSDxJPp1smi6TqckD3sNp/ZtlanzHNpaYnmMsyfZk2upLlux%2BAH7OelfAY%2BIdYuPiR4m8aeIvFeow3fiDxZ4wkszfXfkW0dtBFtsra2t44o4owFWOJcs8jtueR2YA9EooooA8X%2BCvxd%2BOGtftcfFn4C/FS98KXWj%2BGNC8Pa54Qn8P6Lc2tzFaalc6zD9nvHmupluJUXTIm8yNIFzK42HANc/wCJPiJ%2B0t4V/b88F/CDTPFXw51Xw54u0jWNY8Q2cHw%2BvLfWdL0HTkSK336j/arxSyHUNRt1VWtFVka6KqpUmug0X9jzWNA/aL8YftJad%2B1l8ShqHjPSrLTL3QntPDp0%2BztLOe6mtIoB/ZHnjyje3ShpJpGZZjvLlUK9ppfwL8K6X8cPEv7QKatqc2v%2BJPDGm6A3nzRmHTrKylu5kW2URgozy3sryMxfeUiHAjUAA8d/4Jw/tT/F39o/wL537RfifRLLx3/wjOkarrPw8t/hPrfhS%2B8ONdRymRZF1e7mfUYDKjxR3UCRxFraXlycJ9LV5d8G/wBl%2B2%2BFvxF1T4v%2BLfjT4y%2BIPinUtEt9GTW/GR02N7PT4ZZJhbwxabZWkChpZWd3aNpGIQF9qKo9RoAK8H/a1%2BM37QXwG8SeF/F3gzxB4IvfD2teLtC8O23gW%2B8OXkmua5c3t8sNy1pex3qxQmC1aS62NaTDy7SZneNAXj94rxn4k/scr8RP2ndE/amt/wBo74gaFqvh/QxpWmaBpkOiXGlwQPN5ty0aX2mXE0MtyBHHNLFKjtHDGisgHIBwv7bH7UPxm%2BFvjLxBZ/Brw54Ouk%2BE/wAKbr4leJh4s0qe5m1GFWuoYtPsJIriEWM8sNrqCm7cTqm6NfJdXcirH%2B2z8YtQ%2BNZ17StO8Ln4VxfF6w%2BHT2Mul3P9uS3N3plvcLqi3P2nyUiW8uorY2ptyxjV5vPBxDXcfHT9hHwV%2B0G0U3jb4weOLaa78L3fhjxfPpFxp0DeK9CuZhLJpl8PsRVYvvoslsLedEmlCyjzHJtT/sOfDSb49f8AC718a%2BKIrRvFMPiifwFFc2g0ObXodOXTotTZPs32kSrbJGBELgW/mRJMYTKPMoA9oooooAKKKKACiiigAooooAKKKKACiiigAooooAKKKKACiiigAooooAKKKKACiiigAooooAKKKKACiiigAooooAKKKKACiiigAooooAKKKKACiiigAooooAKKKKACiiigAooooAKKKKACiiigAooooAKKKKAP/9k%3D\">"
      ]
     },
     "metadata": {},
     "output_type": "display_data"
    },
    {
     "ename": "KeyboardInterrupt",
     "evalue": "",
     "output_type": "error",
     "traceback": [
      "\u001b[0;31m---------------------------------------------------------------------------\u001b[0m",
      "\u001b[0;31mRuntimeError\u001b[0m                              Traceback (most recent call last)",
      "\u001b[0;32m<ipython-input-34-9ce86ec3820a>\u001b[0m in \u001b[0;36m<module>\u001b[0;34m()\u001b[0m\n\u001b[1;32m      1\u001b[0m \u001b[0;32mtry\u001b[0m\u001b[0;34m:\u001b[0m\u001b[0;34m\u001b[0m\u001b[0m\n\u001b[0;32m----> 2\u001b[0;31m     \u001b[0mdisplay_html\u001b[0m\u001b[0;34m(\u001b[0m\u001b[0mHTML\u001b[0m\u001b[0;34m(\u001b[0m\u001b[0manim\u001b[0m\u001b[0;34m.\u001b[0m\u001b[0mto_html5_video\u001b[0m\u001b[0;34m(\u001b[0m\u001b[0;34m)\u001b[0m\u001b[0;34m)\u001b[0m\u001b[0;34m)\u001b[0m\u001b[0;34m\u001b[0m\u001b[0m\n\u001b[0m\u001b[1;32m      3\u001b[0m \u001b[0;31m# In case the build-in renderers are unaviable, fall back to\u001b[0m\u001b[0;34m\u001b[0m\u001b[0;34m\u001b[0m\u001b[0m\n",
      "\u001b[0;32m/opt/conda/lib/python3.6/site-packages/matplotlib/animation.py\u001b[0m in \u001b[0;36mto_html5_video\u001b[0;34m(self)\u001b[0m\n\u001b[1;32m   1154\u001b[0m                 \u001b[0;31m# appropriate size for the tag\u001b[0m\u001b[0;34m\u001b[0m\u001b[0;34m\u001b[0m\u001b[0m\n\u001b[0;32m-> 1155\u001b[0;31m                 \u001b[0mWriter\u001b[0m \u001b[0;34m=\u001b[0m \u001b[0mwriters\u001b[0m\u001b[0;34m[\u001b[0m\u001b[0mrcParams\u001b[0m\u001b[0;34m[\u001b[0m\u001b[0;34m'animation.writer'\u001b[0m\u001b[0;34m]\u001b[0m\u001b[0;34m]\u001b[0m\u001b[0;34m\u001b[0m\u001b[0m\n\u001b[0m\u001b[1;32m   1156\u001b[0m                 writer = Writer(codec='h264',\n",
      "\u001b[0;32m/opt/conda/lib/python3.6/site-packages/matplotlib/animation.py\u001b[0m in \u001b[0;36m__getitem__\u001b[0;34m(self, name)\u001b[0m\n\u001b[1;32m    128\u001b[0m         \u001b[0;32mif\u001b[0m \u001b[0;32mnot\u001b[0m \u001b[0mself\u001b[0m\u001b[0;34m.\u001b[0m\u001b[0mavail\u001b[0m\u001b[0;34m:\u001b[0m\u001b[0;34m\u001b[0m\u001b[0m\n\u001b[0;32m--> 129\u001b[0;31m             \u001b[0;32mraise\u001b[0m \u001b[0mRuntimeError\u001b[0m\u001b[0;34m(\u001b[0m\u001b[0;34m\"No MovieWriters available!\"\u001b[0m\u001b[0;34m)\u001b[0m\u001b[0;34m\u001b[0m\u001b[0m\n\u001b[0m\u001b[1;32m    130\u001b[0m         \u001b[0;32mreturn\u001b[0m \u001b[0mself\u001b[0m\u001b[0;34m.\u001b[0m\u001b[0mavail\u001b[0m\u001b[0;34m[\u001b[0m\u001b[0mname\u001b[0m\u001b[0;34m]\u001b[0m\u001b[0;34m\u001b[0m\u001b[0m\n",
      "\u001b[0;31mRuntimeError\u001b[0m: No MovieWriters available!",
      "\nDuring handling of the above exception, another exception occurred:\n",
      "\u001b[0;31mKeyboardInterrupt\u001b[0m                         Traceback (most recent call last)",
      "\u001b[0;32m<ipython-input-34-9ce86ec3820a>\u001b[0m in \u001b[0;36m<module>\u001b[0;34m()\u001b[0m\n\u001b[1;32m      4\u001b[0m \u001b[0;31m# a custom one, that doesn't require external libraries\u001b[0m\u001b[0;34m\u001b[0m\u001b[0;34m\u001b[0m\u001b[0m\n\u001b[1;32m      5\u001b[0m \u001b[0;32mexcept\u001b[0m \u001b[0mRuntimeError\u001b[0m\u001b[0;34m:\u001b[0m\u001b[0;34m\u001b[0m\u001b[0m\n\u001b[0;32m----> 6\u001b[0;31m     \u001b[0manim\u001b[0m\u001b[0;34m.\u001b[0m\u001b[0msave\u001b[0m\u001b[0;34m(\u001b[0m\u001b[0;32mNone\u001b[0m\u001b[0;34m,\u001b[0m \u001b[0mwriter\u001b[0m\u001b[0;34m=\u001b[0m\u001b[0mmatplotlib_utils\u001b[0m\u001b[0;34m.\u001b[0m\u001b[0mSimpleMovieWriter\u001b[0m\u001b[0;34m(\u001b[0m\u001b[0;36m0.001\u001b[0m\u001b[0;34m)\u001b[0m\u001b[0;34m)\u001b[0m\u001b[0;34m\u001b[0m\u001b[0m\n\u001b[0m",
      "\u001b[0;32m/opt/conda/lib/python3.6/site-packages/matplotlib/animation.py\u001b[0m in \u001b[0;36msave\u001b[0;34m(self, filename, writer, fps, dpi, codec, bitrate, extra_args, metadata, extra_anim, savefig_kwargs)\u001b[0m\n\u001b[1;32m   1011\u001b[0m                         \u001b[0;31m# TODO: See if turning off blit is really necessary\u001b[0m\u001b[0;34m\u001b[0m\u001b[0;34m\u001b[0m\u001b[0m\n\u001b[1;32m   1012\u001b[0m                         \u001b[0manim\u001b[0m\u001b[0;34m.\u001b[0m\u001b[0m_draw_next_frame\u001b[0m\u001b[0;34m(\u001b[0m\u001b[0md\u001b[0m\u001b[0;34m,\u001b[0m \u001b[0mblit\u001b[0m\u001b[0;34m=\u001b[0m\u001b[0;32mFalse\u001b[0m\u001b[0;34m)\u001b[0m\u001b[0;34m\u001b[0m\u001b[0m\n\u001b[0;32m-> 1013\u001b[0;31m                     \u001b[0mwriter\u001b[0m\u001b[0;34m.\u001b[0m\u001b[0mgrab_frame\u001b[0m\u001b[0;34m(\u001b[0m\u001b[0;34m**\u001b[0m\u001b[0msavefig_kwargs\u001b[0m\u001b[0;34m)\u001b[0m\u001b[0;34m\u001b[0m\u001b[0m\n\u001b[0m\u001b[1;32m   1014\u001b[0m \u001b[0;34m\u001b[0m\u001b[0m\n\u001b[1;32m   1015\u001b[0m         \u001b[0;31m# Reconnect signal for first draw if necessary\u001b[0m\u001b[0;34m\u001b[0m\u001b[0;34m\u001b[0m\u001b[0m\n",
      "\u001b[0;32m/home/jovyan/work/week2/matplotlib_utils.py\u001b[0m in \u001b[0;36mgrab_frame\u001b[0;34m(self, **kwargs)\u001b[0m\n\u001b[1;32m     23\u001b[0m     \u001b[0;32mdef\u001b[0m \u001b[0mgrab_frame\u001b[0m\u001b[0;34m(\u001b[0m\u001b[0mself\u001b[0m\u001b[0;34m,\u001b[0m \u001b[0;34m**\u001b[0m\u001b[0mkwargs\u001b[0m\u001b[0;34m)\u001b[0m\u001b[0;34m:\u001b[0m\u001b[0;34m\u001b[0m\u001b[0m\n\u001b[1;32m     24\u001b[0m         \u001b[0mimg_data\u001b[0m \u001b[0;34m=\u001b[0m \u001b[0mio\u001b[0m\u001b[0;34m.\u001b[0m\u001b[0mBytesIO\u001b[0m\u001b[0;34m(\u001b[0m\u001b[0;34m)\u001b[0m\u001b[0;34m\u001b[0m\u001b[0m\n\u001b[0;32m---> 25\u001b[0;31m         \u001b[0mself\u001b[0m\u001b[0;34m.\u001b[0m\u001b[0mfig\u001b[0m\u001b[0;34m.\u001b[0m\u001b[0msavefig\u001b[0m\u001b[0;34m(\u001b[0m\u001b[0mimg_data\u001b[0m\u001b[0;34m,\u001b[0m \u001b[0mformat\u001b[0m\u001b[0;34m=\u001b[0m\u001b[0;34m'jpeg'\u001b[0m\u001b[0;34m)\u001b[0m\u001b[0;34m\u001b[0m\u001b[0m\n\u001b[0m\u001b[1;32m     26\u001b[0m         \u001b[0mimg_data\u001b[0m\u001b[0;34m.\u001b[0m\u001b[0mseek\u001b[0m\u001b[0;34m(\u001b[0m\u001b[0;36m0\u001b[0m\u001b[0;34m)\u001b[0m\u001b[0;34m\u001b[0m\u001b[0m\n\u001b[1;32m     27\u001b[0m         \u001b[0muri\u001b[0m \u001b[0;34m=\u001b[0m \u001b[0;34m'data:image/jpeg;base64,'\u001b[0m \u001b[0;34m+\u001b[0m \u001b[0murllib\u001b[0m\u001b[0;34m.\u001b[0m\u001b[0mrequest\u001b[0m\u001b[0;34m.\u001b[0m\u001b[0mquote\u001b[0m\u001b[0;34m(\u001b[0m\u001b[0mbase64\u001b[0m\u001b[0;34m.\u001b[0m\u001b[0mb64encode\u001b[0m\u001b[0;34m(\u001b[0m\u001b[0mimg_data\u001b[0m\u001b[0;34m.\u001b[0m\u001b[0mgetbuffer\u001b[0m\u001b[0;34m(\u001b[0m\u001b[0;34m)\u001b[0m\u001b[0;34m)\u001b[0m\u001b[0;34m)\u001b[0m\u001b[0;34m\u001b[0m\u001b[0m\n",
      "\u001b[0;32m/opt/conda/lib/python3.6/site-packages/matplotlib/figure.py\u001b[0m in \u001b[0;36msavefig\u001b[0;34m(self, *args, **kwargs)\u001b[0m\n\u001b[1;32m   1570\u001b[0m             \u001b[0mself\u001b[0m\u001b[0;34m.\u001b[0m\u001b[0mset_frameon\u001b[0m\u001b[0;34m(\u001b[0m\u001b[0mframeon\u001b[0m\u001b[0;34m)\u001b[0m\u001b[0;34m\u001b[0m\u001b[0m\n\u001b[1;32m   1571\u001b[0m \u001b[0;34m\u001b[0m\u001b[0m\n\u001b[0;32m-> 1572\u001b[0;31m         \u001b[0mself\u001b[0m\u001b[0;34m.\u001b[0m\u001b[0mcanvas\u001b[0m\u001b[0;34m.\u001b[0m\u001b[0mprint_figure\u001b[0m\u001b[0;34m(\u001b[0m\u001b[0;34m*\u001b[0m\u001b[0margs\u001b[0m\u001b[0;34m,\u001b[0m \u001b[0;34m**\u001b[0m\u001b[0mkwargs\u001b[0m\u001b[0;34m)\u001b[0m\u001b[0;34m\u001b[0m\u001b[0m\n\u001b[0m\u001b[1;32m   1573\u001b[0m \u001b[0;34m\u001b[0m\u001b[0m\n\u001b[1;32m   1574\u001b[0m         \u001b[0;32mif\u001b[0m \u001b[0mframeon\u001b[0m\u001b[0;34m:\u001b[0m\u001b[0;34m\u001b[0m\u001b[0m\n",
      "\u001b[0;32m/opt/conda/lib/python3.6/site-packages/matplotlib/backend_bases.py\u001b[0m in \u001b[0;36mprint_figure\u001b[0;34m(self, filename, dpi, facecolor, edgecolor, orientation, format, **kwargs)\u001b[0m\n\u001b[1;32m   2242\u001b[0m                 \u001b[0morientation\u001b[0m\u001b[0;34m=\u001b[0m\u001b[0morientation\u001b[0m\u001b[0;34m,\u001b[0m\u001b[0;34m\u001b[0m\u001b[0m\n\u001b[1;32m   2243\u001b[0m                 \u001b[0mbbox_inches_restore\u001b[0m\u001b[0;34m=\u001b[0m\u001b[0m_bbox_inches_restore\u001b[0m\u001b[0;34m,\u001b[0m\u001b[0;34m\u001b[0m\u001b[0m\n\u001b[0;32m-> 2244\u001b[0;31m                 **kwargs)\n\u001b[0m\u001b[1;32m   2245\u001b[0m         \u001b[0;32mfinally\u001b[0m\u001b[0;34m:\u001b[0m\u001b[0;34m\u001b[0m\u001b[0m\n\u001b[1;32m   2246\u001b[0m             \u001b[0;32mif\u001b[0m \u001b[0mbbox_inches\u001b[0m \u001b[0;32mand\u001b[0m \u001b[0mrestore_bbox\u001b[0m\u001b[0;34m:\u001b[0m\u001b[0;34m\u001b[0m\u001b[0m\n",
      "\u001b[0;32m/opt/conda/lib/python3.6/site-packages/matplotlib/backends/backend_agg.py\u001b[0m in \u001b[0;36mprint_jpg\u001b[0;34m(self, filename_or_obj, *args, **kwargs)\u001b[0m\n\u001b[1;32m    591\u001b[0m                 \u001b[0mshould\u001b[0m \u001b[0mbe\u001b[0m \u001b[0mstored\u001b[0m \u001b[0;32mas\u001b[0m \u001b[0ma\u001b[0m \u001b[0mprogressive\u001b[0m \u001b[0mJPEG\u001b[0m \u001b[0mfile\u001b[0m\u001b[0;34m.\u001b[0m\u001b[0;34m\u001b[0m\u001b[0m\n\u001b[1;32m    592\u001b[0m             \"\"\"\n\u001b[0;32m--> 593\u001b[0;31m             \u001b[0mbuf\u001b[0m\u001b[0;34m,\u001b[0m \u001b[0msize\u001b[0m \u001b[0;34m=\u001b[0m \u001b[0mself\u001b[0m\u001b[0;34m.\u001b[0m\u001b[0mprint_to_buffer\u001b[0m\u001b[0;34m(\u001b[0m\u001b[0;34m)\u001b[0m\u001b[0;34m\u001b[0m\u001b[0m\n\u001b[0m\u001b[1;32m    594\u001b[0m             \u001b[0;32mif\u001b[0m \u001b[0mkwargs\u001b[0m\u001b[0;34m.\u001b[0m\u001b[0mpop\u001b[0m\u001b[0;34m(\u001b[0m\u001b[0;34m\"dryrun\"\u001b[0m\u001b[0;34m,\u001b[0m \u001b[0;32mFalse\u001b[0m\u001b[0;34m)\u001b[0m\u001b[0;34m:\u001b[0m\u001b[0;34m\u001b[0m\u001b[0m\n\u001b[1;32m    595\u001b[0m                 \u001b[0;32mreturn\u001b[0m\u001b[0;34m\u001b[0m\u001b[0m\n",
      "\u001b[0;32m/opt/conda/lib/python3.6/site-packages/matplotlib/backends/backend_agg.py\u001b[0m in \u001b[0;36mprint_to_buffer\u001b[0;34m(self)\u001b[0m\n\u001b[1;32m    561\u001b[0m \u001b[0;34m\u001b[0m\u001b[0m\n\u001b[1;32m    562\u001b[0m     \u001b[0;32mdef\u001b[0m \u001b[0mprint_to_buffer\u001b[0m\u001b[0;34m(\u001b[0m\u001b[0mself\u001b[0m\u001b[0;34m)\u001b[0m\u001b[0;34m:\u001b[0m\u001b[0;34m\u001b[0m\u001b[0m\n\u001b[0;32m--> 563\u001b[0;31m         \u001b[0mFigureCanvasAgg\u001b[0m\u001b[0;34m.\u001b[0m\u001b[0mdraw\u001b[0m\u001b[0;34m(\u001b[0m\u001b[0mself\u001b[0m\u001b[0;34m)\u001b[0m\u001b[0;34m\u001b[0m\u001b[0m\n\u001b[0m\u001b[1;32m    564\u001b[0m         \u001b[0mrenderer\u001b[0m \u001b[0;34m=\u001b[0m \u001b[0mself\u001b[0m\u001b[0;34m.\u001b[0m\u001b[0mget_renderer\u001b[0m\u001b[0;34m(\u001b[0m\u001b[0;34m)\u001b[0m\u001b[0;34m\u001b[0m\u001b[0m\n\u001b[1;32m    565\u001b[0m         \u001b[0moriginal_dpi\u001b[0m \u001b[0;34m=\u001b[0m \u001b[0mrenderer\u001b[0m\u001b[0;34m.\u001b[0m\u001b[0mdpi\u001b[0m\u001b[0;34m\u001b[0m\u001b[0m\n",
      "\u001b[0;32m/opt/conda/lib/python3.6/site-packages/matplotlib/backends/backend_agg.py\u001b[0m in \u001b[0;36mdraw\u001b[0;34m(self)\u001b[0m\n\u001b[1;32m    462\u001b[0m \u001b[0;34m\u001b[0m\u001b[0m\n\u001b[1;32m    463\u001b[0m         \u001b[0;32mtry\u001b[0m\u001b[0;34m:\u001b[0m\u001b[0;34m\u001b[0m\u001b[0m\n\u001b[0;32m--> 464\u001b[0;31m             \u001b[0mself\u001b[0m\u001b[0;34m.\u001b[0m\u001b[0mfigure\u001b[0m\u001b[0;34m.\u001b[0m\u001b[0mdraw\u001b[0m\u001b[0;34m(\u001b[0m\u001b[0mself\u001b[0m\u001b[0;34m.\u001b[0m\u001b[0mrenderer\u001b[0m\u001b[0;34m)\u001b[0m\u001b[0;34m\u001b[0m\u001b[0m\n\u001b[0m\u001b[1;32m    465\u001b[0m         \u001b[0;32mfinally\u001b[0m\u001b[0;34m:\u001b[0m\u001b[0;34m\u001b[0m\u001b[0m\n\u001b[1;32m    466\u001b[0m             \u001b[0mRendererAgg\u001b[0m\u001b[0;34m.\u001b[0m\u001b[0mlock\u001b[0m\u001b[0;34m.\u001b[0m\u001b[0mrelease\u001b[0m\u001b[0;34m(\u001b[0m\u001b[0;34m)\u001b[0m\u001b[0;34m\u001b[0m\u001b[0m\n",
      "\u001b[0;32m/opt/conda/lib/python3.6/site-packages/matplotlib/artist.py\u001b[0m in \u001b[0;36mdraw_wrapper\u001b[0;34m(artist, renderer, *args, **kwargs)\u001b[0m\n\u001b[1;32m     61\u001b[0m     \u001b[0;32mdef\u001b[0m \u001b[0mdraw_wrapper\u001b[0m\u001b[0;34m(\u001b[0m\u001b[0martist\u001b[0m\u001b[0;34m,\u001b[0m \u001b[0mrenderer\u001b[0m\u001b[0;34m,\u001b[0m \u001b[0;34m*\u001b[0m\u001b[0margs\u001b[0m\u001b[0;34m,\u001b[0m \u001b[0;34m**\u001b[0m\u001b[0mkwargs\u001b[0m\u001b[0;34m)\u001b[0m\u001b[0;34m:\u001b[0m\u001b[0;34m\u001b[0m\u001b[0m\n\u001b[1;32m     62\u001b[0m         \u001b[0mbefore\u001b[0m\u001b[0;34m(\u001b[0m\u001b[0martist\u001b[0m\u001b[0;34m,\u001b[0m \u001b[0mrenderer\u001b[0m\u001b[0;34m)\u001b[0m\u001b[0;34m\u001b[0m\u001b[0m\n\u001b[0;32m---> 63\u001b[0;31m         \u001b[0mdraw\u001b[0m\u001b[0;34m(\u001b[0m\u001b[0martist\u001b[0m\u001b[0;34m,\u001b[0m \u001b[0mrenderer\u001b[0m\u001b[0;34m,\u001b[0m \u001b[0;34m*\u001b[0m\u001b[0margs\u001b[0m\u001b[0;34m,\u001b[0m \u001b[0;34m**\u001b[0m\u001b[0mkwargs\u001b[0m\u001b[0;34m)\u001b[0m\u001b[0;34m\u001b[0m\u001b[0m\n\u001b[0m\u001b[1;32m     64\u001b[0m         \u001b[0mafter\u001b[0m\u001b[0;34m(\u001b[0m\u001b[0martist\u001b[0m\u001b[0;34m,\u001b[0m \u001b[0mrenderer\u001b[0m\u001b[0;34m)\u001b[0m\u001b[0;34m\u001b[0m\u001b[0m\n\u001b[1;32m     65\u001b[0m \u001b[0;34m\u001b[0m\u001b[0m\n",
      "\u001b[0;32m/opt/conda/lib/python3.6/site-packages/matplotlib/figure.py\u001b[0m in \u001b[0;36mdraw\u001b[0;34m(self, renderer)\u001b[0m\n\u001b[1;32m   1141\u001b[0m \u001b[0;34m\u001b[0m\u001b[0m\n\u001b[1;32m   1142\u001b[0m             mimage._draw_list_compositing_images(\n\u001b[0;32m-> 1143\u001b[0;31m                 renderer, self, dsu, self.suppressComposite)\n\u001b[0m\u001b[1;32m   1144\u001b[0m \u001b[0;34m\u001b[0m\u001b[0m\n\u001b[1;32m   1145\u001b[0m             \u001b[0mrenderer\u001b[0m\u001b[0;34m.\u001b[0m\u001b[0mclose_group\u001b[0m\u001b[0;34m(\u001b[0m\u001b[0;34m'figure'\u001b[0m\u001b[0;34m)\u001b[0m\u001b[0;34m\u001b[0m\u001b[0m\n",
      "\u001b[0;32m/opt/conda/lib/python3.6/site-packages/matplotlib/image.py\u001b[0m in \u001b[0;36m_draw_list_compositing_images\u001b[0;34m(renderer, parent, dsu, suppress_composite)\u001b[0m\n\u001b[1;32m    137\u001b[0m     \u001b[0;32mif\u001b[0m \u001b[0mnot_composite\u001b[0m \u001b[0;32mor\u001b[0m \u001b[0;32mnot\u001b[0m \u001b[0mhas_images\u001b[0m\u001b[0;34m:\u001b[0m\u001b[0;34m\u001b[0m\u001b[0m\n\u001b[1;32m    138\u001b[0m         \u001b[0;32mfor\u001b[0m \u001b[0mzorder\u001b[0m\u001b[0;34m,\u001b[0m \u001b[0ma\u001b[0m \u001b[0;32min\u001b[0m \u001b[0mdsu\u001b[0m\u001b[0;34m:\u001b[0m\u001b[0;34m\u001b[0m\u001b[0m\n\u001b[0;32m--> 139\u001b[0;31m             \u001b[0ma\u001b[0m\u001b[0;34m.\u001b[0m\u001b[0mdraw\u001b[0m\u001b[0;34m(\u001b[0m\u001b[0mrenderer\u001b[0m\u001b[0;34m)\u001b[0m\u001b[0;34m\u001b[0m\u001b[0m\n\u001b[0m\u001b[1;32m    140\u001b[0m     \u001b[0;32melse\u001b[0m\u001b[0;34m:\u001b[0m\u001b[0;34m\u001b[0m\u001b[0m\n\u001b[1;32m    141\u001b[0m         \u001b[0;31m# Composite any adjacent images together\u001b[0m\u001b[0;34m\u001b[0m\u001b[0;34m\u001b[0m\u001b[0m\n",
      "\u001b[0;32m/opt/conda/lib/python3.6/site-packages/matplotlib/artist.py\u001b[0m in \u001b[0;36mdraw_wrapper\u001b[0;34m(artist, renderer, *args, **kwargs)\u001b[0m\n\u001b[1;32m     61\u001b[0m     \u001b[0;32mdef\u001b[0m \u001b[0mdraw_wrapper\u001b[0m\u001b[0;34m(\u001b[0m\u001b[0martist\u001b[0m\u001b[0;34m,\u001b[0m \u001b[0mrenderer\u001b[0m\u001b[0;34m,\u001b[0m \u001b[0;34m*\u001b[0m\u001b[0margs\u001b[0m\u001b[0;34m,\u001b[0m \u001b[0;34m**\u001b[0m\u001b[0mkwargs\u001b[0m\u001b[0;34m)\u001b[0m\u001b[0;34m:\u001b[0m\u001b[0;34m\u001b[0m\u001b[0m\n\u001b[1;32m     62\u001b[0m         \u001b[0mbefore\u001b[0m\u001b[0;34m(\u001b[0m\u001b[0martist\u001b[0m\u001b[0;34m,\u001b[0m \u001b[0mrenderer\u001b[0m\u001b[0;34m)\u001b[0m\u001b[0;34m\u001b[0m\u001b[0m\n\u001b[0;32m---> 63\u001b[0;31m         \u001b[0mdraw\u001b[0m\u001b[0;34m(\u001b[0m\u001b[0martist\u001b[0m\u001b[0;34m,\u001b[0m \u001b[0mrenderer\u001b[0m\u001b[0;34m,\u001b[0m \u001b[0;34m*\u001b[0m\u001b[0margs\u001b[0m\u001b[0;34m,\u001b[0m \u001b[0;34m**\u001b[0m\u001b[0mkwargs\u001b[0m\u001b[0;34m)\u001b[0m\u001b[0;34m\u001b[0m\u001b[0m\n\u001b[0m\u001b[1;32m     64\u001b[0m         \u001b[0mafter\u001b[0m\u001b[0;34m(\u001b[0m\u001b[0martist\u001b[0m\u001b[0;34m,\u001b[0m \u001b[0mrenderer\u001b[0m\u001b[0;34m)\u001b[0m\u001b[0;34m\u001b[0m\u001b[0m\n\u001b[1;32m     65\u001b[0m \u001b[0;34m\u001b[0m\u001b[0m\n",
      "\u001b[0;32m/opt/conda/lib/python3.6/site-packages/matplotlib/axes/_base.py\u001b[0m in \u001b[0;36mdraw\u001b[0;34m(self, renderer, inframe)\u001b[0m\n\u001b[1;32m   2407\u001b[0m             \u001b[0mrenderer\u001b[0m\u001b[0;34m.\u001b[0m\u001b[0mstop_rasterizing\u001b[0m\u001b[0;34m(\u001b[0m\u001b[0;34m)\u001b[0m\u001b[0;34m\u001b[0m\u001b[0m\n\u001b[1;32m   2408\u001b[0m \u001b[0;34m\u001b[0m\u001b[0m\n\u001b[0;32m-> 2409\u001b[0;31m         \u001b[0mmimage\u001b[0m\u001b[0;34m.\u001b[0m\u001b[0m_draw_list_compositing_images\u001b[0m\u001b[0;34m(\u001b[0m\u001b[0mrenderer\u001b[0m\u001b[0;34m,\u001b[0m \u001b[0mself\u001b[0m\u001b[0;34m,\u001b[0m \u001b[0mdsu\u001b[0m\u001b[0;34m)\u001b[0m\u001b[0;34m\u001b[0m\u001b[0m\n\u001b[0m\u001b[1;32m   2410\u001b[0m \u001b[0;34m\u001b[0m\u001b[0m\n\u001b[1;32m   2411\u001b[0m         \u001b[0mrenderer\u001b[0m\u001b[0;34m.\u001b[0m\u001b[0mclose_group\u001b[0m\u001b[0;34m(\u001b[0m\u001b[0;34m'axes'\u001b[0m\u001b[0;34m)\u001b[0m\u001b[0;34m\u001b[0m\u001b[0m\n",
      "\u001b[0;32m/opt/conda/lib/python3.6/site-packages/matplotlib/image.py\u001b[0m in \u001b[0;36m_draw_list_compositing_images\u001b[0;34m(renderer, parent, dsu, suppress_composite)\u001b[0m\n\u001b[1;32m    137\u001b[0m     \u001b[0;32mif\u001b[0m \u001b[0mnot_composite\u001b[0m \u001b[0;32mor\u001b[0m \u001b[0;32mnot\u001b[0m \u001b[0mhas_images\u001b[0m\u001b[0;34m:\u001b[0m\u001b[0;34m\u001b[0m\u001b[0m\n\u001b[1;32m    138\u001b[0m         \u001b[0;32mfor\u001b[0m \u001b[0mzorder\u001b[0m\u001b[0;34m,\u001b[0m \u001b[0ma\u001b[0m \u001b[0;32min\u001b[0m \u001b[0mdsu\u001b[0m\u001b[0;34m:\u001b[0m\u001b[0;34m\u001b[0m\u001b[0m\n\u001b[0;32m--> 139\u001b[0;31m             \u001b[0ma\u001b[0m\u001b[0;34m.\u001b[0m\u001b[0mdraw\u001b[0m\u001b[0;34m(\u001b[0m\u001b[0mrenderer\u001b[0m\u001b[0;34m)\u001b[0m\u001b[0;34m\u001b[0m\u001b[0m\n\u001b[0m\u001b[1;32m    140\u001b[0m     \u001b[0;32melse\u001b[0m\u001b[0;34m:\u001b[0m\u001b[0;34m\u001b[0m\u001b[0m\n\u001b[1;32m    141\u001b[0m         \u001b[0;31m# Composite any adjacent images together\u001b[0m\u001b[0;34m\u001b[0m\u001b[0;34m\u001b[0m\u001b[0m\n",
      "\u001b[0;32m/opt/conda/lib/python3.6/site-packages/matplotlib/artist.py\u001b[0m in \u001b[0;36mdraw_wrapper\u001b[0;34m(artist, renderer, *args, **kwargs)\u001b[0m\n\u001b[1;32m     61\u001b[0m     \u001b[0;32mdef\u001b[0m \u001b[0mdraw_wrapper\u001b[0m\u001b[0;34m(\u001b[0m\u001b[0martist\u001b[0m\u001b[0;34m,\u001b[0m \u001b[0mrenderer\u001b[0m\u001b[0;34m,\u001b[0m \u001b[0;34m*\u001b[0m\u001b[0margs\u001b[0m\u001b[0;34m,\u001b[0m \u001b[0;34m**\u001b[0m\u001b[0mkwargs\u001b[0m\u001b[0;34m)\u001b[0m\u001b[0;34m:\u001b[0m\u001b[0;34m\u001b[0m\u001b[0m\n\u001b[1;32m     62\u001b[0m         \u001b[0mbefore\u001b[0m\u001b[0;34m(\u001b[0m\u001b[0martist\u001b[0m\u001b[0;34m,\u001b[0m \u001b[0mrenderer\u001b[0m\u001b[0;34m)\u001b[0m\u001b[0;34m\u001b[0m\u001b[0m\n\u001b[0;32m---> 63\u001b[0;31m         \u001b[0mdraw\u001b[0m\u001b[0;34m(\u001b[0m\u001b[0martist\u001b[0m\u001b[0;34m,\u001b[0m \u001b[0mrenderer\u001b[0m\u001b[0;34m,\u001b[0m \u001b[0;34m*\u001b[0m\u001b[0margs\u001b[0m\u001b[0;34m,\u001b[0m \u001b[0;34m**\u001b[0m\u001b[0mkwargs\u001b[0m\u001b[0;34m)\u001b[0m\u001b[0;34m\u001b[0m\u001b[0m\n\u001b[0m\u001b[1;32m     64\u001b[0m         \u001b[0mafter\u001b[0m\u001b[0;34m(\u001b[0m\u001b[0martist\u001b[0m\u001b[0;34m,\u001b[0m \u001b[0mrenderer\u001b[0m\u001b[0;34m)\u001b[0m\u001b[0;34m\u001b[0m\u001b[0m\n\u001b[1;32m     65\u001b[0m \u001b[0;34m\u001b[0m\u001b[0m\n",
      "\u001b[0;32m/opt/conda/lib/python3.6/site-packages/matplotlib/axis.py\u001b[0m in \u001b[0;36mdraw\u001b[0;34m(self, renderer, *args, **kwargs)\u001b[0m\n\u001b[1;32m   1139\u001b[0m \u001b[0;34m\u001b[0m\u001b[0m\n\u001b[1;32m   1140\u001b[0m         \u001b[0;32mfor\u001b[0m \u001b[0mtick\u001b[0m \u001b[0;32min\u001b[0m \u001b[0mticks_to_draw\u001b[0m\u001b[0;34m:\u001b[0m\u001b[0;34m\u001b[0m\u001b[0m\n\u001b[0;32m-> 1141\u001b[0;31m             \u001b[0mtick\u001b[0m\u001b[0;34m.\u001b[0m\u001b[0mdraw\u001b[0m\u001b[0;34m(\u001b[0m\u001b[0mrenderer\u001b[0m\u001b[0;34m)\u001b[0m\u001b[0;34m\u001b[0m\u001b[0m\n\u001b[0m\u001b[1;32m   1142\u001b[0m \u001b[0;34m\u001b[0m\u001b[0m\n\u001b[1;32m   1143\u001b[0m         \u001b[0;31m# scale up the axis label box to also find the neighbors, not\u001b[0m\u001b[0;34m\u001b[0m\u001b[0;34m\u001b[0m\u001b[0m\n",
      "\u001b[0;32m/opt/conda/lib/python3.6/site-packages/matplotlib/artist.py\u001b[0m in \u001b[0;36mdraw_wrapper\u001b[0;34m(artist, renderer, *args, **kwargs)\u001b[0m\n\u001b[1;32m     61\u001b[0m     \u001b[0;32mdef\u001b[0m \u001b[0mdraw_wrapper\u001b[0m\u001b[0;34m(\u001b[0m\u001b[0martist\u001b[0m\u001b[0;34m,\u001b[0m \u001b[0mrenderer\u001b[0m\u001b[0;34m,\u001b[0m \u001b[0;34m*\u001b[0m\u001b[0margs\u001b[0m\u001b[0;34m,\u001b[0m \u001b[0;34m**\u001b[0m\u001b[0mkwargs\u001b[0m\u001b[0;34m)\u001b[0m\u001b[0;34m:\u001b[0m\u001b[0;34m\u001b[0m\u001b[0m\n\u001b[1;32m     62\u001b[0m         \u001b[0mbefore\u001b[0m\u001b[0;34m(\u001b[0m\u001b[0martist\u001b[0m\u001b[0;34m,\u001b[0m \u001b[0mrenderer\u001b[0m\u001b[0;34m)\u001b[0m\u001b[0;34m\u001b[0m\u001b[0m\n\u001b[0;32m---> 63\u001b[0;31m         \u001b[0mdraw\u001b[0m\u001b[0;34m(\u001b[0m\u001b[0martist\u001b[0m\u001b[0;34m,\u001b[0m \u001b[0mrenderer\u001b[0m\u001b[0;34m,\u001b[0m \u001b[0;34m*\u001b[0m\u001b[0margs\u001b[0m\u001b[0;34m,\u001b[0m \u001b[0;34m**\u001b[0m\u001b[0mkwargs\u001b[0m\u001b[0;34m)\u001b[0m\u001b[0;34m\u001b[0m\u001b[0m\n\u001b[0m\u001b[1;32m     64\u001b[0m         \u001b[0mafter\u001b[0m\u001b[0;34m(\u001b[0m\u001b[0martist\u001b[0m\u001b[0;34m,\u001b[0m \u001b[0mrenderer\u001b[0m\u001b[0;34m)\u001b[0m\u001b[0;34m\u001b[0m\u001b[0m\n\u001b[1;32m     65\u001b[0m \u001b[0;34m\u001b[0m\u001b[0m\n",
      "\u001b[0;32m/opt/conda/lib/python3.6/site-packages/matplotlib/axis.py\u001b[0m in \u001b[0;36mdraw\u001b[0;34m(self, renderer)\u001b[0m\n\u001b[1;32m    262\u001b[0m \u001b[0;34m\u001b[0m\u001b[0m\n\u001b[1;32m    263\u001b[0m         \u001b[0;32mif\u001b[0m \u001b[0mself\u001b[0m\u001b[0;34m.\u001b[0m\u001b[0mlabel1On\u001b[0m\u001b[0;34m:\u001b[0m\u001b[0;34m\u001b[0m\u001b[0m\n\u001b[0;32m--> 264\u001b[0;31m             \u001b[0mself\u001b[0m\u001b[0;34m.\u001b[0m\u001b[0mlabel1\u001b[0m\u001b[0;34m.\u001b[0m\u001b[0mdraw\u001b[0m\u001b[0;34m(\u001b[0m\u001b[0mrenderer\u001b[0m\u001b[0;34m)\u001b[0m\u001b[0;34m\u001b[0m\u001b[0m\n\u001b[0m\u001b[1;32m    265\u001b[0m         \u001b[0;32mif\u001b[0m \u001b[0mself\u001b[0m\u001b[0;34m.\u001b[0m\u001b[0mlabel2On\u001b[0m\u001b[0;34m:\u001b[0m\u001b[0;34m\u001b[0m\u001b[0m\n\u001b[1;32m    266\u001b[0m             \u001b[0mself\u001b[0m\u001b[0;34m.\u001b[0m\u001b[0mlabel2\u001b[0m\u001b[0;34m.\u001b[0m\u001b[0mdraw\u001b[0m\u001b[0;34m(\u001b[0m\u001b[0mrenderer\u001b[0m\u001b[0;34m)\u001b[0m\u001b[0;34m\u001b[0m\u001b[0m\n",
      "\u001b[0;32m/opt/conda/lib/python3.6/site-packages/matplotlib/artist.py\u001b[0m in \u001b[0;36mdraw_wrapper\u001b[0;34m(artist, renderer, *args, **kwargs)\u001b[0m\n\u001b[1;32m     61\u001b[0m     \u001b[0;32mdef\u001b[0m \u001b[0mdraw_wrapper\u001b[0m\u001b[0;34m(\u001b[0m\u001b[0martist\u001b[0m\u001b[0;34m,\u001b[0m \u001b[0mrenderer\u001b[0m\u001b[0;34m,\u001b[0m \u001b[0;34m*\u001b[0m\u001b[0margs\u001b[0m\u001b[0;34m,\u001b[0m \u001b[0;34m**\u001b[0m\u001b[0mkwargs\u001b[0m\u001b[0;34m)\u001b[0m\u001b[0;34m:\u001b[0m\u001b[0;34m\u001b[0m\u001b[0m\n\u001b[1;32m     62\u001b[0m         \u001b[0mbefore\u001b[0m\u001b[0;34m(\u001b[0m\u001b[0martist\u001b[0m\u001b[0;34m,\u001b[0m \u001b[0mrenderer\u001b[0m\u001b[0;34m)\u001b[0m\u001b[0;34m\u001b[0m\u001b[0m\n\u001b[0;32m---> 63\u001b[0;31m         \u001b[0mdraw\u001b[0m\u001b[0;34m(\u001b[0m\u001b[0martist\u001b[0m\u001b[0;34m,\u001b[0m \u001b[0mrenderer\u001b[0m\u001b[0;34m,\u001b[0m \u001b[0;34m*\u001b[0m\u001b[0margs\u001b[0m\u001b[0;34m,\u001b[0m \u001b[0;34m**\u001b[0m\u001b[0mkwargs\u001b[0m\u001b[0;34m)\u001b[0m\u001b[0;34m\u001b[0m\u001b[0m\n\u001b[0m\u001b[1;32m     64\u001b[0m         \u001b[0mafter\u001b[0m\u001b[0;34m(\u001b[0m\u001b[0martist\u001b[0m\u001b[0;34m,\u001b[0m \u001b[0mrenderer\u001b[0m\u001b[0;34m)\u001b[0m\u001b[0;34m\u001b[0m\u001b[0m\n\u001b[1;32m     65\u001b[0m \u001b[0;34m\u001b[0m\u001b[0m\n",
      "\u001b[0;32m/opt/conda/lib/python3.6/site-packages/matplotlib/text.py\u001b[0m in \u001b[0;36mdraw\u001b[0;34m(self, renderer)\u001b[0m\n\u001b[1;32m    761\u001b[0m             \u001b[0;32mif\u001b[0m \u001b[0;32mnot\u001b[0m \u001b[0mnp\u001b[0m\u001b[0;34m.\u001b[0m\u001b[0misfinite\u001b[0m\u001b[0;34m(\u001b[0m\u001b[0mposx\u001b[0m\u001b[0;34m)\u001b[0m \u001b[0;32mor\u001b[0m \u001b[0;32mnot\u001b[0m \u001b[0mnp\u001b[0m\u001b[0;34m.\u001b[0m\u001b[0misfinite\u001b[0m\u001b[0;34m(\u001b[0m\u001b[0mposy\u001b[0m\u001b[0;34m)\u001b[0m\u001b[0;34m:\u001b[0m\u001b[0;34m\u001b[0m\u001b[0m\n\u001b[1;32m    762\u001b[0m                 \u001b[0;32mraise\u001b[0m \u001b[0mValueError\u001b[0m\u001b[0;34m(\u001b[0m\u001b[0;34m\"posx and posy should be finite values\"\u001b[0m\u001b[0;34m)\u001b[0m\u001b[0;34m\u001b[0m\u001b[0m\n\u001b[0;32m--> 763\u001b[0;31m             \u001b[0mposx\u001b[0m\u001b[0;34m,\u001b[0m \u001b[0mposy\u001b[0m \u001b[0;34m=\u001b[0m \u001b[0mtrans\u001b[0m\u001b[0;34m.\u001b[0m\u001b[0mtransform_point\u001b[0m\u001b[0;34m(\u001b[0m\u001b[0;34m(\u001b[0m\u001b[0mposx\u001b[0m\u001b[0;34m,\u001b[0m \u001b[0mposy\u001b[0m\u001b[0;34m)\u001b[0m\u001b[0;34m)\u001b[0m\u001b[0;34m\u001b[0m\u001b[0m\n\u001b[0m\u001b[1;32m    764\u001b[0m             \u001b[0mcanvasw\u001b[0m\u001b[0;34m,\u001b[0m \u001b[0mcanvash\u001b[0m \u001b[0;34m=\u001b[0m \u001b[0mrenderer\u001b[0m\u001b[0;34m.\u001b[0m\u001b[0mget_canvas_width_height\u001b[0m\u001b[0;34m(\u001b[0m\u001b[0;34m)\u001b[0m\u001b[0;34m\u001b[0m\u001b[0m\n\u001b[1;32m    765\u001b[0m \u001b[0;34m\u001b[0m\u001b[0m\n",
      "\u001b[0;32m/opt/conda/lib/python3.6/site-packages/matplotlib/transforms.py\u001b[0m in \u001b[0;36mtransform_point\u001b[0;34m(self, point)\u001b[0m\n\u001b[1;32m   1421\u001b[0m             \u001b[0mmsg\u001b[0m \u001b[0;34m=\u001b[0m \u001b[0;34m\"The length of 'point' must be 'self.input_dims'\"\u001b[0m\u001b[0;34m\u001b[0m\u001b[0m\n\u001b[1;32m   1422\u001b[0m             \u001b[0;32mraise\u001b[0m \u001b[0mValueError\u001b[0m\u001b[0;34m(\u001b[0m\u001b[0mmsg\u001b[0m\u001b[0;34m)\u001b[0m\u001b[0;34m\u001b[0m\u001b[0m\n\u001b[0;32m-> 1423\u001b[0;31m         \u001b[0;32mreturn\u001b[0m \u001b[0mself\u001b[0m\u001b[0;34m.\u001b[0m\u001b[0mtransform\u001b[0m\u001b[0;34m(\u001b[0m\u001b[0mnp\u001b[0m\u001b[0;34m.\u001b[0m\u001b[0masarray\u001b[0m\u001b[0;34m(\u001b[0m\u001b[0;34m[\u001b[0m\u001b[0mpoint\u001b[0m\u001b[0;34m]\u001b[0m\u001b[0;34m)\u001b[0m\u001b[0;34m)\u001b[0m\u001b[0;34m[\u001b[0m\u001b[0;36m0\u001b[0m\u001b[0;34m]\u001b[0m\u001b[0;34m\u001b[0m\u001b[0m\n\u001b[0m\u001b[1;32m   1424\u001b[0m \u001b[0;34m\u001b[0m\u001b[0m\n\u001b[1;32m   1425\u001b[0m     \u001b[0;32mdef\u001b[0m \u001b[0mtransform_path\u001b[0m\u001b[0;34m(\u001b[0m\u001b[0mself\u001b[0m\u001b[0;34m,\u001b[0m \u001b[0mpath\u001b[0m\u001b[0;34m)\u001b[0m\u001b[0;34m:\u001b[0m\u001b[0;34m\u001b[0m\u001b[0m\n",
      "\u001b[0;32m/opt/conda/lib/python3.6/site-packages/matplotlib/transforms.py\u001b[0m in \u001b[0;36mtransform\u001b[0;34m(self, values)\u001b[0m\n\u001b[1;32m   1330\u001b[0m \u001b[0;34m\u001b[0m\u001b[0m\n\u001b[1;32m   1331\u001b[0m         \u001b[0;31m# Transform the values\u001b[0m\u001b[0;34m\u001b[0m\u001b[0;34m\u001b[0m\u001b[0m\n\u001b[0;32m-> 1332\u001b[0;31m         \u001b[0mres\u001b[0m \u001b[0;34m=\u001b[0m \u001b[0mself\u001b[0m\u001b[0;34m.\u001b[0m\u001b[0mtransform_affine\u001b[0m\u001b[0;34m(\u001b[0m\u001b[0mself\u001b[0m\u001b[0;34m.\u001b[0m\u001b[0mtransform_non_affine\u001b[0m\u001b[0;34m(\u001b[0m\u001b[0mvalues\u001b[0m\u001b[0;34m)\u001b[0m\u001b[0;34m)\u001b[0m\u001b[0;34m\u001b[0m\u001b[0m\n\u001b[0m\u001b[1;32m   1333\u001b[0m \u001b[0;34m\u001b[0m\u001b[0m\n\u001b[1;32m   1334\u001b[0m         \u001b[0;31m# Convert the result back to the shape of the input values.\u001b[0m\u001b[0;34m\u001b[0m\u001b[0;34m\u001b[0m\u001b[0m\n",
      "\u001b[0;32m/opt/conda/lib/python3.6/site-packages/matplotlib/transforms.py\u001b[0m in \u001b[0;36mtransform_affine\u001b[0;34m(self, points)\u001b[0m\n\u001b[1;32m   2367\u001b[0m \u001b[0;34m\u001b[0m\u001b[0m\n\u001b[1;32m   2368\u001b[0m     \u001b[0;32mdef\u001b[0m \u001b[0mtransform_affine\u001b[0m\u001b[0;34m(\u001b[0m\u001b[0mself\u001b[0m\u001b[0;34m,\u001b[0m \u001b[0mpoints\u001b[0m\u001b[0;34m)\u001b[0m\u001b[0;34m:\u001b[0m\u001b[0;34m\u001b[0m\u001b[0m\n\u001b[0;32m-> 2369\u001b[0;31m         \u001b[0;32mreturn\u001b[0m \u001b[0mself\u001b[0m\u001b[0;34m.\u001b[0m\u001b[0mget_affine\u001b[0m\u001b[0;34m(\u001b[0m\u001b[0;34m)\u001b[0m\u001b[0;34m.\u001b[0m\u001b[0mtransform\u001b[0m\u001b[0;34m(\u001b[0m\u001b[0mpoints\u001b[0m\u001b[0;34m)\u001b[0m\u001b[0;34m\u001b[0m\u001b[0m\n\u001b[0m\u001b[1;32m   2370\u001b[0m     \u001b[0mtransform_affine\u001b[0m\u001b[0;34m.\u001b[0m\u001b[0m__doc__\u001b[0m \u001b[0;34m=\u001b[0m \u001b[0mTransform\u001b[0m\u001b[0;34m.\u001b[0m\u001b[0mtransform_affine\u001b[0m\u001b[0;34m.\u001b[0m\u001b[0m__doc__\u001b[0m\u001b[0;34m\u001b[0m\u001b[0m\n\u001b[1;32m   2371\u001b[0m \u001b[0;34m\u001b[0m\u001b[0m\n",
      "\u001b[0;32m/opt/conda/lib/python3.6/site-packages/matplotlib/transforms.py\u001b[0m in \u001b[0;36mget_affine\u001b[0;34m(self)\u001b[0m\n\u001b[1;32m   2394\u001b[0m             \u001b[0;32mreturn\u001b[0m \u001b[0mself\u001b[0m\u001b[0;34m.\u001b[0m\u001b[0m_b\u001b[0m\u001b[0;34m.\u001b[0m\u001b[0mget_affine\u001b[0m\u001b[0;34m(\u001b[0m\u001b[0;34m)\u001b[0m\u001b[0;34m\u001b[0m\u001b[0m\n\u001b[1;32m   2395\u001b[0m         \u001b[0;32melse\u001b[0m\u001b[0;34m:\u001b[0m\u001b[0;34m\u001b[0m\u001b[0m\n\u001b[0;32m-> 2396\u001b[0;31m             return Affine2D(np.dot(self._b.get_affine().get_matrix(),\n\u001b[0m\u001b[1;32m   2397\u001b[0m                                 self._a.get_affine().get_matrix()))\n\u001b[1;32m   2398\u001b[0m     \u001b[0mget_affine\u001b[0m\u001b[0;34m.\u001b[0m\u001b[0m__doc__\u001b[0m \u001b[0;34m=\u001b[0m \u001b[0mTransform\u001b[0m\u001b[0;34m.\u001b[0m\u001b[0mget_affine\u001b[0m\u001b[0;34m.\u001b[0m\u001b[0m__doc__\u001b[0m\u001b[0;34m\u001b[0m\u001b[0m\n",
      "\u001b[0;31mKeyboardInterrupt\u001b[0m: "
     ]
    }
   ],
   "source": [
    "try:\n",
    "    display_html(HTML(anim.to_html5_video()))\n",
    "# In case the build-in renderers are unaviable, fall back to\n",
    "# a custom one, that doesn't require external libraries\n",
    "except RuntimeError:\n",
    "    anim.save(None, writer=matplotlib_utils.SimpleMovieWriter(0.001))"
   ]
  },
  {
   "cell_type": "markdown",
   "metadata": {},
   "source": [
    "# Logistic regression\n",
    "Your assignment is to implement the logistic regression\n",
    "\n",
    "Plan:\n",
    "* Use a shared variable for weights\n",
    "* Use a matrix placeholder for `X`\n",
    " \n",
    "We shall train on a two-class MNIST dataset\n",
    "* please note that target `y` are `{0,1}` and not `{-1,1}` as in some formulae"
   ]
  },
  {
   "cell_type": "code",
   "execution_count": 35,
   "metadata": {},
   "outputs": [
    {
     "name": "stdout",
     "output_type": "stream",
     "text": [
      "y [shape - (360,)]: [0 1 0 1 0 1 0 0 1 1]\n",
      "X [shape - (360, 64)]:\n"
     ]
    }
   ],
   "source": [
    "from sklearn.datasets import load_digits\n",
    "mnist = load_digits(2)\n",
    "\n",
    "X, y = mnist.data, mnist.target\n",
    "\n",
    "print(\"y [shape - %s]:\" % (str(y.shape)), y[:10])\n",
    "print(\"X [shape - %s]:\" % (str(X.shape)))"
   ]
  },
  {
   "cell_type": "code",
   "execution_count": 36,
   "metadata": {},
   "outputs": [
    {
     "name": "stdout",
     "output_type": "stream",
     "text": [
      "X:\n",
      " [[  0.   0.   5.  13.   9.   1.   0.   0.   0.   0.]\n",
      " [  0.   0.   0.  12.  13.   5.   0.   0.   0.   0.]\n",
      " [  0.   0.   1.   9.  15.  11.   0.   0.   0.   0.]]\n",
      "y:\n",
      " [0 1 0 1 0 1 0 0 1 1]\n"
     ]
    },
    {
     "data": {
      "image/png": "[encoded data removed]",
      "text/plain": [
       "<matplotlib.figure.Figure at 0x7f79bdca4a20>"
      ]
     },
     "metadata": {},
     "output_type": "display_data"
    }
   ],
   "source": [
    "print('X:\\n',X[:3,:10])\n",
    "print('y:\\n',y[:10])\n",
    "plt.imshow(X[0].reshape([8,8]));"
   ]
  },
  {
   "cell_type": "markdown",
   "metadata": {},
   "source": [
    "It's your turn now!\n",
    "Just a small reminder of the relevant math:\n",
    "\n",
    "$$\n",
    "P(y=1|X) = \\sigma(X \\cdot W + b)\n",
    "$$\n",
    "$$\n",
    "\\text{loss} = -\\log\\left(P\\left(y_\\text{predicted} = 1\\right)\\right)\\cdot y_\\text{true} - \\log\\left(1 - P\\left(y_\\text{predicted} = 1\\right)\\right)\\cdot\\left(1 - y_\\text{true}\\right)\n",
    "$$\n",
    "\n",
    "$\\sigma(x)$ is available via `tf.nn.sigmoid` and matrix multiplication via `tf.matmul`"
   ]
  },
  {
   "cell_type": "code",
   "execution_count": 117,
   "metadata": {
    "collapsed": true
   },
   "outputs": [],
   "source": [
    "from sklearn.model_selection import train_test_split\n",
    "X_train, X_test, y_train, y_test = train_test_split(\n",
    "    X, y, random_state=42)"
   ]
  },
  {
   "cell_type": "markdown",
   "metadata": {},
   "source": [
    "__Your code goes here.__ For the training and testing scaffolding to work, please stick to the names in comments."
   ]
  },
  {
   "cell_type": "code",
   "execution_count": 159,
   "metadata": {},
   "outputs": [],
   "source": [
    "# Model parameters - weights and bias\n",
    "weights = tf.Variable(tf.zeros(shape=(X.shape[1], 1))) # shape should be (X.shape[1], 1)\n",
    "b = tf.Variable(tf.zeros(shape=()))"
   ]
  },
  {
   "cell_type": "code",
   "execution_count": 160,
   "metadata": {
    "collapsed": true
   },
   "outputs": [],
   "source": [
    "# Placeholders for the input data\n",
    "input_X = tf.placeholder(dtype=tf.float32, shape=(None, X.shape[1]))\n",
    "input_y = tf.placeholder(dtype=tf.float32, shape=(None))"
   ]
  },
  {
   "cell_type": "code",
   "execution_count": 165,
   "metadata": {},
   "outputs": [],
   "source": [
    "# The model code\n",
    "\n",
    "# Compute a vector of predictions, resulting shape should be [input_X.shape[0],]\n",
    "# This is 1D, if you have extra dimensions, you can  get rid of them with tf.squeeze .\n",
    "# Don't forget the sigmoid.\n",
    "predicted_y = tf.sigmoid(tf.squeeze(tf.matmul(a=input_X, b=weights)) + b)\n",
    "# Loss. Should be a scalar number - average loss over all the objects\n",
    "# tf.reduce_mean is your friend here\n",
    "loss = tf.reduce_mean(-input_y * tf.log(predicted_y) - (1 - input_y) * tf.log(1 - predicted_y))\n",
    "# See above for an example. tf.train.*Optimizer\n",
    "optimizer = tf.train.MomentumOptimizer(learning_rate=0.001, momentum=0.1).minimize(loss, var_list=[weights, b])"
   ]
  },
  {
   "cell_type": "markdown",
   "metadata": {},
   "source": [
    "A test to help with the debugging"
   ]
  },
  {
   "cell_type": "code",
   "execution_count": 166,
   "metadata": {},
   "outputs": [
    {
     "name": "stdout",
     "output_type": "stream",
     "text": [
      "0.728689\n"
     ]
    }
   ],
   "source": [
    "validation_weights = 1e-3 * np.fromiter(map(lambda x:\n",
    "        s.run(weird_psychotic_function, {my_scalar:x, my_vector:[1, 0.1, 2]}),\n",
    "                                   0.15 * np.arange(1, X.shape[1] + 1)),\n",
    "                                   count=X.shape[1], dtype=np.float32)[:, np.newaxis]\n",
    "# Compute predictions for given weights and bias\n",
    "prediction_validation = s.run(\n",
    "    predicted_y, {\n",
    "    input_X: X,\n",
    "    weights: validation_weights,\n",
    "    b: 1e-1})\n",
    "\n",
    "# Load the reference values for the predictions\n",
    "validation_true_values = np.loadtxt(\"validation_predictons.txt\")\n",
    "\n",
    "assert prediction_validation.shape == (X.shape[0],),\\\n",
    "       \"Predictions must be a 1D array with length equal to the number \" \\\n",
    "       \"of examples in input_X\"\n",
    "assert np.allclose(validation_true_values, prediction_validation)\n",
    "loss_validation = s.run(\n",
    "        loss, {\n",
    "            input_X: X[:100],\n",
    "            input_y: y[-100:],\n",
    "            weights: validation_weights+1.21e-3,\n",
    "            b: -1e-1})\n",
    "print(loss_validation)\n",
    "assert np.allclose(loss_validation, 0.728689)"
   ]
  },
  {
   "cell_type": "code",
   "execution_count": 167,
   "metadata": {},
   "outputs": [
    {
     "name": "stdout",
     "output_type": "stream",
     "text": [
      "<tf.Variable 'Variable_23:0' shape=(64, 1) dtype=float32_ref>\n",
      "loss at iter 0:0.5888\n",
      "train auc: 0.999945103206\n",
      "test auc: 1.0\n",
      "<tf.Variable 'Variable_23:0' shape=(64, 1) dtype=float32_ref>\n",
      "loss at iter 1:0.4992\n",
      "train auc: 1.0\n",
      "test auc: 1.0\n",
      "<tf.Variable 'Variable_23:0' shape=(64, 1) dtype=float32_ref>\n",
      "loss at iter 2:0.4300\n",
      "train auc: 1.0\n",
      "test auc: 1.0\n",
      "<tf.Variable 'Variable_23:0' shape=(64, 1) dtype=float32_ref>\n",
      "loss at iter 3:0.3765\n",
      "train auc: 1.0\n",
      "test auc: 1.0\n",
      "<tf.Variable 'Variable_23:0' shape=(64, 1) dtype=float32_ref>\n",
      "loss at iter 4:0.3343\n",
      "train auc: 1.0\n",
      "test auc: 1.0\n"
     ]
    }
   ],
   "source": [
    "from sklearn.metrics import roc_auc_score\n",
    "s.run(tf.global_variables_initializer())\n",
    "for i in range(5):\n",
    "    s.run(optimizer, {input_X: X_train, input_y: y_train})\n",
    "    print(weights)\n",
    "    loss_i = s.run(loss, {input_X: X_train, input_y: y_train})\n",
    "    print(\"loss at iter %i:%.4f\" % (i, loss_i))\n",
    "    print(\"train auc:\", roc_auc_score(y_train, s.run(predicted_y, {input_X:X_train})))\n",
    "    print(\"test auc:\", roc_auc_score(y_test, s.run(predicted_y, {input_X:X_test})))"
   ]
  },
  {
   "cell_type": "markdown",
   "metadata": {},
   "source": [
    "### Coursera submission"
   ]
  },
  {
   "cell_type": "code",
   "execution_count": 168,
   "metadata": {
    "collapsed": true
   },
   "outputs": [],
   "source": [
    "grade_submitter = grading.Grader(\"BJCiiY8sEeeCnhKCj4fcOA\")"
   ]
  },
  {
   "cell_type": "code",
   "execution_count": 169,
   "metadata": {
    "collapsed": true
   },
   "outputs": [],
   "source": [
    "test_weights = 1e-3 * np.fromiter(map(lambda x:\n",
    "    s.run(weird_psychotic_function, {my_scalar:x, my_vector:[1, 2, 3]}),\n",
    "                               0.1 * np.arange(1, X.shape[1] + 1)),\n",
    "                               count=X.shape[1], dtype=np.float32)[:, np.newaxis]"
   ]
  },
  {
   "cell_type": "markdown",
   "metadata": {},
   "source": [
    "First, test prediction and loss computation. This part doesn't require a fitted model."
   ]
  },
  {
   "cell_type": "code",
   "execution_count": 170,
   "metadata": {
    "collapsed": true
   },
   "outputs": [],
   "source": [
    "prediction_test = s.run(\n",
    "    predicted_y, {\n",
    "    input_X: X,\n",
    "    weights: test_weights,\n",
    "    b: 1e-1})"
   ]
  },
  {
   "cell_type": "code",
   "execution_count": 171,
   "metadata": {
    "collapsed": true
   },
   "outputs": [],
   "source": [
    "assert prediction_test.shape == (X.shape[0],),\\\n",
    "       \"Predictions must be a 1D array with length equal to the number \" \\\n",
    "       \"of examples in X_test\""
   ]
  },
  {
   "cell_type": "code",
   "execution_count": 172,
   "metadata": {
    "collapsed": true
   },
   "outputs": [],
   "source": [
    "grade_submitter.set_answer(\"0ENlN\", prediction_test)"
   ]
  },
  {
   "cell_type": "code",
   "execution_count": 173,
   "metadata": {
    "collapsed": true
   },
   "outputs": [],
   "source": [
    "loss_test = s.run(\n",
    "    loss, {\n",
    "        input_X: X[:100],\n",
    "        input_y: y[-100:],\n",
    "        weights: test_weights+1.21e-3,\n",
    "        b: -1e-1})\n",
    "# Yes, the X/y indices mistmach is intentional"
   ]
  },
  {
   "cell_type": "code",
   "execution_count": 174,
   "metadata": {
    "collapsed": true
   },
   "outputs": [],
   "source": [
    "grade_submitter.set_answer(\"mMVpM\", loss_test)"
   ]
  },
  {
   "cell_type": "code",
   "execution_count": 175,
   "metadata": {
    "collapsed": true
   },
   "outputs": [],
   "source": [
    "grade_submitter.set_answer(\"D16Rc\", roc_auc_score(y_test, s.run(predicted_y, {input_X:X_test})))"
   ]
  },
  {
   "cell_type": "markdown",
   "metadata": {},
   "source": [
    "Please use the credentials obtained from the Coursera assignment page."
   ]
  },
  {
   "cell_type": "code",
   "execution_count": 176,
   "metadata": {},
   "outputs": [
    {
     "name": "stdout",
     "output_type": "stream",
     "text": [
      "Submitted to Coursera platform. See results on assignment page!\n"
     ]
    }
   ],
   "source": [
    "grade_submitter.submit(\"leonshting@gmail.com\", \"MeUZW1rAzGJT5iXR\")"
   ]
  },
  {
   "cell_type": "code",
   "execution_count": null,
   "metadata": {
    "collapsed": true
   },
   "outputs": [],
   "source": []
  }
 ],
 "metadata": {
  "kernelspec": {
   "display_name": "Python 3",
   "language": "python",
   "name": "python3"
  },
  "language_info": {
   "codemirror_mode": {
    "name": "ipython",
    "version": 3
   },
   "file_extension": ".py",
   "mimetype": "text/x-python",
   "name": "python",
   "nbconvert_exporter": "python",
   "pygments_lexer": "ipython3",
   "version": "3.6.0"
  }
 },
 "nbformat": 4,
 "nbformat_minor": 1
}
