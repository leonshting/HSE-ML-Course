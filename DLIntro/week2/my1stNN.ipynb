{
 "cells": [
  {
   "cell_type": "code",
   "execution_count": null,
   "metadata": {},
   "outputs": [],
   "source": [
    "#while on coursera run this thing\n",
    "\n",
    "from preprocessed_mnist import load_dataset\n",
    "X_train, y_train, X_val, y_val, X_test, y_test = load_dataset()\n",
    "print(X_train.shape, y_train.shape)\n",
    "import matplotlib.pyplot as plt\n",
    "%matplotlib inline\n",
    "plt.imshow(X_train[0], cmap=\"Greys\");"
   ]
  },
  {
   "cell_type": "code",
   "execution_count": 1,
   "metadata": {},
   "outputs": [],
   "source": [
    "import tensorflow as tf\n",
    "import pandas as pd\n",
    "import numpy as np\n",
    "import requests\n",
    "\n",
    "import matplotlib.pyplot as plt\n",
    "%matplotlib inline\n",
    "from sklearn.metrics import accuracy_score"
   ]
  },
  {
   "cell_type": "markdown",
   "metadata": {},
   "source": [
    "for local testing $\\downarrow$"
   ]
  },
  {
   "cell_type": "code",
   "execution_count": 2,
   "metadata": {},
   "outputs": [],
   "source": [
    "#while working locally run this thing\n",
    "\n",
    "mnist_data = requests.get(\"https://s3.amazonaws.com/img-datasets/mnist.npz\") # loading from amazon may take time\n",
    "with open('mnist.npz', 'wb') as f:\n",
    "    f.write(mnist_data.content)\n",
    "XY = np.load(\"mnist.npz\")\n",
    "(_, X_test,), (_, X_train), (_, y_train), (_, y_test) =  XY.items()"
   ]
  },
  {
   "cell_type": "markdown",
   "metadata": {},
   "source": [
    "expand targets into one hot representation $\\downarrow$"
   ]
  },
  {
   "cell_type": "code",
   "execution_count": 3,
   "metadata": {},
   "outputs": [],
   "source": [
    "y_dummies_train = pd.get_dummies(y_train).to_dense()\n",
    "y_dummies_test = pd.get_dummies(y_test).to_dense()"
   ]
  },
  {
   "cell_type": "markdown",
   "metadata": {},
   "source": [
    "Architecture is: \n",
    "\n",
    "input $\\rightarrow$ fc $\\rightarrow$ relu $\\rightarrow$ batchnorm $\\rightarrow$ fc $\\rightarrow$ relu $\\rightarrow$ batchnorm $\\rightarrow$ softmax\n",
    "\n",
    "$64^2, 100$ $\\rightarrow$ $100 ,50$ $\\rightarrow$ $50, 10$"
   ]
  },
  {
   "cell_type": "code",
   "execution_count": 4,
   "metadata": {},
   "outputs": [],
   "source": [
    "num_classes = 10\n",
    "\n",
    "width_1 = 100\n",
    "width_2 = 50\n",
    "\n",
    "with tf.variable_scope('layer1', reuse=None):\n",
    "    weights_1 = tf.get_variable('w1',(X_train.shape[1], X_train.shape[2], width_1),\n",
    "                                initializer=tf.random_normal_initializer(stddev=0.1), dtype=tf.float32)\n",
    "    b_1 = tf.get_variable('b1', (width_1,), initializer=tf.random_normal_initializer(stddev=0.1), dtype=tf.float32)\n",
    "\n",
    "with tf.variable_scope('layer2', reuse=None):\n",
    "    weights_2 = tf.get_variable('w2',(width_1, width_2),\n",
    "                                initializer=tf.random_normal_initializer(stddev=0.2), dtype=tf.float32)\n",
    "    b_2 = tf.get_variable('b2', (width_2,), initializer=tf.random_normal_initializer(stddev=0.2), dtype=tf.float32)\n",
    "\n",
    "\n",
    "    \n",
    "with tf.variable_scope('layer2', reuse=None):\n",
    "    weights_3 = tf.get_variable('w3', (width_2, num_classes), dtype=tf.float32,\n",
    "                                initializer=tf.random_normal_initializer(stddev=0.2))\n",
    "    b_3 = tf.get_variable('b3', (num_classes,), dtype=tf.float32, initializer=tf.random_normal_initializer(stddev=0.2))"
   ]
  },
  {
   "cell_type": "code",
   "execution_count": 5,
   "metadata": {},
   "outputs": [],
   "source": [
    "X_input = tf.placeholder(shape=(None, X_train.shape[1], X_train.shape[2]), dtype=tf.float32)\n",
    "y_input = tf.placeholder(shape=(None, num_classes), dtype=tf.float32)"
   ]
  },
  {
   "cell_type": "code",
   "execution_count": 6,
   "metadata": {},
   "outputs": [],
   "source": [
    "after_1_act = tf.nn.relu(tf.tensordot(X_input, weights_1, axes=[(1,2), (0,1)]) + b_1)\n",
    "act_1_normed = tf.contrib.layers.batch_norm(after_1_act)\n",
    "after_2_act = tf.nn.relu((tf.matmul(act_1_normed, weights_2) + b_2))\n",
    "act_2_normed = tf.contrib.layers.batch_norm(after_2_act)\n",
    "y_pred = tf.nn.softmax((tf.matmul(act_2_normed, weights_3) + b_3))"
   ]
  },
  {
   "cell_type": "markdown",
   "metadata": {},
   "source": [
    "Usual crossentropy loss here $\\downarrow$"
   ]
  },
  {
   "cell_type": "code",
   "execution_count": 7,
   "metadata": {},
   "outputs": [],
   "source": [
    "loss = -tf.reduce_mean(tf.reduce_sum(y_input * tf.log(y_pred), axis=1), axis=0)"
   ]
  },
  {
   "cell_type": "code",
   "execution_count": 8,
   "metadata": {},
   "outputs": [],
   "source": [
    "learning_rate = tf.placeholder(tf.float32, shape=())\n",
    "optimize = tf.train.AdamOptimizer(learning_rate=learning_rate).minimize(\n",
    "    loss, var_list=[weights_1, b_1, weights_2, b_2]\n",
    ")"
   ]
  },
  {
   "cell_type": "code",
   "execution_count": 9,
   "metadata": {},
   "outputs": [],
   "source": [
    "s = tf.InteractiveSession()\n",
    "s.run(tf.global_variables_initializer())\n",
    "\n",
    "writer = tf.summary.FileWriter(\"/venv/tf_venv/tf_logs/\", graph=s.graph)\n",
    "\n",
    "tf.summary.scalar('loss', loss)\n",
    "merged = tf.summary.merge_all()"
   ]
  },
  {
   "cell_type": "markdown",
   "metadata": {},
   "source": [
    "Generator for minibatch optimization process $\\downarrow$"
   ]
  },
  {
   "cell_type": "code",
   "execution_count": 10,
   "metadata": {},
   "outputs": [],
   "source": [
    "def batch_gen(X, y, iter_num=10000, batch_size=100):\n",
    "    for i in range(iter_num):\n",
    "        selected = np.random.randint(0, high=X.shape[0], size=batch_size)\n",
    "        yield X.take(selected, axis=0), y.take(selected, axis=0)"
   ]
  },
  {
   "cell_type": "markdown",
   "metadata": {},
   "source": [
    "Adaptive learning rate with decay $\\downarrow$"
   ]
  },
  {
   "cell_type": "code",
   "execution_count": 11,
   "metadata": {},
   "outputs": [],
   "source": [
    "num_epochs = 50\n",
    "lr_decay = 0.7\n",
    "lr_base = 0.2"
   ]
  },
  {
   "cell_type": "markdown",
   "metadata": {},
   "source": [
    "Training part here"
   ]
  },
  {
   "cell_type": "code",
   "execution_count": 12,
   "metadata": {
    "scrolled": true
   },
   "outputs": [
    {
     "name": "stdout",
     "output_type": "stream",
     "text": [
      "train/test loss at iter 0:1.4421/1.4109 acc: 0.5372\n",
      "train/test loss at iter 20:0.3609/0.3642 acc: 0.9008\n",
      "train/test loss at iter 40:0.2815/0.2854 acc: 0.9234\n",
      "train/test loss at iter 60:0.2354/0.2412 acc: 0.934\n",
      "train/test loss at iter 80:0.2021/0.2097 acc: 0.9442\n",
      "train/test loss at iter 100:0.1774/0.1885 acc: 0.9475\n",
      "train/test loss at iter 120:0.1591/0.1738 acc: 0.9523\n",
      "train/test loss at iter 140:0.1466/0.1631 acc: 0.9545\n",
      "train/test loss at iter 160:0.1360/0.1540 acc: 0.9561\n",
      "train/test loss at iter 180:0.1260/0.1482 acc: 0.9582\n",
      "train/test loss at iter 0:0.1188/0.1435 acc: 0.9612\n",
      "train/test loss at iter 20:0.1089/0.1327 acc: 0.9628\n",
      "train/test loss at iter 40:0.1036/0.1340 acc: 0.9622\n",
      "train/test loss at iter 60:0.0995/0.1306 acc: 0.9638\n",
      "train/test loss at iter 80:0.0934/0.1248 acc: 0.9663\n",
      "train/test loss at iter 100:0.0917/0.1267 acc: 0.9645\n",
      "train/test loss at iter 120:0.0867/0.1219 acc: 0.9667\n",
      "train/test loss at iter 140:0.0841/0.1197 acc: 0.966\n",
      "train/test loss at iter 160:0.0820/0.1221 acc: 0.9666\n",
      "train/test loss at iter 180:0.0768/0.1155 acc: 0.9678\n",
      "train/test loss at iter 0:0.0747/0.1122 acc: 0.9688\n",
      "train/test loss at iter 20:0.0716/0.1086 acc: 0.9702\n",
      "train/test loss at iter 40:0.0698/0.1100 acc: 0.9689\n",
      "train/test loss at iter 60:0.0675/0.1068 acc: 0.9707\n",
      "train/test loss at iter 80:0.0660/0.1069 acc: 0.9718\n",
      "train/test loss at iter 100:0.0636/0.1043 acc: 0.9717\n",
      "train/test loss at iter 120:0.0615/0.1030 acc: 0.9725\n",
      "train/test loss at iter 140:0.0609/0.1057 acc: 0.9718\n",
      "train/test loss at iter 160:0.0586/0.1016 acc: 0.9724\n",
      "train/test loss at iter 180:0.0575/0.1037 acc: 0.9719\n",
      "train/test loss at iter 0:0.0555/0.1033 acc: 0.971\n",
      "train/test loss at iter 20:0.0536/0.0980 acc: 0.9734\n",
      "train/test loss at iter 40:0.0527/0.0994 acc: 0.9739\n",
      "train/test loss at iter 60:0.0514/0.0991 acc: 0.9741\n",
      "train/test loss at iter 80:0.0509/0.0964 acc: 0.9753\n",
      "train/test loss at iter 100:0.0494/0.0979 acc: 0.9732\n",
      "train/test loss at iter 120:0.0485/0.0971 acc: 0.9726\n",
      "train/test loss at iter 140:0.0474/0.0983 acc: 0.9741\n",
      "train/test loss at iter 160:0.0471/0.0992 acc: 0.9731\n",
      "train/test loss at iter 180:0.0459/0.0960 acc: 0.9747\n",
      "train/test loss at iter 0:0.0448/0.0966 acc: 0.9751\n",
      "train/test loss at iter 20:0.0437/0.0967 acc: 0.9743\n",
      "train/test loss at iter 40:0.0430/0.0950 acc: 0.9747\n",
      "train/test loss at iter 60:0.0416/0.0937 acc: 0.9749\n",
      "train/test loss at iter 80:0.0412/0.0948 acc: 0.9743\n",
      "train/test loss at iter 86:0.0420/0.0959 "
     ]
    },
    {
     "ename": "KeyboardInterrupt",
     "evalue": "",
     "output_type": "error",
     "traceback": [
      "\u001b[0;31m---------------------------------------------------------------------------\u001b[0m",
      "\u001b[0;31mKeyboardInterrupt\u001b[0m                         Traceback (most recent call last)",
      "\u001b[0;32m<ipython-input-12-b10281f4b50c>\u001b[0m in \u001b[0;36m<module>\u001b[0;34m()\u001b[0m\n\u001b[1;32m      8\u001b[0m                  \u001b[0mX_input\u001b[0m\u001b[0;34m:\u001b[0m \u001b[0mX_batch\u001b[0m\u001b[0;34m,\u001b[0m\u001b[0;34m\u001b[0m\u001b[0m\n\u001b[1;32m      9\u001b[0m                  \u001b[0my_input\u001b[0m\u001b[0;34m:\u001b[0m \u001b[0my_batch\u001b[0m\u001b[0;34m,\u001b[0m\u001b[0;34m\u001b[0m\u001b[0m\n\u001b[0;32m---> 10\u001b[0;31m                  \u001b[0mlearning_rate\u001b[0m\u001b[0;34m:\u001b[0m \u001b[0mlr_base\u001b[0m \u001b[0;34m*\u001b[0m \u001b[0mlr_decay\u001b[0m \u001b[0;34m**\u001b[0m \u001b[0mepoch_num\u001b[0m\u001b[0;34m\u001b[0m\u001b[0m\n\u001b[0m\u001b[1;32m     11\u001b[0m              })\n\u001b[1;32m     12\u001b[0m         \u001b[0mloss_i\u001b[0m \u001b[0;34m=\u001b[0m \u001b[0ms\u001b[0m\u001b[0;34m.\u001b[0m\u001b[0mrun\u001b[0m\u001b[0;34m(\u001b[0m\u001b[0mloss\u001b[0m\u001b[0;34m,\u001b[0m \u001b[0;34m{\u001b[0m\u001b[0mX_input\u001b[0m\u001b[0;34m:\u001b[0m \u001b[0mX_train\u001b[0m\u001b[0;34m,\u001b[0m \u001b[0my_input\u001b[0m\u001b[0;34m:\u001b[0m \u001b[0my_dummies_train\u001b[0m\u001b[0;34m}\u001b[0m\u001b[0;34m)\u001b[0m\u001b[0;34m\u001b[0m\u001b[0m\n",
      "\u001b[0;32m/venv/tf_venv/lib/python3.6/site-packages/tensorflow/python/client/session.py\u001b[0m in \u001b[0;36mrun\u001b[0;34m(self, fetches, feed_dict, options, run_metadata)\u001b[0m\n\u001b[1;32m    893\u001b[0m     \u001b[0;32mtry\u001b[0m\u001b[0;34m:\u001b[0m\u001b[0;34m\u001b[0m\u001b[0m\n\u001b[1;32m    894\u001b[0m       result = self._run(None, fetches, feed_dict, options_ptr,\n\u001b[0;32m--> 895\u001b[0;31m                          run_metadata_ptr)\n\u001b[0m\u001b[1;32m    896\u001b[0m       \u001b[0;32mif\u001b[0m \u001b[0mrun_metadata\u001b[0m\u001b[0;34m:\u001b[0m\u001b[0;34m\u001b[0m\u001b[0m\n\u001b[1;32m    897\u001b[0m         \u001b[0mproto_data\u001b[0m \u001b[0;34m=\u001b[0m \u001b[0mtf_session\u001b[0m\u001b[0;34m.\u001b[0m\u001b[0mTF_GetBuffer\u001b[0m\u001b[0;34m(\u001b[0m\u001b[0mrun_metadata_ptr\u001b[0m\u001b[0;34m)\u001b[0m\u001b[0;34m\u001b[0m\u001b[0m\n",
      "\u001b[0;32m/venv/tf_venv/lib/python3.6/site-packages/tensorflow/python/client/session.py\u001b[0m in \u001b[0;36m_run\u001b[0;34m(self, handle, fetches, feed_dict, options, run_metadata)\u001b[0m\n\u001b[1;32m   1122\u001b[0m     \u001b[0;32mif\u001b[0m \u001b[0mfinal_fetches\u001b[0m \u001b[0;32mor\u001b[0m \u001b[0mfinal_targets\u001b[0m \u001b[0;32mor\u001b[0m \u001b[0;34m(\u001b[0m\u001b[0mhandle\u001b[0m \u001b[0;32mand\u001b[0m \u001b[0mfeed_dict_tensor\u001b[0m\u001b[0;34m)\u001b[0m\u001b[0;34m:\u001b[0m\u001b[0;34m\u001b[0m\u001b[0m\n\u001b[1;32m   1123\u001b[0m       results = self._do_run(handle, final_targets, final_fetches,\n\u001b[0;32m-> 1124\u001b[0;31m                              feed_dict_tensor, options, run_metadata)\n\u001b[0m\u001b[1;32m   1125\u001b[0m     \u001b[0;32melse\u001b[0m\u001b[0;34m:\u001b[0m\u001b[0;34m\u001b[0m\u001b[0m\n\u001b[1;32m   1126\u001b[0m       \u001b[0mresults\u001b[0m \u001b[0;34m=\u001b[0m \u001b[0;34m[\u001b[0m\u001b[0;34m]\u001b[0m\u001b[0;34m\u001b[0m\u001b[0m\n",
      "\u001b[0;32m/venv/tf_venv/lib/python3.6/site-packages/tensorflow/python/client/session.py\u001b[0m in \u001b[0;36m_do_run\u001b[0;34m(self, handle, target_list, fetch_list, feed_dict, options, run_metadata)\u001b[0m\n\u001b[1;32m   1319\u001b[0m     \u001b[0;32mif\u001b[0m \u001b[0mhandle\u001b[0m \u001b[0;32mis\u001b[0m \u001b[0;32mNone\u001b[0m\u001b[0;34m:\u001b[0m\u001b[0;34m\u001b[0m\u001b[0m\n\u001b[1;32m   1320\u001b[0m       return self._do_call(_run_fn, self._session, feeds, fetches, targets,\n\u001b[0;32m-> 1321\u001b[0;31m                            options, run_metadata)\n\u001b[0m\u001b[1;32m   1322\u001b[0m     \u001b[0;32melse\u001b[0m\u001b[0;34m:\u001b[0m\u001b[0;34m\u001b[0m\u001b[0m\n\u001b[1;32m   1323\u001b[0m       \u001b[0;32mreturn\u001b[0m \u001b[0mself\u001b[0m\u001b[0;34m.\u001b[0m\u001b[0m_do_call\u001b[0m\u001b[0;34m(\u001b[0m\u001b[0m_prun_fn\u001b[0m\u001b[0;34m,\u001b[0m \u001b[0mself\u001b[0m\u001b[0;34m.\u001b[0m\u001b[0m_session\u001b[0m\u001b[0;34m,\u001b[0m \u001b[0mhandle\u001b[0m\u001b[0;34m,\u001b[0m \u001b[0mfeeds\u001b[0m\u001b[0;34m,\u001b[0m \u001b[0mfetches\u001b[0m\u001b[0;34m)\u001b[0m\u001b[0;34m\u001b[0m\u001b[0m\n",
      "\u001b[0;32m/venv/tf_venv/lib/python3.6/site-packages/tensorflow/python/client/session.py\u001b[0m in \u001b[0;36m_do_call\u001b[0;34m(self, fn, *args)\u001b[0m\n\u001b[1;32m   1325\u001b[0m   \u001b[0;32mdef\u001b[0m \u001b[0m_do_call\u001b[0m\u001b[0;34m(\u001b[0m\u001b[0mself\u001b[0m\u001b[0;34m,\u001b[0m \u001b[0mfn\u001b[0m\u001b[0;34m,\u001b[0m \u001b[0;34m*\u001b[0m\u001b[0margs\u001b[0m\u001b[0;34m)\u001b[0m\u001b[0;34m:\u001b[0m\u001b[0;34m\u001b[0m\u001b[0m\n\u001b[1;32m   1326\u001b[0m     \u001b[0;32mtry\u001b[0m\u001b[0;34m:\u001b[0m\u001b[0;34m\u001b[0m\u001b[0m\n\u001b[0;32m-> 1327\u001b[0;31m       \u001b[0;32mreturn\u001b[0m \u001b[0mfn\u001b[0m\u001b[0;34m(\u001b[0m\u001b[0;34m*\u001b[0m\u001b[0margs\u001b[0m\u001b[0;34m)\u001b[0m\u001b[0;34m\u001b[0m\u001b[0m\n\u001b[0m\u001b[1;32m   1328\u001b[0m     \u001b[0;32mexcept\u001b[0m \u001b[0merrors\u001b[0m\u001b[0;34m.\u001b[0m\u001b[0mOpError\u001b[0m \u001b[0;32mas\u001b[0m \u001b[0me\u001b[0m\u001b[0;34m:\u001b[0m\u001b[0;34m\u001b[0m\u001b[0m\n\u001b[1;32m   1329\u001b[0m       \u001b[0mmessage\u001b[0m \u001b[0;34m=\u001b[0m \u001b[0mcompat\u001b[0m\u001b[0;34m.\u001b[0m\u001b[0mas_text\u001b[0m\u001b[0;34m(\u001b[0m\u001b[0me\u001b[0m\u001b[0;34m.\u001b[0m\u001b[0mmessage\u001b[0m\u001b[0;34m)\u001b[0m\u001b[0;34m\u001b[0m\u001b[0m\n",
      "\u001b[0;32m/venv/tf_venv/lib/python3.6/site-packages/tensorflow/python/client/session.py\u001b[0m in \u001b[0;36m_run_fn\u001b[0;34m(session, feed_dict, fetch_list, target_list, options, run_metadata)\u001b[0m\n\u001b[1;32m   1304\u001b[0m           return tf_session.TF_Run(session, options,\n\u001b[1;32m   1305\u001b[0m                                    \u001b[0mfeed_dict\u001b[0m\u001b[0;34m,\u001b[0m \u001b[0mfetch_list\u001b[0m\u001b[0;34m,\u001b[0m \u001b[0mtarget_list\u001b[0m\u001b[0;34m,\u001b[0m\u001b[0;34m\u001b[0m\u001b[0m\n\u001b[0;32m-> 1306\u001b[0;31m                                    status, run_metadata)\n\u001b[0m\u001b[1;32m   1307\u001b[0m \u001b[0;34m\u001b[0m\u001b[0m\n\u001b[1;32m   1308\u001b[0m     \u001b[0;32mdef\u001b[0m \u001b[0m_prun_fn\u001b[0m\u001b[0;34m(\u001b[0m\u001b[0msession\u001b[0m\u001b[0;34m,\u001b[0m \u001b[0mhandle\u001b[0m\u001b[0;34m,\u001b[0m \u001b[0mfeed_dict\u001b[0m\u001b[0;34m,\u001b[0m \u001b[0mfetch_list\u001b[0m\u001b[0;34m)\u001b[0m\u001b[0;34m:\u001b[0m\u001b[0;34m\u001b[0m\u001b[0m\n",
      "\u001b[0;31mKeyboardInterrupt\u001b[0m: "
     ]
    }
   ],
   "source": [
    "test_losses = []\n",
    "losses = []\n",
    "\n",
    "for epoch_num in range(num_epochs):\n",
    "    for num, (X_batch, y_batch) in enumerate(batch_gen(X_train, y_dummies_train, iter_num=200, batch_size=1000)):\n",
    "        [summary, _] = s.run([merged, optimize], \n",
    "             {\n",
    "                 X_input: X_batch,\n",
    "                 y_input: y_batch,\n",
    "                 learning_rate: lr_base * lr_decay ** epoch_num\n",
    "             })\n",
    "        loss_i = s.run(loss, {X_input: X_train, y_input: y_dummies_train})\n",
    "        loss_i_test = s.run(loss, {X_input: X_test, y_input: y_dummies_test})\n",
    "        \n",
    "        print(\"\\rtrain/test loss at iter %i:%.4f/%.4f\" % (num, loss_i, loss_i_test), end=' ')\n",
    "        \n",
    "        test_losses.append(loss_i_test)\n",
    "        losses.append(loss_i)\n",
    "        \n",
    "        writer.add_summary(summary, num)\n",
    "        \n",
    "        \n",
    "        if num % 20 == 0:\n",
    "            y_predicted = s.run(y_pred, {\n",
    "                 X_input: X_test,\n",
    "             })\n",
    "            print(\"acc: {}\".format(accuracy_score(y_pred=np.argmax(y_predicted, axis=1), y_true=y_test)))\n",
    "        "
   ]
  },
  {
   "cell_type": "code",
   "execution_count": 16,
   "metadata": {},
   "outputs": [
    {
     "data": {
      "text/plain": [
       "[<matplotlib.lines.Line2D at 0x123b0da20>]"
      ]
     },
     "execution_count": 16,
     "metadata": {},
     "output_type": "execute_result"
    },
    {
     "data": {
      "image/png": "[encoded data removed]",
      "text/plain": [
       "<matplotlib.figure.Figure at 0x123c6db38>"
      ]
     },
     "metadata": {},
     "output_type": "display_data"
    }
   ],
   "source": [
    "f, axs = plt.subplots(nrows=1, ncols=2, figsize=(10,5))\n",
    "axs[0].plot(range(len(losses)), losses)\n",
    "axs[1].plot(range(len(test_losses)), test_losses)"
   ]
  },
  {
   "cell_type": "code",
   "execution_count": 18,
   "metadata": {},
   "outputs": [
    {
     "name": "stdout",
     "output_type": "stream",
     "text": [
      "accuracy: 0.9741\n"
     ]
    }
   ],
   "source": [
    "y_predicted = s.run(y_pred, {\n",
    "                 X_input: X_test,\n",
    "             })\n",
    "print(\"accuracy: {}\".format(accuracy_score(y_pred=np.argmax(y_predicted, axis=1), y_true=y_test)))"
   ]
  },
  {
   "cell_type": "markdown",
   "metadata": {},
   "source": [
    "### Final accuracy is 97.4 %"
   ]
  },
  {
   "cell_type": "code",
   "execution_count": 28,
   "metadata": {},
   "outputs": [
    {
     "name": "stdout",
     "output_type": "stream",
     "text": [
      "4\n"
     ]
    },
    {
     "data": {
      "text/plain": [
       "<matplotlib.image.AxesImage at 0x12937feb8>"
      ]
     },
     "execution_count": 28,
     "metadata": {},
     "output_type": "execute_result"
    },
    {
     "data": {
      "image/png": "[encoded data removed]",
      "text/plain": [
       "<matplotlib.figure.Figure at 0x124093b70>"
      ]
     },
     "metadata": {},
     "output_type": "display_data"
    }
   ],
   "source": [
    "n=19\n",
    "print(np.argmax(y_predicted, axis=1)[n])\n",
    "plt.imshow(X_test[n])"
   ]
  }
 ],
 "metadata": {
  "kernelspec": {
   "display_name": "TensorFlow",
   "language": "python",
   "name": "tf_venv"
  },
  "language_info": {
   "codemirror_mode": {
    "name": "ipython",
    "version": 3
   },
   "file_extension": ".py",
   "mimetype": "text/x-python",
   "name": "python",
   "nbconvert_exporter": "python",
   "pygments_lexer": "ipython3",
   "version": "3.6.0"
  }
 },
 "nbformat": 4,
 "nbformat_minor": 2
}
